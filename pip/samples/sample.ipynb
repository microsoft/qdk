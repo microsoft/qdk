{
 "cells": [
  {
   "cell_type": "markdown",
   "id": "a2f48f2b",
   "metadata": {},
   "source": [
    "Import the Q# module.\n",
    "\n",
    "This enables the `%%qsharp` magic and initializes a Q# evaluator singleton."
   ]
  },
  {
   "cell_type": "code",
   "execution_count": 3,
   "id": "1e8e4faa",
   "metadata": {},
   "outputs": [],
   "source": [
    "import qsharp"
   ]
  },
  {
   "cell_type": "markdown",
   "id": "3a536d53",
   "metadata": {},
   "source": [
    "Run Q# using the `%%qsharp` magic.\n",
    "\n",
    "_TODO: Calling the operation in the same cell doesn't work, investigate why._\n",
    "\n",
    "_TODO: Namespaces...?_"
   ]
  },
  {
   "cell_type": "code",
   "execution_count": 2,
   "id": "9df62352",
   "metadata": {},
   "outputs": [
    {
     "data": {
      "text/html": [
       "<p>'<Tuple> ()'</p>"
      ],
      "text/plain": [
       "<qsharp.ipython.DisplayableOutput at 0x7f29434e5750>"
      ]
     },
     "execution_count": 2,
     "metadata": {},
     "output_type": "execute_result"
    }
   ],
   "source": [
    "%%qsharp\n",
    "\n",
    "operation Main() : Result {\n",
    "    use q = Qubit();\n",
    "    H(q);\n",
    "    Microsoft.Quantum.Diagnostics.DumpMachine();\n",
    "    let r = M(q);\n",
    "    Message(\"Result: \" + AsString(r));\n",
    "    r\n",
    "};"
   ]
  },
  {
   "cell_type": "markdown",
   "id": "3dfc9531",
   "metadata": {},
   "source": [
    "Call the operation defined above.\n",
    "\n",
    "`DumpMachine()` output is formatted into HTML. (`Message()` output is missing at the moment.) Return value is shown as output."
   ]
  },
  {
   "cell_type": "code",
   "execution_count": 2,
   "id": "bb2a755f",
   "metadata": {},
   "outputs": [
    {
     "name": "stderr",
     "output_type": "stream",
     "text": [
      "UsageError: Cell magic `%%qsharp` not found.\n"
     ]
    }
   ],
   "source": [
    "%%qsharp\n",
    "\n",
    "Main()"
   ]
  },
  {
   "cell_type": "markdown",
   "id": "4584c494",
   "metadata": {},
   "source": [
    "`qsharp.interpret()` does the same thing as the `%%qsharp` magic.\n",
    "\n",
    "`DumpMachine()` and `Message()` output go to stdout (and display in the notebook as plain text output)\n",
    "\n",
    "_TODO: This could take a `shots=` parameter_"
   ]
  },
  {
   "cell_type": "code",
   "execution_count": 4,
   "id": "7d0995bf",
   "metadata": {
    "scrolled": true
   },
   "outputs": [
    {
     "name": "stdout",
     "output_type": "stream",
     "text": [
      "STATE:\n",
      "|0⟩: 0.7071 + 0.0000i\n",
      "|1⟩: 0.7071 + 0.0000i\n",
      "Result: Zero\n"
     ]
    },
    {
     "data": {
      "text/plain": [
       "Result.Zero"
      ]
     },
     "execution_count": 4,
     "metadata": {},
     "output_type": "execute_result"
    }
   ],
   "source": [
    "qsharp.interpret(\"Main()\")"
   ]
  },
  {
   "cell_type": "markdown",
   "id": "a3bde193",
   "metadata": {},
   "source": [
    "Assign a result to a Python variable."
   ]
  },
  {
   "cell_type": "code",
   "execution_count": 5,
   "id": "50383f8a",
   "metadata": {},
   "outputs": [
    {
     "name": "stdout",
     "output_type": "stream",
     "text": [
      "Result: 3 (type: int)\n"
     ]
    }
   ],
   "source": [
    "result = qsharp.interpret(\"1 + 2\")\n",
    "\n",
    "print(f\"Result: {result} (type: {type(result).__name__})\")  "
   ]
  },
  {
   "cell_type": "markdown",
   "id": "a83cf8de",
   "metadata": {},
   "source": [
    "Add some source from a file."
   ]
  },
  {
   "cell_type": "code",
   "execution_count": 4,
   "id": "d5371ee2",
   "metadata": {},
   "outputs": [
    {
     "data": {
      "text/plain": [
       "'<Tuple> ()'"
      ]
     },
     "execution_count": 4,
     "metadata": {},
     "output_type": "execute_result"
    }
   ],
   "source": [
    "qsharp.interpret_file('./sample.qs')"
   ]
  },
  {
   "cell_type": "markdown",
   "id": "6b679cf3",
   "metadata": {},
   "source": [
    "Call an operation from the file."
   ]
  },
  {
   "cell_type": "code",
   "execution_count": 5,
   "id": "f886619d",
   "metadata": {
    "scrolled": false
   },
   "outputs": [
    {
     "data": {
      "text/html": [
       "<table>\n",
       "    <thead><tr>\n",
       "      <th style=\"text-align: left;\">Basis State</th>\n",
       "      <th style=\"text-align: left;\">Amplitude</th>\n",
       "      <th style=\"text-align: left;\">Measurement Probability</th>\n",
       "      <th style=\"text-align: left;\" colspan=\"2\">Phase</th>\n",
       "    </tr></thead>\n",
       "    <tbody><tr>\n",
       "    <td style=\"text-align: left;\"><span style=\"display: inline-block;\">$\\left|00\\right\\rangle$</span></td>\n",
       "    <td style=\"text-align: left;\"><span style=\"display: inline-block;\">$0.5000 + 0.0000i$</span></td>\n",
       "    <td style=\"text-align: left;\">\n",
       "        <progress max=\"100\" value=\"25.00000000000001\"></progress>\n",
       "        <span style=\"display: inline-block;\">$25.0000\\%$</span>\n",
       "    </td>\n",
       "    <td style=\"text-align: center; transform: rotate(0.0000rad)\">&uarr;</td>\n",
       "    <td style=\"text-align: left;\">\n",
       "        <span style=\"display: inline-block;\">$0.0000$</span>\n",
       "</td><tr>\n",
       "    <td style=\"text-align: left;\"><span style=\"display: inline-block;\">$\\left|10\\right\\rangle$</span></td>\n",
       "    <td style=\"text-align: left;\"><span style=\"display: inline-block;\">$-0.5000 - 0.0000i$</span></td>\n",
       "    <td style=\"text-align: left;\">\n",
       "        <progress max=\"100\" value=\"25.00000000000001\"></progress>\n",
       "        <span style=\"display: inline-block;\">$25.0000\\%$</span>\n",
       "    </td>\n",
       "    <td style=\"text-align: center; transform: rotate(-3.1416rad)\">&uarr;</td>\n",
       "    <td style=\"text-align: left;\">\n",
       "        <span style=\"display: inline-block;\">$-3.1416$</span>\n",
       "</td><tr>\n",
       "    <td style=\"text-align: left;\"><span style=\"display: inline-block;\">$\\left|10\\right\\rangle$</span></td>\n",
       "    <td style=\"text-align: left;\"><span style=\"display: inline-block;\">$0.0000 + 0.5000i$</span></td>\n",
       "    <td style=\"text-align: left;\">\n",
       "        <progress max=\"100\" value=\"25.00000000000001\"></progress>\n",
       "        <span style=\"display: inline-block;\">$25.0000\\%$</span>\n",
       "    </td>\n",
       "    <td style=\"text-align: center; transform: rotate(1.5708rad)\">&uarr;</td>\n",
       "    <td style=\"text-align: left;\">\n",
       "        <span style=\"display: inline-block;\">$1.5708$</span>\n",
       "</td><tr>\n",
       "    <td style=\"text-align: left;\"><span style=\"display: inline-block;\">$\\left|11\\right\\rangle$</span></td>\n",
       "    <td style=\"text-align: left;\"><span style=\"display: inline-block;\">$-0.0000 - 0.5000i$</span></td>\n",
       "    <td style=\"text-align: left;\">\n",
       "        <progress max=\"100\" value=\"25.00000000000001\"></progress>\n",
       "        <span style=\"display: inline-block;\">$25.0000\\%$</span>\n",
       "    </td>\n",
       "    <td style=\"text-align: center; transform: rotate(-1.5708rad)\">&uarr;</td>\n",
       "    <td style=\"text-align: left;\">\n",
       "        <span style=\"display: inline-block;\">$-1.5708$</span>\n",
       "</td></tbody>\n",
       " </table><p>'<Tuple> ()'</p>"
      ],
      "text/plain": [
       "<qsharp.ipython.DisplayableOutput at 0x7f995ed800d0>"
      ]
     },
     "execution_count": 5,
     "metadata": {},
     "output_type": "execute_result"
    }
   ],
   "source": [
    "%%qsharp\n",
    "\n",
    "AllBasisVectorsWithPhases_TwoQubits()"
   ]
  },
  {
   "cell_type": "markdown",
   "id": "b06b7857",
   "metadata": {},
   "source": [
    "Errors are exceptions. \n",
    "\n",
    "Catch and handle compilation errors."
   ]
  },
  {
   "cell_type": "code",
   "execution_count": 8,
   "id": "33fd3c4d",
   "metadata": {},
   "outputs": [
    {
     "name": "stdout",
     "output_type": "stream",
     "text": [
      "\u001b[33m`Bar` not found in this scope\u001b[0m\n",
      "\u001b[33m`Baz` not found in this scope\u001b[0m\n"
     ]
    }
   ],
   "source": [
    "from qsharp import ( CompilationException, RuntimeException )\n",
    "\n",
    "try:\n",
    "    qsharp.interpret(\"\"\"\n",
    "operation Foo() : Unit {\n",
    "    Bar();\n",
    "    Baz();\n",
    "}\n",
    "\"\"\")\n",
    "except CompilationException as ex:\n",
    "    for diagnostic in ex.diagnostics:\n",
    "        print(\"\\x1b[33m\" + diagnostic.message + \"\\x1b[0m\")"
   ]
  },
  {
   "cell_type": "markdown",
   "id": "00f82a16",
   "metadata": {},
   "source": [
    "Catch and handle runtime errors."
   ]
  },
  {
   "cell_type": "code",
   "execution_count": 9,
   "id": "e70a95d9",
   "metadata": {},
   "outputs": [
    {
     "name": "stdout",
     "output_type": "stream",
     "text": [
      "\u001b[31mmismatched tuples\u001b[0m\n"
     ]
    }
   ],
   "source": [
    "try:\n",
    "    qsharp.interpret(\"let (x, y, z) = (0, 1);\")\n",
    "except RuntimeException as ex:\n",
    "    for diagnostic in ex.diagnostics:\n",
    "        print(\"\\x1b[31m\" + diagnostic.message + \"\\x1b[0m\")"
   ]
  },
  {
   "cell_type": "markdown",
   "id": "5c630058",
   "metadata": {},
   "source": [
    "_TODO: Do runtime errors contain a stack trace?_"
   ]
  },
  {
   "cell_type": "markdown",
   "id": "ba2f98ad",
   "metadata": {},
   "source": [
    "In `%%qsharp` cells, exceptions are handled and displayed as error text.\n",
    "\n",
    "_TODO: Pretty print compiler errors_"
   ]
  },
  {
   "cell_type": "code",
   "execution_count": 10,
   "id": "1b55e53c",
   "metadata": {
    "scrolled": true
   },
   "outputs": [
    {
     "name": "stdout",
     "output_type": "stream",
     "text": [
      "\u001b[31mmismatched tuples\u001b[0m\n"
     ]
    }
   ],
   "source": [
    "%%qsharp\n",
    "\n",
    "let (x, y, z) = (0, 1);"
   ]
  }
 ],
 "metadata": {
  "kernelspec": {
   "display_name": "Python 3 (ipykernel)",
   "language": "python",
   "name": "python3"
  },
  "language_info": {
   "codemirror_mode": {
    "name": "ipython",
    "version": 3
   },
   "file_extension": ".py",
   "mimetype": "text/x-python",
   "name": "python",
   "nbconvert_exporter": "python",
   "pygments_lexer": "ipython3",
   "version": "3.11.2"
  }
 },
 "nbformat": 4,
 "nbformat_minor": 5
}
