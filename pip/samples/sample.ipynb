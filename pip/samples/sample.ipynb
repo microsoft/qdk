{
  "cells": [
    {
      "cell_type": "markdown",
      "id": "a2f48f2b",
      "metadata": {},
      "source": [
        "Import the Q# module.\n",
        "\n",
        "This enables the `%%qsharp` magic and initializes a Q# interpreter singleton."
      ]
    },
    {
      "cell_type": "markdown",
      "id": "ed1b75bf",
      "metadata": {},
      "source": []
    },
    {
      "cell_type": "code",
      "execution_count": 8,
      "id": "1e8e4faa",
      "metadata": {},
      "outputs": [],
      "source": [
        "import qsharp\n"
      ]
    },
    {
      "cell_type": "markdown",
      "id": "3a536d53",
      "metadata": {},
      "source": [
        "Run Q# using the `%%qsharp` magic.\n",
        "\n",
        "`DumpMachine()` and `Message()` output get formatted as HTML. Return value is shown as cell output."
      ]
    },
    {
      "cell_type": "code",
      "execution_count": 9,
      "id": "9df62352",
      "metadata": {
        "vscode": {
          "languageId": "qsharp"
        }
      },
      "outputs": [
        {
          "data": {
            "text/html": [
              "<table>\n",
              "  <thead>\n",
              "    <tr>\n",
              "      <th style=\"text-align: left\">Basis State<br />(|𝜓₀…𝜓ₙ⟩)</th>\n",
              "      <th style=\"text-align: left\">Amplitude</th>\n",
              "      <th style=\"text-align: left\">Measurement Probability</th>\n",
              "      <th style=\"text-align: left\" colspan=\"2\">Phase</th>\n",
              "    </tr>\n",
              "  </thead>\n",
              "  <tbody>\n",
              "    <tr>\n",
              "  <td style=\"text-align: left\">\n",
              "    <span style=\"display: inline-block\">|111⟩</span>\n",
              "  </td>\n",
              "  <td style=\"text-align: left\">\n",
              "    <span style=\"display: inline-block\">1.0000+0.0000𝑖</span>\n",
              "  </td>\n",
              "  <td style=\"text-align: left\">\n",
              "    <progress max=\"100\" value=\"100\"></progress>\n",
              "    <span style=\"display: inline-block\">100.0000%</span>\n",
              "  </td>\n",
              "  <td style=\"text-align: left; transform: rotate(0.0000rad)\">↑</td>\n",
              "  <td style=\"text-align: left\">\n",
              "    <span style=\"display: inline-block\">0.0000</span>\n",
              "  </td>\n",
              "</tr>\n",
              "\n",
              "  </tbody>\n",
              "</table>\n"
            ],
            "text/plain": [
              "STATE:\n",
              "|111⟩: 1.0000+0.0000𝑖"
            ]
          },
          "metadata": {},
          "output_type": "display_data"
        },
        {
          "data": {
            "text/html": [
              "<p>The result of the measurement is One</p>"
            ],
            "text/plain": [
              "The result of the measurement is One"
            ]
          },
          "metadata": {},
          "output_type": "display_data"
        },
        {
          "data": {
            "text/plain": [
              "One"
            ]
          },
          "execution_count": 9,
          "metadata": {},
          "output_type": "execute_result"
        }
      ],
      "source": [
        "%%qsharp\n",
        "\n",
        "operation Main() : Result {\n",
        "    use q = Qubit();\n",
        "    X(q);\n",
        "    Microsoft.Quantum.Diagnostics.DumpMachine();\n",
        "    let r = M(q);\n",
        "    Message($\"The result of the measurement is {r}\");\n",
        "    Reset(q);\n",
        "    r\n",
        "}\n",
        "\n",
        "Main()\n"
      ]
    },
    {
      "cell_type": "markdown",
      "id": "4584c494",
      "metadata": {},
      "source": [
        "`qsharp.eval()` does the same thing as the `%%qsharp` magic.\n",
        "\n",
        "`DumpMachine()` and `Message()` print to stdout and get displayed in the notebook as plain text"
      ]
    },
    {
      "cell_type": "code",
      "execution_count": 10,
      "id": "7d0995bf",
      "metadata": {
        "scrolled": true
      },
      "outputs": [
        {
          "name": "stdout",
          "output_type": "stream",
          "text": [
            "STATE:\n",
            "|111⟩: 1.0000+0.0000𝑖\n",
            "The result of the measurement is One\n"
          ]
        },
        {
          "data": {
            "text/plain": [
              "One"
            ]
          },
          "execution_count": 10,
          "metadata": {},
          "output_type": "execute_result"
        }
      ],
      "source": [
        "qsharp.eval(\"Main()\")\n"
      ]
    },
    {
      "cell_type": "markdown",
      "id": "a3bde193",
      "metadata": {},
      "source": [
        "Assign a result to a Python variable."
      ]
    },
    {
      "cell_type": "code",
      "execution_count": 11,
      "id": "50383f8a",
      "metadata": {},
      "outputs": [
        {
          "name": "stdout",
          "output_type": "stream",
          "text": [
            "Result: 3 (type: int)\n"
          ]
        }
      ],
      "source": [
        "result = qsharp.eval(\"1 + 2\")\n",
        "\n",
        "print(f\"Result: {result} (type: {type(result).__name__})\")\n"
      ]
    },
    {
      "cell_type": "markdown",
      "id": "b06b7857",
      "metadata": {},
      "source": [
        "Errors are exceptions. \n",
        "\n",
        "Catch and handle compilation errors."
      ]
    },
    {
      "cell_type": "code",
      "execution_count": 12,
      "id": "33fd3c4d",
      "metadata": {},
      "outputs": [
        {
          "name": "stdout",
          "output_type": "stream",
          "text": [
            "\u001b[31mQsc.Resolve.NotFound\u001b[0m\n",
            "\n",
            "  \u001b[31m×\u001b[0m name error\n",
            "\u001b[31m  ╰─▶ \u001b[0m`Bar` not found\n",
            "   ╭─[\u001b[36;1;4mline_9\u001b[0m:2:1]\n",
            " \u001b[2m2\u001b[0m │ operation Foo() : Unit {\n",
            " \u001b[2m3\u001b[0m │     Bar();\n",
            "   · \u001b[35;1m    ───\u001b[0m\n",
            " \u001b[2m4\u001b[0m │     Baz();\n",
            "   ╰────\n",
            "\u001b[31mQsc.Resolve.NotFound\u001b[0m\n",
            "\n",
            "  \u001b[31m×\u001b[0m name error\n",
            "\u001b[31m  ╰─▶ \u001b[0m`Baz` not found\n",
            "   ╭─[\u001b[36;1;4mline_9\u001b[0m:3:1]\n",
            " \u001b[2m3\u001b[0m │     Bar();\n",
            " \u001b[2m4\u001b[0m │     Baz();\n",
            "   · \u001b[35;1m    ───\u001b[0m\n",
            " \u001b[2m5\u001b[0m │ }\n",
            "   ╰────\n",
            "\u001b[31mQsc.TypeCk.AmbiguousTy\u001b[0m\n",
            "\n",
            "  \u001b[31m×\u001b[0m type error\n",
            "\u001b[31m  ╰─▶ \u001b[0minsufficient type information to infer type\n",
            "   ╭─[\u001b[36;1;4mline_9\u001b[0m:2:1]\n",
            " \u001b[2m2\u001b[0m │ operation Foo() : Unit {\n",
            " \u001b[2m3\u001b[0m │     Bar();\n",
            "   · \u001b[35;1m    ─────\u001b[0m\n",
            " \u001b[2m4\u001b[0m │     Baz();\n",
            "   ╰────\n",
            "\u001b[36m  help: \u001b[0mprovide a type annotation\n",
            "\u001b[31mQsc.TypeCk.AmbiguousTy\u001b[0m\n",
            "\n",
            "  \u001b[31m×\u001b[0m type error\n",
            "\u001b[31m  ╰─▶ \u001b[0minsufficient type information to infer type\n",
            "   ╭─[\u001b[36;1;4mline_9\u001b[0m:3:1]\n",
            " \u001b[2m3\u001b[0m │     Bar();\n",
            " \u001b[2m4\u001b[0m │     Baz();\n",
            "   · \u001b[35;1m    ─────\u001b[0m\n",
            " \u001b[2m5\u001b[0m │ }\n",
            "   ╰────\n",
            "\u001b[36m  help: \u001b[0mprovide a type annotation\n",
            "\n"
          ]
        }
      ],
      "source": [
        "from qsharp import QSharpError\n",
        "\n",
        "try:\n",
        "    qsharp.eval(\n",
        "        \"\"\"\n",
        "operation Foo() : Unit {\n",
        "    Bar();\n",
        "    Baz();\n",
        "}\n",
        "\"\"\"\n",
        "    )\n",
        "except QSharpError as ex:\n",
        "    print(ex)\n"
      ]
    },
    {
      "cell_type": "markdown",
      "id": "00f82a16",
      "metadata": {},
      "source": [
        "Catch and handle runtime errors."
      ]
    },
    {
      "cell_type": "code",
      "execution_count": 13,
      "id": "e70a95d9",
      "metadata": {},
      "outputs": [
        {
          "name": "stdout",
          "output_type": "stream",
          "text": [
            "Error: Qubit2 released while not in |0⟩ state\n",
            "Call stack:\n",
            "    at QIR.Runtime.__quantum__rt__qubit_release in core/qir.qs\n",
            "    at Foo in line_10\n",
            "\u001b[31mQsc.Eval.ReleasedQubitNotZero\u001b[0m\n",
            "\n",
            "  \u001b[31m×\u001b[0m runtime error\n",
            "\u001b[31m  ╰─▶ \u001b[0mQubit2 released while not in |0⟩ state\n",
            "   ╭─[\u001b[36;1;4mline_10\u001b[0m:1:1]\n",
            " \u001b[2m1\u001b[0m │ operation Foo() : Unit { use q = Qubit(); X(q) } Foo()\n",
            "   · \u001b[35;1m                         ────────┬───────\u001b[0m\n",
            "   ·                                  \u001b[35;1m╰── \u001b[35;1mQubit2\u001b[0m\u001b[0m\n",
            "   ╰────\n",
            "\u001b[36m  help: \u001b[0mqubits should be returned to the |0⟩ state before being released to\n",
            "        satisfy the assumption that allocated qubits start in the |0⟩ state\n",
            "\n"
          ]
        }
      ],
      "source": [
        "try:\n",
        "    qsharp.eval(\"operation Foo() : Unit { use q = Qubit(); X(q) } Foo()\")\n",
        "except QSharpError as ex:\n",
        "    print(ex)\n"
      ]
    },
    {
      "cell_type": "markdown",
      "id": "3e294471",
      "metadata": {},
      "source": [
        "A runtime error that's not caught gets reported as a Python exception."
      ]
    },
    {
      "cell_type": "code",
      "execution_count": 14,
      "id": "d40d86cb",
      "metadata": {},
      "outputs": [
        {
          "ename": "QSharpError",
          "evalue": "Error: Qubit3 released while not in |0⟩ state\nCall stack:\n    at QIR.Runtime.__quantum__rt__qubit_release in core/qir.qs\n    at Foo in line_11\n\u001b[31mQsc.Eval.ReleasedQubitNotZero\u001b[0m\n\n  \u001b[31m×\u001b[0m runtime error\n\u001b[31m  ╰─▶ \u001b[0mQubit3 released while not in |0⟩ state\n   ╭─[\u001b[36;1;4mline_11\u001b[0m:1:1]\n \u001b[2m1\u001b[0m │ operation Foo() : Unit { use q = Qubit(); X(q) } Foo()\n   · \u001b[35;1m                         ────────┬───────\u001b[0m\n   ·                                  \u001b[35;1m╰── \u001b[35;1mQubit3\u001b[0m\u001b[0m\n   ╰────\n\u001b[36m  help: \u001b[0mqubits should be returned to the |0⟩ state before being released to\n        satisfy the assumption that allocated qubits start in the |0⟩ state\n",
          "output_type": "error",
          "traceback": [
            "\u001b[0;31m---------------------------------------------------------------------------\u001b[0m",
            "\u001b[0;31mQSharpError\u001b[0m                               Traceback (most recent call last)",
            "Cell \u001b[0;32mIn[14], line 1\u001b[0m\n\u001b[0;32m----> 1\u001b[0m \u001b[43mqsharp\u001b[49m\u001b[38;5;241;43m.\u001b[39;49m\u001b[43meval\u001b[49m\u001b[43m(\u001b[49m\u001b[38;5;124;43m\"\u001b[39;49m\u001b[38;5;124;43moperation Foo() : Unit \u001b[39;49m\u001b[38;5;124;43m{\u001b[39;49m\u001b[38;5;124;43m use q = Qubit(); X(q) } Foo()\u001b[39;49m\u001b[38;5;124;43m\"\u001b[39;49m\u001b[43m)\u001b[49m\n",
            "File \u001b[0;32m~/Programming/qsharp/pip/qsharp/_qsharp.py:120\u001b[0m, in \u001b[0;36meval\u001b[0;34m(source)\u001b[0m\n\u001b[1;32m    117\u001b[0m \u001b[38;5;28;01mdef\u001b[39;00m \u001b[38;5;21mcallback\u001b[39m(output: Output) \u001b[38;5;241m-\u001b[39m\u001b[38;5;241m>\u001b[39m \u001b[38;5;28;01mNone\u001b[39;00m:\n\u001b[1;32m    118\u001b[0m     \u001b[38;5;28mprint\u001b[39m(output)\n\u001b[0;32m--> 120\u001b[0m \u001b[38;5;28;01mreturn\u001b[39;00m \u001b[43mget_interpreter\u001b[49m\u001b[43m(\u001b[49m\u001b[43m)\u001b[49m\u001b[38;5;241;43m.\u001b[39;49m\u001b[43minterpret\u001b[49m\u001b[43m(\u001b[49m\u001b[43msource\u001b[49m\u001b[43m,\u001b[49m\u001b[43m \u001b[49m\u001b[43mcallback\u001b[49m\u001b[43m)\u001b[49m\n",
            "\u001b[0;31mQSharpError\u001b[0m: Error: Qubit3 released while not in |0⟩ state\nCall stack:\n    at QIR.Runtime.__quantum__rt__qubit_release in core/qir.qs\n    at Foo in line_11\n\u001b[31mQsc.Eval.ReleasedQubitNotZero\u001b[0m\n\n  \u001b[31m×\u001b[0m runtime error\n\u001b[31m  ╰─▶ \u001b[0mQubit3 released while not in |0⟩ state\n   ╭─[\u001b[36;1;4mline_11\u001b[0m:1:1]\n \u001b[2m1\u001b[0m │ operation Foo() : Unit { use q = Qubit(); X(q) } Foo()\n   · \u001b[35;1m                         ────────┬───────\u001b[0m\n   ·                                  \u001b[35;1m╰── \u001b[35;1mQubit3\u001b[0m\u001b[0m\n   ╰────\n\u001b[36m  help: \u001b[0mqubits should be returned to the |0⟩ state before being released to\n        satisfy the assumption that allocated qubits start in the |0⟩ state\n"
          ]
        }
      ],
      "source": [
        "qsharp.eval(\"operation Foo() : Unit { use q = Qubit(); X(q) } Foo()\")\n"
      ]
    },
    {
      "cell_type": "markdown",
      "id": "ba2f98ad",
      "metadata": {},
      "source": [
        "In `%%qsharp` cells, exceptions are handled and displayed as error text."
      ]
    },
    {
      "cell_type": "code",
      "execution_count": null,
      "id": "1b55e53c",
      "metadata": {
        "scrolled": false,
        "vscode": {
          "languageId": "qsharp"
        }
      },
      "outputs": [],
      "source": [
        "%%qsharp\n",
        "\n",
        "operation Bar() : Unit {\n",
        "    use q = Qubit();\n",
        "    Microsoft.Quantum.Diagnostics.DumpMachine();\n",
        "    X(q);\n",
        "}\n",
        "\n",
        "Bar()\n"
      ]
    },
    {
      "cell_type": "markdown",
      "id": "98247ac2",
      "metadata": {},
      "source": [
        "Streaming output for long running operations."
      ]
    },
    {
      "cell_type": "code",
      "execution_count": null,
      "id": "bd25ae87",
      "metadata": {
        "vscode": {
          "languageId": "qsharp"
        }
      },
      "outputs": [],
      "source": [
        "%%qsharp\n",
        "\n",
        "open Microsoft.Quantum.Diagnostics;\n",
        "\n",
        "operation Main() : Unit {\n",
        "    Message(\"Generating random bit... \");\n",
        "    for i in 0..400000 {\n",
        "        use q = Qubit();\n",
        "        H(q);\n",
        "        let r = M(q);\n",
        "        if (i % 100000) == 0 {\n",
        "            DumpMachine();\n",
        "            Message($\"Result: {r}\");\n",
        "        }\n",
        "        Reset(q);\n",
        "    }\n",
        "}\n",
        "\n",
        "Main()\n"
      ]
    },
    {
      "cell_type": "markdown",
      "id": "2a2d9e7d",
      "metadata": {},
      "source": [
        "Running multiple shots for an expression. Each shot uses an independent instance of the simulator. A list of results (or runtime errors) is returned."
      ]
    },
    {
      "cell_type": "code",
      "execution_count": null,
      "id": "eb3cd29f",
      "metadata": {
        "vscode": {
          "languageId": "qsharp"
        }
      },
      "outputs": [],
      "source": [
        "%%qsharp\n",
        "\n",
        "operation RandomBit() : Result {\n",
        "    use q = Qubit();\n",
        "    H(q);\n",
        "    let res = M(q);\n",
        "    Reset(q);\n",
        "    return res;\n",
        "}\n"
      ]
    },
    {
      "cell_type": "code",
      "execution_count": null,
      "id": "9a9f5335",
      "metadata": {},
      "outputs": [],
      "source": [
        "results = qsharp.run(\"RandomBit()\", 10)\n",
        "\n",
        "results\n"
      ]
    },
    {
      "cell_type": "markdown",
      "id": "6a476e6d",
      "metadata": {},
      "source": [
        "The results can then be processed, e.g. plotted in a histogram using popular Python libraries."
      ]
    },
    {
      "cell_type": "code",
      "execution_count": null,
      "id": "7bd77379",
      "metadata": {},
      "outputs": [],
      "source": [
        "%pip install matplotlib\n"
      ]
    },
    {
      "cell_type": "code",
      "execution_count": null,
      "id": "83cee4e8",
      "metadata": {},
      "outputs": [],
      "source": [
        "import matplotlib.pyplot as plt\n",
        "import numpy as np\n",
        "from collections import Counter\n",
        "\n",
        "# Sort the results so that the histogram labels appear in the correct order\n",
        "results.sort()\n",
        "# Count the number of times each result appears\n",
        "counts = Counter(results)\n",
        "\n",
        "(values, counts) = counts.keys(), counts.values()\n",
        "xlabels = np.arange(len(counts))\n",
        "plt.bar(xlabels, counts)\n",
        "plt.xticks(xlabels, values)\n",
        "plt.show()\n"
      ]
    },
    {
      "cell_type": "code",
      "execution_count": null,
      "id": "eaf766f4",
      "metadata": {},
      "outputs": [],
      "source": [
        "%pip install pandas\n"
      ]
    },
    {
      "cell_type": "code",
      "execution_count": null,
      "id": "8095640a",
      "metadata": {},
      "outputs": [],
      "source": [
        "import pandas\n",
        "from collections import Counter\n",
        "\n",
        "# Sort the results so that the histogram labels appear in the correct order\n",
        "results.sort()\n",
        "pandas.Series(results).value_counts(sort=False).plot(kind='bar')\n"
      ]
    },
    {
      "cell_type": "markdown",
      "id": "990642e4",
      "metadata": {},
      "source": [
        "A compiler error in the entry expression:"
      ]
    },
    {
      "cell_type": "code",
      "execution_count": null,
      "id": "f045ad9c",
      "metadata": {},
      "outputs": [],
      "source": [
        "qsharp.run(\"\"\"RandomBit(\"a\")\"\"\", 10)\n"
      ]
    },
    {
      "cell_type": "markdown",
      "id": "0ba56462",
      "metadata": {},
      "source": [
        "Some shots throw runtime errors:"
      ]
    },
    {
      "cell_type": "code",
      "execution_count": null,
      "id": "9b85eb2d",
      "metadata": {
        "vscode": {
          "languageId": "qsharp"
        }
      },
      "outputs": [],
      "source": [
        "%%qsharp\n",
        "\n",
        "operation Bad() : Unit {\n",
        "    use q = Qubit();\n",
        "    H(q);\n",
        "    let res = M(q);\n",
        "    if (res == One) {\n",
        "        // Do something bad, sometimes\n",
        "        use q2 = Qubit();\n",
        "        X(q2);\n",
        "    }\n",
        "}\n"
      ]
    },
    {
      "cell_type": "code",
      "execution_count": null,
      "id": "2445df05",
      "metadata": {},
      "outputs": [],
      "source": [
        "qsharp.run(\"Bad()\", 10)\n"
      ]
    }
  ],
  "metadata": {
    "kernelspec": {
      "display_name": "Python 3 (ipykernel)",
      "language": "python",
      "name": "python3"
    },
    "language_info": {
      "codemirror_mode": {
        "name": "ipython",
        "version": 3
      },
      "file_extension": ".py",
      "mimetype": "text/x-python",
      "name": "python",
      "nbconvert_exporter": "python",
      "pygments_lexer": "ipython3",
      "version": "3.11.6"
    }
  },
  "nbformat": 4,
  "nbformat_minor": 5
}
