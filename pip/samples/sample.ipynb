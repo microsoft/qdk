{
 "cells": [
  {
   "cell_type": "markdown",
   "id": "a2f48f2b",
   "metadata": {},
   "source": [
    "Import the Q# module.\n",
    "\n",
    "This enables the `%%qsharp` magic and initializes a Q# interpreter singleton."
   ]
  },
  {
   "cell_type": "code",
   "execution_count": 1,
   "id": "1e8e4faa",
   "metadata": {},
   "outputs": [
    {
     "data": {
      "application/javascript": [
       "// Copyright (c) Microsoft Corporation.\n",
       "// Licensed under the MIT License.\n",
       "\n",
       "\n",
       "// This file provides CodeMirror syntax highlighting for Q# magic cells\n",
       "// in classic Jupyter Notebooks. It does nothing in other (Jupyter Notebook 7, \n",
       "// VS Code, Azure Notebooks, etc.) environments.\n",
       "\n",
       "\n",
       "// Detect the prerequisites and do nothing if they don't exist.\n",
       "if (window.require && window.CodeMirror && window.Jupyter) {\n",
       "\n",
       "    // The simple mode plugin for CodeMirror is not loaded by default, so require it.\n",
       "    window.require(['codemirror/addon/mode/simple'], function defineMode() {\n",
       "        let rules = [\n",
       "            {\n",
       "                token: \"comment\",\n",
       "                regex: /(\\/\\/).*/,\n",
       "                beginWord: false,\n",
       "            },\n",
       "            {\n",
       "                token: \"string\",\n",
       "                regex: String.raw`^\\\"(?:[^\\\"\\\\]|\\\\[\\s\\S])*(?:\\\"|$)`,\n",
       "                beginWord: false,\n",
       "            },\n",
       "            {\n",
       "                token: \"keyword\",\n",
       "                regex: String.raw`(namespace|open|as|operation|function|body|adjoint|newtype|controlled|internal)\\b`,\n",
       "                beginWord: true,\n",
       "            },\n",
       "            {\n",
       "                token: \"keyword\",\n",
       "                regex: String.raw`(if|elif|else|repeat|until|fixup|for|in|return|fail|within|apply)\\b`,\n",
       "                beginWord: true,\n",
       "            },\n",
       "            {\n",
       "                token: \"keyword\",\n",
       "                regex: String.raw`(Adjoint|Controlled|Adj|Ctl|is|self|auto|distribute|invert|intrinsic)\\b`,\n",
       "                beginWord: true,\n",
       "            },\n",
       "            {\n",
       "                token: \"keyword\",\n",
       "                regex: String.raw`(let|set|w\\/|new|not|and|or|use|borrow|using|borrowing|newtype|mutable)\\b`,\n",
       "                beginWord: true,\n",
       "            },\n",
       "            {\n",
       "                token: \"meta\",\n",
       "                regex: String.raw`(Int|BigInt|Double|Bool|Qubit|Pauli|Result|Range|String|Unit)\\b`,\n",
       "                beginWord: true,\n",
       "            },\n",
       "            {\n",
       "                token: \"atom\",\n",
       "                regex: String.raw`(true|false|Pauli(I|X|Y|Z)|One|Zero)\\b`,\n",
       "                beginWord: true,\n",
       "            },\n",
       "            {\n",
       "                token: \"builtin\",\n",
       "                regex: String.raw`(X|Y|Z|H|HY|S|T|SWAP|CNOT|CCNOT|MultiX|R|RFrac|Rx|Ry|Rz|R1|R1Frac|Exp|ExpFrac|Measure|M|MultiM)\\b`,\n",
       "                beginWord: true,\n",
       "            },\n",
       "            {\n",
       "                token: \"builtin\",\n",
       "                regex: String.raw`(Message|Length|Assert|AssertProb|AssertEqual)\\b`,\n",
       "                beginWord: true,\n",
       "            }\n",
       "        ];\n",
       "        let simpleRules = [];\n",
       "        for (let rule of rules) {\n",
       "            simpleRules.push({\n",
       "                \"token\": rule.token,\n",
       "                \"regex\": new RegExp(rule.regex, \"g\"),\n",
       "                \"sol\": rule.beginWord\n",
       "            });\n",
       "            if (rule.beginWord) {\n",
       "                // Need an additional rule due to the fact that CodeMirror simple mode doesn't work with ^ token\n",
       "                simpleRules.push({\n",
       "                    \"token\": rule.token,\n",
       "                    \"regex\": new RegExp(String.raw`\\W` + rule.regex, \"g\"),\n",
       "                    \"sol\": false\n",
       "                });\n",
       "            }\n",
       "        }\n",
       "\n",
       "        // Register the mode defined above with CodeMirror\n",
       "        window.CodeMirror.defineSimpleMode('qsharp', { start: simpleRules });\n",
       "        window.CodeMirror.defineMIME(\"text/x-qsharp\", \"qsharp\");\n",
       "\n",
       "        // Tell Jupyter to associate %%qsharp magic cells with the qsharp mode\n",
       "        window.Jupyter.CodeCell.options_default.highlight_modes['qsharp'] = { 'reg': [/^%%qsharp/] }\n",
       "\n",
       "        // Force re-highlighting of all cells the first time this code runs\n",
       "        for (const cell of window.Jupyter.notebook.get_cells()) {\n",
       "            cell.auto_highlight();\n",
       "        }\n",
       "    });\n",
       "}\n"
      ],
      "text/plain": []
     },
     "metadata": {},
     "output_type": "display_data"
    }
   ],
   "source": [
    "import qsharp"
   ]
  },
  {
   "cell_type": "markdown",
   "id": "3a536d53",
   "metadata": {},
   "source": [
    "Run Q# using the `%%qsharp` magic.\n",
    "\n",
    "`DumpMachine()` and `Message()` output get formatted as HTML. Return value is shown as cell output."
   ]
  },
  {
   "cell_type": "code",
   "execution_count": 2,
   "id": "9df62352",
   "metadata": {},
   "outputs": [
    {
     "data": {
      "text/html": [
       "<table>\n",
       "    <thead><tr>\n",
       "      <th style=\"text-align: left;\">Basis State<br/>(|𝜓ₙ…𝜓₁⟩)</th>\n",
       "      <th style=\"text-align: left;\">Amplitude</th>\n",
       "      <th style=\"text-align: left;\">Measurement Probability</th>\n",
       "      <th style=\"text-align: left;\" colspan=\"2\">Phase</th>\n",
       "    </tr></thead>\n",
       "    <tbody><tr>\n",
       "    <td style=\"text-align: left;\"><span style=\"display: inline-block;\">|1⟩</span></td>\n",
       "    <td style=\"text-align: left;\"><span style=\"display: inline-block;\">1.0000+0.0000𝑖</span></td>\n",
       "    <td style=\"text-align: left;\">\n",
       "        <progress max=\"100\" value=\"100\"></progress>\n",
       "        <span style=\"display: inline-block;\">100.0000%</span>\n",
       "    </td>\n",
       "    <td style=\"text-align: left; transform: rotate(0.0000rad)\">↑</td>\n",
       "    <td style=\"text-align: left;\">\n",
       "        <span style=\"display: inline-block;\">0.0000</span>\n",
       "    </td>\n",
       "</tr></tbody>\n",
       " </table>"
      ],
      "text/plain": [
       "STATE:\n",
       "|1⟩: 1.0000+0.0000i"
      ]
     },
     "metadata": {},
     "output_type": "display_data"
    },
    {
     "data": {
      "text/html": [
       "<p>The result of the measurement is One</p>"
      ],
      "text/plain": [
       "The result of the measurement is One"
      ]
     },
     "metadata": {},
     "output_type": "display_data"
    },
    {
     "data": {
      "text/plain": [
       "Result.One"
      ]
     },
     "execution_count": 2,
     "metadata": {},
     "output_type": "execute_result"
    }
   ],
   "source": [
    "%%qsharp\n",
    "\n",
    "operation Main() : Result {\n",
    "    use q = Qubit();\n",
    "    X(q);\n",
    "    Microsoft.Quantum.Diagnostics.DumpMachine();\n",
    "    let r = M(q);\n",
    "    Message($\"The result of the measurement is {r}\");\n",
    "    Reset(q);\n",
    "    r\n",
    "}\n",
    "\n",
    "Main()"
   ]
  },
  {
   "cell_type": "markdown",
   "id": "4584c494",
   "metadata": {},
   "source": [
    "`qsharp.interpret()` does the same thing as the `%%qsharp` magic.\n",
    "\n",
    "`DumpMachine()` and `Message()` print to stdout and get displayed in the notebook as plain text"
   ]
  },
  {
   "cell_type": "code",
   "execution_count": 3,
   "id": "7d0995bf",
   "metadata": {
    "scrolled": true
   },
   "outputs": [
    {
     "name": "stdout",
     "output_type": "stream",
     "text": [
      "STATE:\n",
      "|1⟩: 1.0000+0.0000i\n",
      "The result of the measurement is One\n"
     ]
    },
    {
     "data": {
      "text/plain": [
       "Result.One"
      ]
     },
     "execution_count": 3,
     "metadata": {},
     "output_type": "execute_result"
    }
   ],
   "source": [
    "qsharp.interpret(\"Main()\")"
   ]
  },
  {
   "cell_type": "markdown",
   "id": "a3bde193",
   "metadata": {},
   "source": [
    "Assign a result to a Python variable."
   ]
  },
  {
   "cell_type": "code",
   "execution_count": 4,
   "id": "50383f8a",
   "metadata": {},
   "outputs": [
    {
     "name": "stdout",
     "output_type": "stream",
     "text": [
      "Result: 3 (type: int)\n"
     ]
    }
   ],
   "source": [
    "result = qsharp.interpret(\"1 + 2\")\n",
    "\n",
    "print(f\"Result: {result} (type: {type(result).__name__})\")  "
   ]
  },
  {
   "cell_type": "markdown",
   "id": "b06b7857",
   "metadata": {},
   "source": [
    "Errors are exceptions. \n",
    "\n",
    "Catch and handle compilation errors."
   ]
  },
  {
   "cell_type": "code",
   "execution_count": 5,
   "id": "33fd3c4d",
   "metadata": {},
   "outputs": [
    {
     "name": "stdout",
     "output_type": "stream",
     "text": [
      "\n",
      "  \u001b[31m×\u001b[0m name error\n",
      "\u001b[31m  ╰─▶ \u001b[0m`Bar` not found in this scope\n",
      "   ╭─[2:1]\n",
      " \u001b[2m2\u001b[0m │ operation Foo() : Unit {\n",
      " \u001b[2m3\u001b[0m │     Bar();\n",
      "   · \u001b[35;1m    ───\u001b[0m\n",
      " \u001b[2m4\u001b[0m │     Baz();\n",
      "   ╰────\n",
      "\n",
      "  \u001b[31m×\u001b[0m name error\n",
      "\u001b[31m  ╰─▶ \u001b[0m`Baz` not found in this scope\n",
      "   ╭─[3:1]\n",
      " \u001b[2m3\u001b[0m │     Bar();\n",
      " \u001b[2m4\u001b[0m │     Baz();\n",
      "   · \u001b[35;1m    ───\u001b[0m\n",
      " \u001b[2m5\u001b[0m │ }\n",
      "   ╰────\n",
      "\n"
     ]
    }
   ],
   "source": [
    "from qsharp import QSharpError\n",
    "\n",
    "try:\n",
    "    qsharp.interpret(\"\"\"\n",
    "operation Foo() : Unit {\n",
    "    Bar();\n",
    "    Baz();\n",
    "}\n",
    "\"\"\")\n",
    "except QSharpError as ex:\n",
    "    print(ex)"
   ]
  },
  {
   "cell_type": "markdown",
   "id": "00f82a16",
   "metadata": {},
   "source": [
    "Catch and handle runtime errors."
   ]
  },
  {
   "cell_type": "code",
   "execution_count": 6,
   "id": "e70a95d9",
   "metadata": {},
   "outputs": [
    {
     "name": "stdout",
     "output_type": "stream",
     "text": [
      "Error: Qubit0 released while not in |0⟩ state\n",
      "Call stack:\n",
      "    at Foo in <expression>\n",
      "\n",
      "  \u001b[31m×\u001b[0m runtime error\n",
      "\u001b[31m  ╰─▶ \u001b[0mQubit0 released while not in |0⟩ state\n",
      "   ╭────\n",
      " \u001b[2m1\u001b[0m │ operation Foo() : Unit { use q = Qubit(); X(q) } Foo()\n",
      "   · \u001b[35;1m                                 ───────\u001b[0m\n",
      "   ╰────\n",
      "\n"
     ]
    }
   ],
   "source": [
    "try:\n",
    "    qsharp.interpret(\"operation Foo() : Unit { use q = Qubit(); X(q) } Foo()\")\n",
    "except QSharpError as ex:\n",
    "    print(ex)"
   ]
  },
  {
   "cell_type": "markdown",
   "id": "3e294471",
   "metadata": {},
   "source": [
    "A runtime error that's not caught gets reported as a Python exception."
   ]
  },
  {
   "cell_type": "code",
   "execution_count": 7,
   "id": "d40d86cb",
   "metadata": {},
   "outputs": [
    {
     "ename": "QSharpError",
     "evalue": "Error: Qubit1 released while not in |0⟩ state\nCall stack:\n    at Foo in <expression>\n\n  \u001b[31m×\u001b[0m runtime error\n\u001b[31m  ╰─▶ \u001b[0mQubit1 released while not in |0⟩ state\n   ╭────\n \u001b[2m1\u001b[0m │ operation Foo() : Unit { use q = Qubit(); X(q) } Foo()\n   · \u001b[35;1m                                 ───────\u001b[0m\n   ╰────\n",
     "output_type": "error",
     "traceback": [
      "\u001b[0;31m---------------------------------------------------------------------------\u001b[0m",
      "\u001b[0;31mQSharpError\u001b[0m                               Traceback (most recent call last)",
      "Cell \u001b[0;32mIn[7], line 1\u001b[0m\n\u001b[0;32m----> 1\u001b[0m qsharp\u001b[38;5;241m.\u001b[39minterpret(\u001b[38;5;124m\"\u001b[39m\u001b[38;5;124moperation Foo() : Unit \u001b[39m\u001b[38;5;124m{\u001b[39m\u001b[38;5;124m use q = Qubit(); X(q) } Foo()\u001b[39m\u001b[38;5;124m\"\u001b[39m)\n",
      "File \u001b[0;32m~/src/qsharp/pip/qsharp/_qsharp.py:23\u001b[0m, in \u001b[0;36minterpret\u001b[0;34m(line)\u001b[0m\n\u001b[1;32m     20\u001b[0m \u001b[38;5;28;01mdef\u001b[39;00m \u001b[38;5;21mcallback\u001b[39m(output):\n\u001b[1;32m     21\u001b[0m     \u001b[38;5;28mprint\u001b[39m(output)\n\u001b[0;32m---> 23\u001b[0m \u001b[38;5;28;01mreturn\u001b[39;00m _interpreter\u001b[38;5;241m.\u001b[39minterpret(line, callback)\n",
      "\u001b[0;31mQSharpError\u001b[0m: Error: Qubit1 released while not in |0⟩ state\nCall stack:\n    at Foo in <expression>\n\n  \u001b[31m×\u001b[0m runtime error\n\u001b[31m  ╰─▶ \u001b[0mQubit1 released while not in |0⟩ state\n   ╭────\n \u001b[2m1\u001b[0m │ operation Foo() : Unit { use q = Qubit(); X(q) } Foo()\n   · \u001b[35;1m                                 ───────\u001b[0m\n   ╰────\n"
     ]
    }
   ],
   "source": [
    "qsharp.interpret(\"operation Foo() : Unit { use q = Qubit(); X(q) } Foo()\")"
   ]
  },
  {
   "cell_type": "markdown",
   "id": "ba2f98ad",
   "metadata": {},
   "source": [
    "In `%%qsharp` cells, exceptions are handled and displayed as error text."
   ]
  },
  {
   "cell_type": "code",
   "execution_count": 8,
   "id": "1b55e53c",
   "metadata": {
    "scrolled": false
   },
   "outputs": [
    {
     "data": {
      "text/html": [
       "<table>\n",
       "    <thead><tr>\n",
       "      <th style=\"text-align: left;\">Basis State<br/>(|𝜓ₙ…𝜓₁⟩)</th>\n",
       "      <th style=\"text-align: left;\">Amplitude</th>\n",
       "      <th style=\"text-align: left;\">Measurement Probability</th>\n",
       "      <th style=\"text-align: left;\" colspan=\"2\">Phase</th>\n",
       "    </tr></thead>\n",
       "    <tbody><tr>\n",
       "    <td style=\"text-align: left;\"><span style=\"display: inline-block;\">|011⟩</span></td>\n",
       "    <td style=\"text-align: left;\"><span style=\"display: inline-block;\">1.0000+0.0000𝑖</span></td>\n",
       "    <td style=\"text-align: left;\">\n",
       "        <progress max=\"100\" value=\"100\"></progress>\n",
       "        <span style=\"display: inline-block;\">100.0000%</span>\n",
       "    </td>\n",
       "    <td style=\"text-align: left; transform: rotate(0.0000rad)\">↑</td>\n",
       "    <td style=\"text-align: left;\">\n",
       "        <span style=\"display: inline-block;\">0.0000</span>\n",
       "    </td>\n",
       "</tr></tbody>\n",
       " </table>"
      ],
      "text/plain": [
       "STATE:\n",
       "|011⟩: 1.0000+0.0000i"
      ]
     },
     "metadata": {},
     "output_type": "display_data"
    },
    {
     "data": {
      "text/plain": [
       "Error: Qubit2 released while not in |0⟩ state\n",
       "Call stack:\n",
       "    at Bar in <expression>\n",
       "\n",
       "  \u001b[31m×\u001b[0m runtime error\n",
       "\u001b[31m  ╰─▶ \u001b[0mQubit2 released while not in |0⟩ state\n",
       "   ╭─[2:1]\n",
       " \u001b[2m2\u001b[0m │ operation Bar() : Unit {\n",
       " \u001b[2m3\u001b[0m │     use q = Qubit(); \n",
       "   · \u001b[35;1m            ───────\u001b[0m\n",
       " \u001b[2m4\u001b[0m │     Microsoft.Quantum.Diagnostics.DumpMachine(); \n",
       "   ╰────\n"
      ]
     },
     "metadata": {},
     "output_type": "display_data"
    }
   ],
   "source": [
    "%%qsharp\n",
    "\n",
    "operation Bar() : Unit {\n",
    "    use q = Qubit(); \n",
    "    Microsoft.Quantum.Diagnostics.DumpMachine(); \n",
    "    X(q);\n",
    "} \n",
    "    \n",
    "Bar()"
   ]
  },
  {
   "cell_type": "markdown",
   "id": "98247ac2",
   "metadata": {},
   "source": [
    "Streaming output for long running operations."
   ]
  },
  {
   "cell_type": "code",
   "execution_count": 9,
   "id": "bd25ae87",
   "metadata": {},
   "outputs": [
    {
     "data": {
      "text/html": [
       "<p>Generating random bit... </p>"
      ],
      "text/plain": [
       "Generating random bit... "
      ]
     },
     "metadata": {},
     "output_type": "display_data"
    },
    {
     "data": {
      "text/html": [
       "<table>\n",
       "    <thead><tr>\n",
       "      <th style=\"text-align: left;\">Basis State<br/>(|𝜓ₙ…𝜓₁⟩)</th>\n",
       "      <th style=\"text-align: left;\">Amplitude</th>\n",
       "      <th style=\"text-align: left;\">Measurement Probability</th>\n",
       "      <th style=\"text-align: left;\" colspan=\"2\">Phase</th>\n",
       "    </tr></thead>\n",
       "    <tbody><tr>\n",
       "    <td style=\"text-align: left;\"><span style=\"display: inline-block;\">|0111⟩</span></td>\n",
       "    <td style=\"text-align: left;\"><span style=\"display: inline-block;\">1.0000+0.0000𝑖</span></td>\n",
       "    <td style=\"text-align: left;\">\n",
       "        <progress max=\"100\" value=\"100\"></progress>\n",
       "        <span style=\"display: inline-block;\">100.0000%</span>\n",
       "    </td>\n",
       "    <td style=\"text-align: left; transform: rotate(0.0000rad)\">↑</td>\n",
       "    <td style=\"text-align: left;\">\n",
       "        <span style=\"display: inline-block;\">0.0000</span>\n",
       "    </td>\n",
       "</tr></tbody>\n",
       " </table>"
      ],
      "text/plain": [
       "STATE:\n",
       "|0111⟩: 1.0000+0.0000i"
      ]
     },
     "metadata": {},
     "output_type": "display_data"
    },
    {
     "data": {
      "text/html": [
       "<p>Result: Zero</p>"
      ],
      "text/plain": [
       "Result: Zero"
      ]
     },
     "metadata": {},
     "output_type": "display_data"
    },
    {
     "data": {
      "text/html": [
       "<table>\n",
       "    <thead><tr>\n",
       "      <th style=\"text-align: left;\">Basis State<br/>(|𝜓ₙ…𝜓₁⟩)</th>\n",
       "      <th style=\"text-align: left;\">Amplitude</th>\n",
       "      <th style=\"text-align: left;\">Measurement Probability</th>\n",
       "      <th style=\"text-align: left;\" colspan=\"2\">Phase</th>\n",
       "    </tr></thead>\n",
       "    <tbody><tr>\n",
       "    <td style=\"text-align: left;\"><span style=\"display: inline-block;\">|0111⟩</span></td>\n",
       "    <td style=\"text-align: left;\"><span style=\"display: inline-block;\">1.0000+0.0000𝑖</span></td>\n",
       "    <td style=\"text-align: left;\">\n",
       "        <progress max=\"100\" value=\"100\"></progress>\n",
       "        <span style=\"display: inline-block;\">100.0000%</span>\n",
       "    </td>\n",
       "    <td style=\"text-align: left; transform: rotate(0.0000rad)\">↑</td>\n",
       "    <td style=\"text-align: left;\">\n",
       "        <span style=\"display: inline-block;\">0.0000</span>\n",
       "    </td>\n",
       "</tr></tbody>\n",
       " </table>"
      ],
      "text/plain": [
       "STATE:\n",
       "|0111⟩: 1.0000+0.0000i"
      ]
     },
     "metadata": {},
     "output_type": "display_data"
    },
    {
     "data": {
      "text/html": [
       "<p>Result: Zero</p>"
      ],
      "text/plain": [
       "Result: Zero"
      ]
     },
     "metadata": {},
     "output_type": "display_data"
    },
    {
     "data": {
      "text/html": [
       "<table>\n",
       "    <thead><tr>\n",
       "      <th style=\"text-align: left;\">Basis State<br/>(|𝜓ₙ…𝜓₁⟩)</th>\n",
       "      <th style=\"text-align: left;\">Amplitude</th>\n",
       "      <th style=\"text-align: left;\">Measurement Probability</th>\n",
       "      <th style=\"text-align: left;\" colspan=\"2\">Phase</th>\n",
       "    </tr></thead>\n",
       "    <tbody><tr>\n",
       "    <td style=\"text-align: left;\"><span style=\"display: inline-block;\">|0111⟩</span></td>\n",
       "    <td style=\"text-align: left;\"><span style=\"display: inline-block;\">1.0000+0.0000𝑖</span></td>\n",
       "    <td style=\"text-align: left;\">\n",
       "        <progress max=\"100\" value=\"100\"></progress>\n",
       "        <span style=\"display: inline-block;\">100.0000%</span>\n",
       "    </td>\n",
       "    <td style=\"text-align: left; transform: rotate(0.0000rad)\">↑</td>\n",
       "    <td style=\"text-align: left;\">\n",
       "        <span style=\"display: inline-block;\">0.0000</span>\n",
       "    </td>\n",
       "</tr></tbody>\n",
       " </table>"
      ],
      "text/plain": [
       "STATE:\n",
       "|0111⟩: 1.0000+0.0000i"
      ]
     },
     "metadata": {},
     "output_type": "display_data"
    },
    {
     "data": {
      "text/html": [
       "<p>Result: Zero</p>"
      ],
      "text/plain": [
       "Result: Zero"
      ]
     },
     "metadata": {},
     "output_type": "display_data"
    },
    {
     "data": {
      "text/html": [
       "<table>\n",
       "    <thead><tr>\n",
       "      <th style=\"text-align: left;\">Basis State<br/>(|𝜓ₙ…𝜓₁⟩)</th>\n",
       "      <th style=\"text-align: left;\">Amplitude</th>\n",
       "      <th style=\"text-align: left;\">Measurement Probability</th>\n",
       "      <th style=\"text-align: left;\" colspan=\"2\">Phase</th>\n",
       "    </tr></thead>\n",
       "    <tbody><tr>\n",
       "    <td style=\"text-align: left;\"><span style=\"display: inline-block;\">|0111⟩</span></td>\n",
       "    <td style=\"text-align: left;\"><span style=\"display: inline-block;\">1.0000+0.0000𝑖</span></td>\n",
       "    <td style=\"text-align: left;\">\n",
       "        <progress max=\"100\" value=\"100\"></progress>\n",
       "        <span style=\"display: inline-block;\">100.0000%</span>\n",
       "    </td>\n",
       "    <td style=\"text-align: left; transform: rotate(0.0000rad)\">↑</td>\n",
       "    <td style=\"text-align: left;\">\n",
       "        <span style=\"display: inline-block;\">0.0000</span>\n",
       "    </td>\n",
       "</tr></tbody>\n",
       " </table>"
      ],
      "text/plain": [
       "STATE:\n",
       "|0111⟩: 1.0000+0.0000i"
      ]
     },
     "metadata": {},
     "output_type": "display_data"
    },
    {
     "data": {
      "text/html": [
       "<p>Result: Zero</p>"
      ],
      "text/plain": [
       "Result: Zero"
      ]
     },
     "metadata": {},
     "output_type": "display_data"
    },
    {
     "data": {
      "text/html": [
       "<table>\n",
       "    <thead><tr>\n",
       "      <th style=\"text-align: left;\">Basis State<br/>(|𝜓ₙ…𝜓₁⟩)</th>\n",
       "      <th style=\"text-align: left;\">Amplitude</th>\n",
       "      <th style=\"text-align: left;\">Measurement Probability</th>\n",
       "      <th style=\"text-align: left;\" colspan=\"2\">Phase</th>\n",
       "    </tr></thead>\n",
       "    <tbody><tr>\n",
       "    <td style=\"text-align: left;\"><span style=\"display: inline-block;\">|0111⟩</span></td>\n",
       "    <td style=\"text-align: left;\"><span style=\"display: inline-block;\">1.0000+0.0000𝑖</span></td>\n",
       "    <td style=\"text-align: left;\">\n",
       "        <progress max=\"100\" value=\"100\"></progress>\n",
       "        <span style=\"display: inline-block;\">100.0000%</span>\n",
       "    </td>\n",
       "    <td style=\"text-align: left; transform: rotate(0.0000rad)\">↑</td>\n",
       "    <td style=\"text-align: left;\">\n",
       "        <span style=\"display: inline-block;\">0.0000</span>\n",
       "    </td>\n",
       "</tr></tbody>\n",
       " </table>"
      ],
      "text/plain": [
       "STATE:\n",
       "|0111⟩: 1.0000+0.0000i"
      ]
     },
     "metadata": {},
     "output_type": "display_data"
    },
    {
     "data": {
      "text/html": [
       "<p>Result: Zero</p>"
      ],
      "text/plain": [
       "Result: Zero"
      ]
     },
     "metadata": {},
     "output_type": "display_data"
    }
   ],
   "source": [
    "%%qsharp\n",
    "\n",
    "open Microsoft.Quantum.Diagnostics;\n",
    "\n",
    "operation Main() : Unit {\n",
    "    Message(\"Generating random bit... \");\n",
    "    for i in 0..400000 {\n",
    "        use q = Qubit();\n",
    "        H(q);\n",
    "        let r = M(q);\n",
    "        if (i % 100000) == 0 {\n",
    "            DumpMachine();\n",
    "            Message($\"Result: {r}\");\n",
    "        }\n",
    "        Reset(q);\n",
    "    }\n",
    "}\n",
    "\n",
    "Main()"
   ]
  }
 ],
 "metadata": {
  "kernelspec": {
   "display_name": "Python 3 (ipykernel)",
   "language": "python",
   "name": "python3"
  },
  "language_info": {
   "codemirror_mode": {
    "name": "ipython",
    "version": 3
   },
   "file_extension": ".py",
   "mimetype": "text/x-python",
   "name": "python",
   "nbconvert_exporter": "python",
   "pygments_lexer": "ipython3",
   "version": "3.11.3"
  }
 },
 "nbformat": 4,
 "nbformat_minor": 5
}
