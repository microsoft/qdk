{
 "cells": [
  {
   "cell_type": "markdown",
   "id": "a2f48f2b",
   "metadata": {},
   "source": [
    "Import the Q# module.\n",
    "\n",
    "This enables the `%%qsharp` magic and initializes a Q# interpreter singleton."
   ]
  },
  {
   "cell_type": "code",
   "execution_count": 1,
   "id": "1e8e4faa",
   "metadata": {},
   "outputs": [],
   "source": [
    "import qsharp"
   ]
  },
  {
   "attachments": {},
   "cell_type": "markdown",
   "id": "3a536d53",
   "metadata": {},
   "source": [
    "Run Q# using the `%%qsharp` magic.\n",
    "\n",
    "`DumpMachine()` and `Message()` output get formatted as HTML. Return value is shown as cell output."
   ]
  },
  {
   "cell_type": "code",
   "execution_count": 2,
   "id": "9df62352",
   "metadata": {},
   "outputs": [
    {
     "data": {
      "text/html": [
       "<table>\n",
       "    <thead><tr>\n",
       "      <th style=\"text-align: left;\">Basis State<br/>(|𝜓ₙ…𝜓₁⟩)</th>\n",
       "      <th style=\"text-align: left;\">Amplitude</th>\n",
       "      <th style=\"text-align: left;\">Measurement Probability</th>\n",
       "      <th style=\"text-align: left;\" colspan=\"2\">Phase</th>\n",
       "    </tr></thead>\n",
       "    <tbody><tr>\n",
       "    <td style=\"text-align: left;\"><span style=\"display: inline-block;\">|1⟩</span></td>\n",
       "    <td style=\"text-align: left;\"><span style=\"display: inline-block;\">1.0000+0.0000𝑖</span></td>\n",
       "    <td style=\"text-align: left;\">\n",
       "        <progress max=\"100\" value=\"100\"></progress>\n",
       "        <span style=\"display: inline-block;\">100.0000%</span>\n",
       "    </td>\n",
       "    <td style=\"text-align: left; transform: rotate(0.0000rad)\">↑</td>\n",
       "    <td style=\"text-align: left;\">\n",
       "        <span style=\"display: inline-block;\">0.0000</span>\n",
       "    </td>\n",
       "</tr></tbody>\n",
       " </table>The result of the measurement is One<p>Result.One</p>"
      ],
      "text/plain": [
       "<qsharp._ipython.DisplayableOutput at 0x7f8f2f002310>"
      ]
     },
     "execution_count": 2,
     "metadata": {},
     "output_type": "execute_result"
    }
   ],
   "source": [
    "%%qsharp\n",
    "\n",
    "operation Main() : Result {\n",
    "    use q = Qubit();\n",
    "    X(q);\n",
    "    Microsoft.Quantum.Diagnostics.DumpMachine();\n",
    "    let r = M(q);\n",
    "    Message(\"The result of the measurement is \" + AsString(r));\n",
    "    Reset(q);\n",
    "    r\n",
    "}\n",
    "\n",
    "Main()"
   ]
  },
  {
   "attachments": {},
   "cell_type": "markdown",
   "id": "4584c494",
   "metadata": {},
   "source": [
    "`qsharp.interpret()` does the same thing as the `%%qsharp` magic.\n",
    "\n",
    "`DumpMachine()` and `Message()` print to stdout and get displayed in the notebook as plain text"
   ]
  },
  {
   "cell_type": "code",
   "execution_count": 3,
   "id": "7d0995bf",
   "metadata": {
    "scrolled": true
   },
   "outputs": [
    {
     "name": "stdout",
     "output_type": "stream",
     "text": [
      "STATE:\n",
      "|1⟩: 1.0000+0.0000i\n",
      "The result of the measurement is One\n"
     ]
    },
    {
     "data": {
      "text/plain": [
       "Result.One"
      ]
     },
     "execution_count": 3,
     "metadata": {},
     "output_type": "execute_result"
    }
   ],
   "source": [
    "qsharp.interpret(\"Main()\")"
   ]
  },
  {
   "cell_type": "markdown",
   "id": "a3bde193",
   "metadata": {},
   "source": [
    "Assign a result to a Python variable."
   ]
  },
  {
   "cell_type": "code",
   "execution_count": 4,
   "id": "50383f8a",
   "metadata": {},
   "outputs": [
    {
     "name": "stdout",
     "output_type": "stream",
     "text": [
      "Result: 3 (type: int)\n"
     ]
    }
   ],
   "source": [
    "result = qsharp.interpret(\"1 + 2\")\n",
    "\n",
    "print(f\"Result: {result} (type: {type(result).__name__})\")  "
   ]
  },
  {
   "cell_type": "markdown",
   "id": "b06b7857",
   "metadata": {},
   "source": [
    "Errors are exceptions. \n",
    "\n",
    "Catch and handle compilation errors."
   ]
  },
  {
   "cell_type": "code",
   "execution_count": 5,
   "id": "33fd3c4d",
   "metadata": {},
   "outputs": [
    {
     "name": "stdout",
     "output_type": "stream",
     "text": [
      "\u001b[33mname error\u001b[0m\n",
      "\u001b[33mname error\u001b[0m\n"
     ]
    }
   ],
   "source": [
    "from qsharp import ( CompilationException, RuntimeException )\n",
    "\n",
    "try:\n",
    "    qsharp.interpret(\"\"\"\n",
    "operation Foo() : Unit {\n",
    "    Bar();\n",
    "    Baz();\n",
    "}\n",
    "\"\"\")\n",
    "except CompilationException as ex:\n",
    "    for diagnostic in ex.diagnostics:\n",
    "        print(\"\\x1b[33m\" + diagnostic.message + \"\\x1b[0m\")"
   ]
  },
  {
   "cell_type": "markdown",
   "id": "00f82a16",
   "metadata": {},
   "source": [
    "Catch and handle runtime errors."
   ]
  },
  {
   "cell_type": "code",
   "execution_count": 6,
   "id": "e70a95d9",
   "metadata": {},
   "outputs": [
    {
     "name": "stdout",
     "output_type": "stream",
     "text": [
      "\u001b[31mQubit0 released while not in |0⟩ state\u001b[0m\n"
     ]
    }
   ],
   "source": [
    "try:\n",
    "    qsharp.interpret(\"\"\"\n",
    "    operation Main(): Unit {\n",
    "        use q = Qubit();\n",
    "        X(q);\n",
    "    }\n",
    "    Main()\n",
    "    \"\"\")\n",
    "except RuntimeException as ex:\n",
    "    for diagnostic in ex.diagnostics:\n",
    "        print(\"\\x1b[31m\" + diagnostic.message + \"\\x1b[0m\")"
   ]
  },
  {
   "cell_type": "markdown",
   "id": "ba2f98ad",
   "metadata": {},
   "source": [
    "In `%%qsharp` cells, exceptions are handled and displayed as error text."
   ]
  },
  {
   "cell_type": "code",
   "execution_count": 7,
   "id": "1b55e53c",
   "metadata": {
    "scrolled": true
   },
   "outputs": [
    {
     "name": "stdout",
     "output_type": "stream",
     "text": [
      "\u001b[31mQubit1 released while not in |0⟩ state\u001b[0m\n"
     ]
    }
   ],
   "source": [
    "%%qsharp\n",
    "\n",
    "operation Main(): Unit {\n",
    "    use q = Qubit();\n",
    "    X(q);\n",
    "}\n",
    "Main()"
   ]
  }
 ],
 "metadata": {
  "kernelspec": {
   "display_name": "Python 3 (ipykernel)",
   "language": "python",
   "name": "python3"
  },
  "language_info": {
   "codemirror_mode": {
    "name": "ipython",
    "version": 3
   },
   "file_extension": ".py",
   "mimetype": "text/x-python",
   "name": "python",
   "nbconvert_exporter": "python",
   "pygments_lexer": "ipython3",
   "version": "3.11.3"
  }
 },
 "nbformat": 4,
 "nbformat_minor": 5
}
