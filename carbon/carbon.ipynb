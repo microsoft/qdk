{
 "cells": [
  {
   "cell_type": "code",
   "execution_count": null,
   "id": "1929d94c",
   "metadata": {},
   "outputs": [],
   "source": [
    "from carbon import c12, decoding\n",
    "from typing import Sequence\n",
    "from collections import Counter\n",
    "from errata.pauli import SparsePauli as Pauli\n",
    "import qsharp\n",
    "\n",
    "# Initialize Q# with the project and adaptive profile configured\n",
    "qsharp.init(target_profile=qsharp.TargetProfile.Adaptive_RIF, project_root=\".\")"
   ]
  },
  {
   "cell_type": "code",
   "execution_count": null,
   "id": "773d537a",
   "metadata": {},
   "outputs": [],
   "source": [
    "# Set up the C12 decoders\n",
    "\n",
    "# Create a lookup table for the code that will be used for converting\n",
    "# syndromes to recoveries.\n",
    "table = decoding.make_phenomenological_table(max_css_weight=1)\n",
    "\n",
    "# Utility for converting a Q# syndrome measurement into a Pauli for use in\n",
    "# recovery logic.\n",
    "def results_as_pauli(results: Sequence[qsharp.Result], pauli: str = \"Z\") -> Pauli:\n",
    "    p = \"\"\n",
    "    for r in results:\n",
    "        if r == qsharp.Result.One:\n",
    "            p += pauli\n",
    "        else:\n",
    "            p += \"I\"\n",
    "    return Pauli.from_string(p)\n",
    "\n",
    "# Utility or converting a pauli to a Q# result array assuming the given basis\n",
    "# and count. Pauli I and the given basis are treated as Zero, remaining Pauli\n",
    "# characters are interpreted as One.\n",
    "def pauli_as_results(p: Pauli, basis: str = \"Z\", count: int = 2):\n",
    "    results = []\n",
    "    chars = \"XYZ\".replace(basis, \"\")\n",
    "    for i in range(count):\n",
    "        if p[i] in chars:\n",
    "            results.append(qsharp.Result.One)\n",
    "        else:\n",
    "            results.append(qsharp.Result.Zero)\n",
    "    return results\n",
    "\n",
    "# Given an X syndrome measurement and a Z syndrome measurement,\n",
    "# calculate the logical recovery for the combined syndrome, using the global\n",
    "# lookup table.\n",
    "def recovery_from_syndrome_measurements(x_meas: Sequence[qsharp.Result], z_meas: Sequence[qsharp.Result]) -> Pauli:\n",
    "    error_z = results_as_pauli(x_meas, pauli=\"Z\")\n",
    "    error_x = results_as_pauli(z_meas, pauli=\"X\")\n",
    "    error = error_z * error_x\n",
    "    syndrome = frozenset(c12.code.syndrome_of(error))\n",
    "    recovery = table.get(syndrome, None)\n",
    "    return abs(c12.code.logical_action_of(recovery * error))\n",
    "\n",
    "# For each tuple of shot results, mark the shot as preselect if any preselect\n",
    "# measurement is One. Then use the rounds of error correction syndrome measurements\n",
    "# to generate Pauli corrections, collected in a frame. Use the final Pauli frame\n",
    "# to calculate the corrected logical results.\n",
    "def decode_results(results, basis: str = \"Z\"):\n",
    "    corrected_logical_results = []\n",
    "    for res in results:\n",
    "        corrected_logical_results.append([])\n",
    "        for shot in res:\n",
    "            if any([preselect != qsharp.Result.Zero for preselect in shot[0]]):\n",
    "                corrected_logical_results += [\"PREselect\"]\n",
    "                continue\n",
    "            recovery = Pauli.identity()\n",
    "            r = None\n",
    "            for ec_output in shot[1]:\n",
    "                r = recovery_from_syndrome_measurements(ec_output[0], ec_output[1])\n",
    "                if r is None:\n",
    "                    corrected_logical_results += [\"POSTselect\"]\n",
    "                    break\n",
    "                recovery *= r\n",
    "            if r is None:\n",
    "                corrected_logical_results += [pauli_as_results(recovery, basis=basis)]\n",
    "                continue\n",
    "            if basis == \"Z\":\n",
    "                r = recovery_from_syndrome_measurements([], shot[2])\n",
    "            else:\n",
    "                assert basis == \"X\"\n",
    "                r = recovery_from_syndrome_measurements(shot[2], [])\n",
    "            if r is None:\n",
    "                corrected_logical_results += [\"POSTselect\"]\n",
    "                continue\n",
    "            recovery *= r\n",
    "            corrected_logical_results[-1] += [pauli_as_results(recovery, basis=basis)]\n",
    "    return corrected_logical_results"
   ]
  },
  {
   "cell_type": "code",
   "execution_count": null,
   "id": "6177ed62",
   "metadata": {
    "vscode": {
     "languageId": "qsharp"
    }
   },
   "outputs": [],
   "source": [
    "%%qsharp\n",
    "import Std.Diagnostics.Fact;\n",
    "import Utils.TransversalCNOT;\n",
    "import C12;\n",
    "\n",
    "operation PerformTeleportExperiment(ec_repetitions : Int, basis : Pauli, num_blocks : Int) : (Result[], (Result[], Result[])[], Result[])[] {\n",
    "    Fact(num_blocks > 0, \"need at least one block\");\n",
    "    use qubits = Qubit[(12 + 16) * num_blocks];\n",
    "    mutable results = [];\n",
    "    for i in 0..(num_blocks - 1) {\n",
    "        let logical_block = qubits[(0+(i*28))..(11+(i*28))];\n",
    "        let ancillas = qubits[(12+(i*28))..(27+(i*28))];\n",
    "        // The last 8 qubits are padding.\n",
    "\n",
    "        results += [C12_Mark2_1Q_Teleport(ec_repetitions, basis, logical_block, ancillas)];\n",
    "    }\n",
    "    return results;\n",
    "}\n",
    "\n",
    "operation C12_Mark2_1Q_Teleport(ec_repetitions : Int, basis : Pauli, logical_block : Qubit[], ancillas : Qubit[]) : (Result[], (Result[], Result[])[], Result[]) {\n",
    "    Fact(basis == PauliZ or basis == PauliX or basis == PauliI, \"only PauliZ and PauliX supported\");\n",
    "    Fact(Length(logical_block) == 12, \"logical block must be 12 qubits\");\n",
    "    Fact(Length(ancillas) == 16, \"need 16 ancillas\");\n",
    "\n",
    "    // Prepare in the requested basis\n",
    "    mutable preselect = if basis == PauliX {\n",
    "        C12.PrepareXX(logical_block, ancillas[...3])\n",
    "    } else {\n",
    "        C12.PrepareZZ(logical_block, ancillas[...3])\n",
    "    };\n",
    "\n",
    "    mutable syndromes = [];\n",
    "\n",
    "    for _ in 1..(ec_repetitions) {\n",
    "        // Sequential teleport on..\n",
    "        // Prepare Z, Teleport X\n",
    "        set preselect += C12.PrepareZZ(ancillas[...11], ancillas[12...]);\n",
    "        TransversalCNOT(logical_block, ancillas[...11]);\n",
    "        ApplyToEach(H, logical_block);\n",
    "        let syndrome_x = MResetEachZ(logical_block);\n",
    "\n",
    "        // Prepare X, Teleport Z\n",
    "        set preselect += C12.PrepareXX(logical_block, ancillas[12...]);\n",
    "        TransversalCNOT(logical_block, ancillas[...11]);\n",
    "        let syndrome_z = MResetEachZ(ancillas[...11]);\n",
    "        set syndromes += [(syndrome_x, syndrome_z)];\n",
    "    }\n",
    "\n",
    "    // Final measurement\n",
    "    if basis == PauliX {\n",
    "        ApplyToEach(H, logical_block);\n",
    "    }\n",
    "    let final = MResetEachZ(logical_block);\n",
    "\n",
    "    (preselect, syndromes, final)\n",
    "}"
   ]
  },
  {
   "cell_type": "code",
   "execution_count": null,
   "id": "a8d0c4cd",
   "metadata": {},
   "outputs": [],
   "source": [
    "results = qsharp.run(qsharp.code.PerformTeleportExperiment, 100, 1, qsharp.Pauli.Z, 1)\n",
    "corrected_logical_results = decode_results(results, \"Z\")\n",
    "\n",
    "# Use counter to make a simple histogram of the corrected logical results.\n",
    "from qsharp_widgets import Histogram\n",
    "Histogram(map(str, corrected_logical_results))"
   ]
  },
  {
   "cell_type": "code",
   "execution_count": null,
   "id": "313cb353",
   "metadata": {},
   "outputs": [],
   "source": [
    "qir = qsharp.compile(qsharp.code.PerformTeleportExperiment, 1, qsharp.Pauli.Z, 1)\n",
    "len(str(qir).splitlines())"
   ]
  },
  {
   "cell_type": "code",
   "execution_count": null,
   "id": "e648e16d",
   "metadata": {},
   "outputs": [],
   "source": [
    "from qsharp.passes import transform\n",
    "\n",
    "transformed_qir = transform(qir, verbose=True)\n",
    "len(str(transformed_qir).splitlines())"
   ]
  },
  {
   "cell_type": "code",
   "execution_count": null,
   "id": "ce29c823",
   "metadata": {},
   "outputs": [],
   "source": [
    "from qsharp.passes import trace, AC1K\n",
    "from qsharp_widgets import Atoms\n",
    "\n",
    "Atoms(AC1K, trace(transformed_qir))"
   ]
  },
  {
   "cell_type": "code",
   "execution_count": null,
   "id": "bec2f4da",
   "metadata": {},
   "outputs": [],
   "source": [
    "from qsharp.passes import transform_to_clifford\n",
    "clifford_qir = transform_to_clifford(qir)\n",
    "len(str(clifford_qir).splitlines())"
   ]
  },
  {
   "cell_type": "code",
   "execution_count": null,
   "id": "8e05e0f8",
   "metadata": {},
   "outputs": [],
   "source": [
    "from qsharp._simulation import run_qir, NoiseConfig\n",
    "from qsharp_widgets import Histogram\n",
    "\n",
    "res = run_qir(str(clifford_qir), shots=100)\n",
    "corrected_logical_results = decode_results(res, \"Z\")\n",
    "Histogram(map(str, corrected_logical_results))"
   ]
  },
  {
   "cell_type": "code",
   "execution_count": null,
   "id": "b0f2063e",
   "metadata": {},
   "outputs": [],
   "source": [
    "noise = NoiseConfig()\n",
    "noise.sx.loss = 0.001\n",
    "\n",
    "res = run_qir(str(clifford_qir), shots=100, noise=noise)\n",
    "corrected_logical_results = decode_results(res, \"Z\")\n",
    "Histogram(map(str, corrected_logical_results))"
   ]
  }
 ],
 "metadata": {
  "kernelspec": {
   "display_name": ".venv312",
   "language": "python",
   "name": "python3"
  },
  "language_info": {
   "codemirror_mode": {
    "name": "ipython",
    "version": 3
   },
   "file_extension": ".py",
   "mimetype": "text/x-python",
   "name": "python",
   "nbconvert_exporter": "python",
   "pygments_lexer": "ipython3",
   "version": "3.12.11"
  }
 },
 "nbformat": 4,
 "nbformat_minor": 5
}
