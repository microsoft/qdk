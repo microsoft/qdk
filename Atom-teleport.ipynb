{
 "cells": [
  {
   "cell_type": "markdown",
   "id": "f94615ed",
   "metadata": {},
   "source": [
    "# Parallel teleport\n",
    "\n",
    "Start by initializing the environment"
   ]
  },
  {
   "cell_type": "code",
   "execution_count": null,
   "id": "ae94a027",
   "metadata": {},
   "outputs": [],
   "source": [
    "from qsharp import init, TargetProfile, code, compile, circuit\n",
    "from qsharp_widgets import Atoms, Circuit, Histogram\n",
    "from qsharp.passes import transform, trace, AC1K\n",
    "\n",
    "init(target_profile=TargetProfile.Base)"
   ]
  },
  {
   "cell_type": "markdown",
   "id": "df5d6387",
   "metadata": {},
   "source": [
    "## Teleportation\n",
    "\n",
    "This uses controlled operations rather than classical measurement to avoid mid-circuit measurement.\n",
    "\n",
    "It is written to spread multiple instances of teleportation across the available qubits"
   ]
  },
  {
   "cell_type": "code",
   "execution_count": null,
   "id": "a76e1fc8",
   "metadata": {
    "vscode": {
     "languageId": "qsharp"
    }
   },
   "outputs": [],
   "source": [
    "%%qsharp\n",
    "\n",
    "operation Teleport(message : Qubit, target : Qubit, aux: Qubit) : Result[] {\n",
    "    // Create some entanglement that we can use to send our message.\n",
    "    H(aux);\n",
    "    CNOT(aux, target);\n",
    "\n",
    "    // Encode the message into the entangled pair.\n",
    "    CNOT(message, aux);\n",
    "    H(message);\n",
    "\n",
    "    CNOT(aux, target);\n",
    "    Controlled Z([message], target);\n",
    "\n",
    "    MResetEachZ([message, target, aux])\n",
    "}\n",
    "\n",
    "operation Run(instances: Int) : Result[] {\n",
    "    // Partitions the teleport instances across rows and columns on the machine\n",
    "    let cols = if instances >= 12 {36} else {instances * 3};\n",
    "    let rows = (instances + 11) / 12;  // 1 to 12 = 1, 13 to 24 = 2, etc.\n",
    "\n",
    "    use qubits = Qubit[instances * 3];\n",
    "    mutable results: Result[] = [];\n",
    "\n",
    "    for i in 0..instances-1 {\n",
    "        let rowId = i / 12;\n",
    "        let colId = (i % 12) * 3;\n",
    "        let idx = colId + (rowId * 36);\n",
    "        let result = Teleport(qubits[idx], qubits[idx + 1], qubits[idx + 2]);\n",
    "        results += result;\n",
    "    }\n",
    "\n",
    "    return results;\n",
    "}\n"
   ]
  },
  {
   "cell_type": "markdown",
   "id": "d86e19f4",
   "metadata": {},
   "source": [
    "## Circuit\n",
    "\n",
    "Verify the circuit for two rounds of teleportation"
   ]
  },
  {
   "cell_type": "code",
   "execution_count": null,
   "id": "b815acd4",
   "metadata": {},
   "outputs": [],
   "source": [
    "Circuit(circuit(code.Run, 2))\n"
   ]
  },
  {
   "cell_type": "markdown",
   "id": "60b105ed",
   "metadata": {},
   "source": [
    "## QIR\n",
    "\n",
    "Show the generated QIR for one round of teleportation"
   ]
  },
  {
   "cell_type": "code",
   "execution_count": null,
   "id": "64ac4ad0",
   "metadata": {},
   "outputs": [],
   "source": [
    "%time qir = compile(code.Run, 1)\n",
    "len(str(qir).splitlines())\n",
    "print(qir)"
   ]
  },
  {
   "cell_type": "markdown",
   "id": "3e5c37f6",
   "metadata": {},
   "source": [
    "# Simulation\n",
    "\n",
    "Transform the QIR to the AC1000 requirements and visulize"
   ]
  },
  {
   "cell_type": "code",
   "execution_count": null,
   "id": "e5578cf4",
   "metadata": {},
   "outputs": [],
   "source": [
    "transformed_qir = transform(qir, verbose=True)\n",
    "len(str(transformed_qir).splitlines())\n",
    "# print(transformed_qir)"
   ]
  },
  {
   "cell_type": "code",
   "execution_count": null,
   "id": "06e69690",
   "metadata": {},
   "outputs": [],
   "source": [
    "Atoms(\n",
    "    machine_layout = AC1K,\n",
    "    trace_data = trace(transformed_qir),\n",
    ")"
   ]
  },
  {
   "cell_type": "markdown",
   "id": "c342d7e9",
   "metadata": {},
   "source": [
    "## Scale\n",
    "\n",
    "Now run 36 rounds of teleportation in parallel and visualize"
   ]
  },
  {
   "cell_type": "code",
   "execution_count": null,
   "id": "e2422917",
   "metadata": {},
   "outputs": [],
   "source": [
    "qir120 = compile(code.Run, 120)\n",
    "transformed_qir120 = transform(qir120, verbose=True)\n",
    "Atoms(machine_layout = AC1K, trace_data = trace(transformed_qir120))"
   ]
  },
  {
   "cell_type": "markdown",
   "id": "87b8e819",
   "metadata": {},
   "source": [
    "## Clifford simulation\n",
    "\n",
    "Run noiseless for 10,000 shots"
   ]
  },
  {
   "cell_type": "code",
   "execution_count": null,
   "id": "698849c0",
   "metadata": {},
   "outputs": [],
   "source": [
    "from qsharp._simulation import run_qir, NoiseConfig\n",
    "from qsharp.passes import transform_to_clifford\n",
    "\n",
    "# Ensure it's Clifford only\n",
    "clifford_qir = transform_to_clifford(qir120)\n",
    "\n",
    "# Run the simulation\n",
    "output = run_qir(str(clifford_qir), 10, NoiseConfig())\n",
    "\n",
    "# Show the results\n",
    "Histogram(output)"
   ]
  },
  {
   "cell_type": "code",
   "execution_count": null,
   "id": "de05291e",
   "metadata": {},
   "outputs": [],
   "source": [
    "# TODO: Run with noise to show some loss"
   ]
  },
  {
   "cell_type": "code",
   "execution_count": null,
   "id": "774df3a7",
   "metadata": {},
   "outputs": [],
   "source": [
    "# How long does 10,000 runs take?\n",
    "%time output = run_qir(str(clifford_qir), 10000, NoiseConfig())"
   ]
  }
 ],
 "metadata": {
  "kernelspec": {
   "display_name": ".venv",
   "language": "python",
   "name": "python3"
  },
  "language_info": {
   "codemirror_mode": {
    "name": "ipython",
    "version": 3
   },
   "file_extension": ".py",
   "mimetype": "text/x-python",
   "name": "python",
   "nbconvert_exporter": "python",
   "pygments_lexer": "ipython3",
   "version": "3.13.7"
  }
 },
 "nbformat": 4,
 "nbformat_minor": 5
}
