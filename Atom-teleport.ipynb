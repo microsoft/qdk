{
 "cells": [
  {
   "cell_type": "markdown",
   "id": "f94615ed",
   "metadata": {},
   "source": [
    "# Parallel teleport\n",
    "\n",
    "Start by initializing the environment"
   ]
  },
  {
   "cell_type": "code",
   "execution_count": null,
   "id": "ae94a027",
   "metadata": {},
   "outputs": [],
   "source": [
    "from qdk.qsharp import init, TargetProfile, compile, circuit\n",
    "from qdk.simulation import AC1000, NoiseConfig\n",
    "from qdk.widgets import Atoms, Circuit, Histogram\n",
    "\n",
    "init(target_profile=TargetProfile.Base)"
   ]
  },
  {
   "cell_type": "markdown",
   "id": "df5d6387",
   "metadata": {},
   "source": [
    "## Teleportation\n",
    "\n",
    "This uses controlled operations rather than classical measurement to avoid mid-circuit measurement.\n",
    "\n",
    "It is written to spread multiple instances of teleportation across the available qubits"
   ]
  },
  {
   "cell_type": "code",
   "execution_count": null,
   "id": "a76e1fc8",
   "metadata": {
    "vscode": {
     "languageId": "qsharp"
    }
   },
   "outputs": [],
   "source": [
    "%%qsharp\n",
    "\n",
    "operation Teleport(msg : Qubit, alice : Qubit, bob: Qubit) : Unit {\n",
    "    // Create some entanglement that we can use to send our message.\n",
    "    H(alice);\n",
    "    CNOT(alice, bob);\n",
    "\n",
    "    // Encode the message into the entangled pair.\n",
    "    CNOT(msg, alice);\n",
    "    H(msg);\n",
    "\n",
    "    CNOT(alice, bob);\n",
    "    Controlled Z([msg], bob);\n",
    "}\n",
    "\n",
    "operation Layout(instances: Int) : Result[] {\n",
    "    // Partitions the teleport instances across rows and columns on the machine\n",
    "    let cols = if instances >= 12 {36} else {instances * 3};\n",
    "    let rows = (instances + 11) / 12;  // 1 to 12 = 1, 13 to 24 = 2, etc.\n",
    "\n",
    "    use qubits = Qubit[instances * 3];\n",
    "    mutable results: Result[] = [];\n",
    "\n",
    "    for i in 0..instances-1 {\n",
    "        let rowId = i / 12;\n",
    "        let colId = (i % 12) * 3;\n",
    "        let idx = colId + (rowId * 36);\n",
    "\n",
    "        // Prep state on msg qubit\n",
    "        if i % 4 == 1 {\n",
    "            X(qubits[idx]);\n",
    "        } elif i % 4 == 2 {\n",
    "            H(qubits[idx]);\n",
    "        }\n",
    "        elif i % 4 == 3 {\n",
    "            SX(qubits[idx]);\n",
    "        }\n",
    "\n",
    "        Teleport(qubits[idx], qubits[idx + 1], qubits[idx + 2]);\n",
    "\n",
    "        // Reverse state prep on Bob's qubit\n",
    "        if i % 4 == 1 {\n",
    "            X(qubits[idx + 2]);\n",
    "        } elif i % 4 == 2 {\n",
    "            H(qubits[idx + 2]);\n",
    "        }\n",
    "        elif i % 4 == 3 {\n",
    "            X(qubits[idx + 2]);\n",
    "            SX(qubits[idx + 2]);\n",
    "        }\n",
    "        results += [MResetZ(qubits[idx + 2])];\n",
    "        // let _ = MResetEachZ([qubits[idx], qubits[idx + 1]]);\n",
    "        ResetAll([qubits[idx], qubits[idx + 1]]);\n",
    "    }\n",
    "\n",
    "    return results;\n",
    "}\n"
   ]
  },
  {
   "cell_type": "markdown",
   "id": "d86e19f4",
   "metadata": {},
   "source": [
    "## Circuit\n",
    "\n",
    "Verify the circuit for two rounds of teleportation"
   ]
  },
  {
   "cell_type": "code",
   "execution_count": null,
   "id": "b815acd4",
   "metadata": {},
   "outputs": [],
   "source": [
    "Circuit(circuit(\"Layout(1)\"))"
   ]
  },
  {
   "cell_type": "markdown",
   "id": "c342d7e9",
   "metadata": {},
   "source": [
    "## Visualization\n",
    "\n",
    "Now run 120 rounds of teleportation in parallel and visualize"
   ]
  },
  {
   "cell_type": "code",
   "execution_count": null,
   "id": "e2422917",
   "metadata": {},
   "outputs": [],
   "source": [
    "# Compile the code to the generic QISA as usual\n",
    "qisa = compile(\"Layout(120)\")\n",
    "\n",
    "# Get the target machine and compile for it\n",
    "ac1000 = AC1000()\n",
    "ops = ac1000.compile(qisa)\n",
    "\n",
    "# Visualize the circuit on the hardware\n",
    "Atoms(machine_layout = ac1000.get_layout(), trace_data = ac1000.get_trace(ops))"
   ]
  },
  {
   "cell_type": "markdown",
   "id": "87b8e819",
   "metadata": {},
   "source": [
    "## Clifford simulation\n",
    "\n",
    "Run simulations for 1,000 shots. First write a helper so the historgrams are readable"
   ]
  },
  {
   "cell_type": "code",
   "execution_count": null,
   "id": "b959b0eb",
   "metadata": {},
   "outputs": [],
   "source": [
    "# Helper to build 'correctness' histogram\n",
    "\n",
    "from qsharp import Result\n",
    "\n",
    "def expect_zeros_histogram(output):\n",
    "    results = []\n",
    "\n",
    "    for shot in output:\n",
    "        has_loss = False\n",
    "        has_one = False\n",
    "\n",
    "        for result in shot:\n",
    "            if result == Result.Loss:\n",
    "                has_loss = True\n",
    "            elif result == Result.One:\n",
    "                has_one = True\n",
    "\n",
    "        if has_loss and has_one:\n",
    "            results.append(\"Flip & Loss\")\n",
    "        elif has_loss:\n",
    "            results.append(\"Loss\")\n",
    "        elif has_one:\n",
    "            results.append(\"Flip\")\n",
    "        else:\n",
    "            results.append(\"Correct\")\n",
    "\n",
    "    return Histogram(results)\n"
   ]
  },
  {
   "cell_type": "code",
   "execution_count": null,
   "id": "698849c0",
   "metadata": {},
   "outputs": [],
   "source": [
    "results = ac1000.simulate(qisa, shots=1000)\n",
    "expect_zeros_histogram(results)"
   ]
  },
  {
   "cell_type": "code",
   "execution_count": null,
   "id": "774df3a7",
   "metadata": {},
   "outputs": [],
   "source": [
    "# Now with noise.\n",
    "noise = NoiseConfig()\n",
    "noise.sx.loss = 0.001\n",
    "results = ac1000.simulate(qisa, shots=1000, noise=noise)\n",
    "expect_zeros_histogram(results)"
   ]
  }
 ],
 "metadata": {
  "kernelspec": {
   "display_name": ".venv312",
   "language": "python",
   "name": "python3"
  },
  "language_info": {
   "codemirror_mode": {
    "name": "ipython",
    "version": 3
   },
   "file_extension": ".py",
   "mimetype": "text/x-python",
   "name": "python",
   "nbconvert_exporter": "python",
   "pygments_lexer": "ipython3",
   "version": "3.12.11"
  }
 },
 "nbformat": 4,
 "nbformat_minor": 5
}
