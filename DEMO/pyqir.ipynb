{
 "cells": [
  {
   "cell_type": "markdown",
   "id": "d109becb",
   "metadata": {},
   "source": [
    "# Using PyQIR\n",
    "\n",
    "PyQIR is a package that provides utilities for generating, parsing, and manipulating QIR.\n",
    "\n",
    "First, let's use it to generate a simple Bell State program:"
   ]
  },
  {
   "cell_type": "code",
   "execution_count": null,
   "id": "0af315c6",
   "metadata": {},
   "outputs": [],
   "source": [
    "from pyqir import BasicQisBuilder, SimpleModule\n",
    "\n",
    "# Create the module with two qubits and two results.\n",
    "bell = SimpleModule(\"bell\", num_qubits=2, num_results=2)\n",
    "builder = BasicQisBuilder(bell.builder)\n",
    "\n",
    "# Add instructions to the module to create a Bell pair and measure both qubits.\n",
    "builder.h(bell.qubits[0])\n",
    "builder.cx(bell.qubits[0], bell.qubits[1])\n",
    "builder.mz(bell.qubits[0], bell.results[0])\n",
    "builder.mz(bell.qubits[1], bell.results[1])\n",
    "\n",
    "qir = bell.ir()\n",
    "print(qir)"
   ]
  },
  {
   "cell_type": "markdown",
   "id": "c315cf5e",
   "metadata": {},
   "source": [
    "Since PyQIR can parse and manipulate QIR, it can be used to make simple passes that decompose gates:"
   ]
  },
  {
   "cell_type": "code",
   "execution_count": null,
   "id": "15ba4b3d",
   "metadata": {},
   "outputs": [],
   "source": [
    "from pyqir import Module, Context, QirModuleVisitor, qis\n",
    "from math import pi\n",
    "\n",
    "class DecomposeH(QirModuleVisitor):\n",
    "    def _on_qis_h(self, call, target):\n",
    "        # Set the instruction builder to the location just before the call\n",
    "        # to the H instruction.\n",
    "        self.builder.insert_before(call)\n",
    "\n",
    "        # Decompose the H gate into a sequence of RX and RZ gates.\n",
    "        qis.rx(self.builder, -pi / 2, target)\n",
    "        qis.rz(self.builder, -pi / 2, target)\n",
    "        qis.rx(self.builder, -pi / 2, target)\n",
    "\n",
    "        # Remove the original H instruction.\n",
    "        call.erase()\n",
    "\n",
    "module = Module.from_ir(Context(), qir)\n",
    "DecomposeH().run(module)\n",
    "print(module)\n"
   ]
  },
  {
   "cell_type": "markdown",
   "id": "baef2513",
   "metadata": {},
   "source": [
    "Or even used to link another module defining functions into the current one:"
   ]
  },
  {
   "cell_type": "code",
   "execution_count": null,
   "id": "f7110750",
   "metadata": {},
   "outputs": [],
   "source": [
    "decomp_ir = \"\"\"\n",
    "%Qubit = type opaque\n",
    "\n",
    "declare void @__quantum__qis__rx__body(double, %Qubit*)\n",
    "declare void @__quantum__qis__rz__body(double, %Qubit*)\n",
    "declare void @__quantum__qis__rzz__body(double, %Qubit*, %Qubit*)\n",
    "\n",
    "define void @__quantum__qis__cnot__body(%Qubit* %c, %Qubit* %q) alwaysinline {\n",
    "    call void @__quantum__qis__h__body(%Qubit* %q)\n",
    "    call void @__quantum__qis__cz__body(%Qubit* %c, %Qubit* %q)\n",
    "    call void @__quantum__qis__h__body(%Qubit* %q)\n",
    "    ret void\n",
    "}\n",
    "\n",
    "define void @__quantum__qis__cz__body(%Qubit* %c, %Qubit* %q) alwaysinline {\n",
    "    call void @__quantum__qis__rzz__body(double 1.5707963267948966, %Qubit* %c, %Qubit* %q)\n",
    "    call void @__quantum__qis__rz__body(double -1.5707963267948966, %Qubit* %c)\n",
    "    call void @__quantum__qis__rz__body(double -1.5707963267948966, %Qubit* %q)\n",
    "    ret void\n",
    "}\n",
    "\n",
    "define void @__quantum__qis__h__body(%Qubit* %q) alwaysinline {\n",
    "    call void @__quantum__qis__rx__body(double -1.5707963267948966, %Qubit* %q)\n",
    "    call void @__quantum__qis__rz__body(double -1.5707963267948966, %Qubit* %q)\n",
    "    call void @__quantum__qis__rx__body(double -1.5707963267948966, %Qubit* %q)\n",
    "    ret void\n",
    "}\n",
    "\"\"\"\n",
    "\n",
    "# Create a new module from the QIR library using the previous module's context.\n",
    "decomp_module = Module.from_ir(module.context, decomp_ir)\n",
    "\n",
    "# Now link the new module to the original module to pull in the function definitions.\n",
    "module.link(decomp_module)\n",
    "\n",
    "print(module)"
   ]
  },
  {
   "cell_type": "markdown",
   "id": "4cb57f5e",
   "metadata": {},
   "source": [
    "These functions will then be inlined the next time the code is run through any LLVM optimizations."
   ]
  }
 ],
 "metadata": {
  "kernelspec": {
   "display_name": "Python 3",
   "language": "python",
   "name": "python3"
  },
  "language_info": {
   "codemirror_mode": {
    "name": "ipython",
    "version": 3
   },
   "file_extension": ".py",
   "mimetype": "text/x-python",
   "name": "python",
   "nbconvert_exporter": "python",
   "pygments_lexer": "ipython3",
   "version": "3.11.12"
  }
 },
 "nbformat": 4,
 "nbformat_minor": 5
}
