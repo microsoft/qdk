{
 "cells": [
  {
   "cell_type": "markdown",
   "id": "2d70e552",
   "metadata": {},
   "source": [
    "# Generating QIR from Q#\n",
    "\n",
    "First, import `qsharp` and initialize it with the desired QIR profile."
   ]
  },
  {
   "cell_type": "code",
   "execution_count": null,
   "id": "0aaec494",
   "metadata": {},
   "outputs": [],
   "source": [
    "import qsharp\n",
    "\n",
    "qsharp.init(target_profile=qsharp.TargetProfile.Adaptive_RI)"
   ]
  },
  {
   "cell_type": "markdown",
   "id": "dc2f70e7",
   "metadata": {},
   "source": [
    "Use a Q# cell to define a parametrized operation to use later from Python."
   ]
  },
  {
   "cell_type": "code",
   "execution_count": null,
   "id": "3de15735",
   "metadata": {
    "vscode": {
     "languageId": "qsharp"
    }
   },
   "outputs": [],
   "source": [
    "%%qsharp\n",
    "\n",
    "import Std.Arrays.Reversed;\n",
    "\n",
    "operation TeleportRepeat(iterations : Int) : Result[] {\n",
    "    use qs = Qubit[2];\n",
    "    X(qs[0]);\n",
    "\n",
    "    // Repeatedly teleport the state back and forth between the two qubits.\n",
    "    mutable register = qs;\n",
    "    for _ in 1..iterations {\n",
    "        Teleport(register[0], register[1]);\n",
    "        register = Reversed(register);\n",
    "    }\n",
    "\n",
    "    MResetEachZ(qs)\n",
    "}\n",
    "\n",
    "/// # Summary\n",
    "/// Sends the state of one qubit to a target qubit by using teleportation.\n",
    "///\n",
    "/// Notice that after calling Teleport, the state of `message` is collapsed.\n",
    "///\n",
    "/// # Input\n",
    "/// ## message\n",
    "/// A qubit whose state we wish to send.\n",
    "/// ## target\n",
    "/// A qubit initially in the |0〉 state that we want to send\n",
    "/// the state of message to.\n",
    "operation Teleport(message : Qubit, target : Qubit) : Unit {\n",
    "    // Allocate an auxiliary qubit.\n",
    "    use auxiliary = Qubit();\n",
    "\n",
    "    // Create some entanglement that we can use to send our message.\n",
    "    H(auxiliary);\n",
    "    CNOT(auxiliary, target);\n",
    "\n",
    "    // Encode the message into the entangled pair.\n",
    "    CNOT(message, auxiliary);\n",
    "    H(message);\n",
    "\n",
    "    // Measure the qubits to extract the classical data we need to decode\n",
    "    // the message by applying the corrections on the target qubit\n",
    "    // accordingly.\n",
    "    if MResetZ(auxiliary) == One {\n",
    "        X(target);\n",
    "    }\n",
    "\n",
    "    if MResetZ(message) == One {\n",
    "        Z(target);\n",
    "    }\n",
    "\n",
    "    // Reset auxiliary qubit before releasing.\n",
    "    Reset(auxiliary);\n",
    "}"
   ]
  },
  {
   "cell_type": "markdown",
   "id": "b1377d99",
   "metadata": {},
   "source": [
    "Now import that operation and call it from Python to verify the behavior in simulation."
   ]
  },
  {
   "cell_type": "code",
   "execution_count": null,
   "id": "79503dd9",
   "metadata": {},
   "outputs": [],
   "source": [
    "from qsharp.code import TeleportRepeat\n",
    "\n",
    "# Run the code to verify behavior\n",
    "iter = 4\n",
    "for i in range(10):\n",
    "    print(TeleportRepeat(iter))"
   ]
  },
  {
   "cell_type": "markdown",
   "id": "85842beb",
   "metadata": {},
   "source": [
    "Use the same imported operation to compile into a QIR program."
   ]
  },
  {
   "cell_type": "code",
   "execution_count": null,
   "id": "9ff71760",
   "metadata": {},
   "outputs": [],
   "source": [
    "# Compile to QIR\n",
    "qir = qsharp.compile(TeleportRepeat, 5)\n",
    "print(qir._ll_str)"
   ]
  },
  {
   "cell_type": "markdown",
   "id": "664a96e5",
   "metadata": {},
   "source": [
    "Finally, verify the behavior of the generated QIR by simulating with `qirrunner`."
   ]
  },
  {
   "cell_type": "code",
   "execution_count": null,
   "id": "538b1da3",
   "metadata": {},
   "outputs": [],
   "source": [
    "import qirrunner\n",
    "from pathlib import Path\n",
    "\n",
    "# Save the QIR to a file\n",
    "qir_path = Path(\"TeleportRepeat.ll\")\n",
    "qir_path.write_text(qir._ll_str)\n",
    "\n",
    "# Run the QIR using qirrunner\n",
    "qirrunner.run(str(qir_path), shots=10)"
   ]
  }
 ],
 "metadata": {
  "kernelspec": {
   "display_name": "Python 3",
   "language": "python",
   "name": "python3"
  },
  "language_info": {
   "codemirror_mode": {
    "name": "ipython",
    "version": 3
   },
   "file_extension": ".py",
   "mimetype": "text/x-python",
   "name": "python",
   "nbconvert_exporter": "python",
   "pygments_lexer": "ipython3",
   "version": "3.11.12"
  }
 },
 "nbformat": 4,
 "nbformat_minor": 5
}
