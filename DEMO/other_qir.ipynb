{
  "cells": [
    {
      "cell_type": "markdown",
      "id": "ae56fce0",
      "metadata": {},
      "source": [
        "# QIR with Qiskit (via Q#)"
      ]
    },
    {
      "cell_type": "markdown",
      "id": "974b3131",
      "metadata": {},
      "source": [
        "## Classical instructions in circuits"
      ]
    },
    {
      "cell_type": "markdown",
      "id": "42f916c9",
      "metadata": {},
      "source": [
        "### Run Qiskit with classical instructions\n",
        "Qiskit has begun implementing some classical computation support as they expand their OpenQASM 3 support. These constructs, insofar as Qiskit can export them, can be consumed by Q#.\n",
        "\n",
        "As an example, we can create a classical switch statement in Qiskit and run the program."
      ]
    },
    {
      "cell_type": "code",
      "execution_count": null,
      "id": "30d29199",
      "metadata": {},
      "outputs": [],
      "source": [
        "from qiskit import ClassicalRegister, QuantumRegister\n",
        "from qiskit.circuit import (\n",
        "    QuantumCircuit,\n",
        ")\n",
        "\n",
        "from qsharp import QSharpError, TargetProfile\n",
        "from qsharp.interop.qiskit import QSharpBackend\n",
        "\n",
        "qreg = QuantumRegister(3, name=\"q\")\n",
        "creg = ClassicalRegister(3, name=\"c\")\n",
        "qc = QuantumCircuit(qreg, creg)\n",
        "qc.h([0, 1, 2])\n",
        "qc.measure_all(add_bits=False)\n",
        "\n",
        "with qc.switch(creg) as case:\n",
        "    with case(7):\n",
        "        qc.x(0)\n",
        "    with case(1, 2):\n",
        "        qc.z(1)\n",
        "    with case(case.DEFAULT):\n",
        "        qc.cx(0, 1)\n",
        "qc.measure_all(add_bits=False)\n",
        "\n",
        "backend = QSharpBackend()\n",
        "\n",
        "print(backend.run(qc).result())"
      ]
    },
    {
      "cell_type": "markdown",
      "id": "fea9051a",
      "metadata": {},
      "source": [
        "Using that same circuit, we can generate QIR which is used to run on quantum hardware."
      ]
    },
    {
      "cell_type": "code",
      "execution_count": null,
      "id": "0081f6f0",
      "metadata": {},
      "outputs": [],
      "source": [
        "backend = QSharpBackend(target_profile=TargetProfile.Adaptive_RI)\n",
        "print(backend.qir(qc))"
      ]
    },
    {
      "cell_type": "markdown",
      "id": "97184460",
      "metadata": {},
      "source": [
        "Not all programs can run on all hardware. Here we can try to target the `Base` profile, but we will get detailed errors on which parts of the program aren't supported."
      ]
    },
    {
      "cell_type": "code",
      "execution_count": null,
      "id": "06c31a67",
      "metadata": {},
      "outputs": [],
      "source": [
        "try:\n",
        "    backend.qir(qc, target_profile=TargetProfile.Base)\n",
        "except QSharpError as e:\n",
        "    print(e)"
      ]
    },
    {
      "cell_type": "markdown",
      "id": "b06b7857",
      "metadata": {},
      "source": [
        "# QIR with OpenQASM (via Q#)"
      ]
    },
    {
      "cell_type": "code",
      "execution_count": null,
      "id": "7f6e138a",
      "metadata": {},
      "outputs": [],
      "source": [
        "import qsharp\n",
        "from qsharp import init, TargetProfile, code, BitFlipNoise\n",
        "from qsharp.qasm import import_qasm, run, compile"
      ]
    },
    {
      "cell_type": "code",
      "execution_count": null,
      "id": "9cc87c10",
      "metadata": {},
      "outputs": [],
      "source": [
        "source = \"\"\"\n",
        "    include \"stdgates.inc\";\n",
        "    qubit q1;\n",
        "    qubit q2;\n",
        "    output int errors;\n",
        "    for int i in [0:100] {\n",
        "        h q1;\n",
        "        cx q1, q2;\n",
        "        bit[2] c;\n",
        "        c[0] = measure q1;\n",
        "        c[1] = measure q2;\n",
        "        reset q1;\n",
        "        reset q2;\n",
        "        if (c[0] != c[1]) { errors += 1; }\n",
        "    }\n",
        "    \"\"\"\n",
        "result = run(source, shots=1,noise=BitFlipNoise(0.1))\n",
        "\n",
        "print(result)"
      ]
    },
    {
      "cell_type": "code",
      "execution_count": null,
      "id": "a45c38ba",
      "metadata": {},
      "outputs": [],
      "source": [
        "init(target_profile=TargetProfile.Adaptive_RI)\n",
        "\n",
        "result = import_qasm(\n",
        "    \"\"\"\n",
        "    include \"stdgates.inc\";\n",
        "    output int errors;\n",
        "    qubit q;\n",
        "    for int i in [0:100] {\n",
        "        bit c = measure q;\n",
        "        reset q;\n",
        "        if (c != 0) { errors+=1; }\n",
        "    }\n",
        "    \"\"\",\n",
        "    name=\"Program1\",\n",
        ")"
      ]
    },
    {
      "cell_type": "code",
      "execution_count": null,
      "id": "3855dc4d",
      "metadata": {},
      "outputs": [],
      "source": [
        "print(qsharp.compile(code.Program1))"
      ]
    },
    {
      "cell_type": "code",
      "execution_count": null,
      "id": "461b3dff",
      "metadata": {},
      "outputs": [],
      "source": [
        "from pathlib import Path\n",
        "source =  Path(\"qec.qasm\").read_text()\n",
        "\n",
        "qir = compile(source, target_profile=TargetProfile.Adaptive_RI)\n",
        "\n",
        "print(qir)"
      ]
    },
    {
      "cell_type": "code",
      "execution_count": null,
      "id": "92098800",
      "metadata": {},
      "outputs": [],
      "source": [
        "import qirrunner\n",
        "from pathlib import Path\n",
        "\n",
        "# Save the QIR to a file\n",
        "source =  Path(\"qec.qasm\").read_text()\n",
        "qir_path = Path(\"qec.ll\")\n",
        "qir_path.write_text(str(qir))\n",
        "\n",
        "# Run the QIR using qirrunner\n",
        "qirrunner.run(str(qir_path), shots=10)"
      ]
    }
  ],
  "metadata": {
    "kernelspec": {
      "display_name": ".venv",
      "language": "python",
      "name": "python3"
    },
    "language_info": {
      "codemirror_mode": {
        "name": "ipython",
        "version": 3
      },
      "file_extension": ".py",
      "mimetype": "text/x-python",
      "name": "python",
      "nbconvert_exporter": "python",
      "pygments_lexer": "ipython3",
      "version": "3.13.3"
    }
  },
  "nbformat": 4,
  "nbformat_minor": 5
}
