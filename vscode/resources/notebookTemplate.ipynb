{
  "cells": [
    {
      "cell_type": "markdown",
      "id": "a2f48f2b",
      "metadata": {},
      "source": [
        "## Azure Quantum Q# notebook\n",
        "\n",
        "To use Jupyter Notebooks with Q#, the `qsharp-lang` and `jupyterlab` Python packages should be installed.\n",
        "\n",
        "To render charts as shown in this notebook, Matplotlib with notebook widgets support should be installed via `ipympl`.\n",
        "\n",
        "To submit to Azure Quantum as shown in this notebook, the `azure-quantum` package needs to be installed.\n",
        "\n",
        "You can install all the above packages in your Python environment by running the below in your terminal:\n",
        "\n",
        "```bash\n",
        "pip install jupyterlab qsharp-lang ipympl azure-quantum\n",
        "```"
      ]
    },
    {
      "cell_type": "code",
      "execution_count": null,
      "id": "e70a95d9",
      "metadata": {},
      "outputs": [],
      "source": [
        "# Run this cell first to enable the `%%qsharp` magic command used in later cells\n",
        "import qsharp\n"
      ]
    },
    {
      "cell_type": "markdown",
      "metadata": {},
      "source": [
        "The below cell shows Q# being written directly inside a Jupyter Notebook using the `%%qsharp` 'magic' command"
      ]
    },
    {
      "cell_type": "code",
      "execution_count": null,
      "metadata": {
        "vscode": {
          "languageId": "qsharp"
        }
      },
      "outputs": [],
      "source": [
        "%%qsharp\n",
        "\n",
        "// This makes the DumpMachine() function available.\n",
        "open Microsoft.Quantum.Diagnostics;\n",
        "\n",
        "operation RandomBit() : Result {\n",
        "    // Qubits are only accesible for the duration of the scope where they\n",
        "    // are allocated and are automatically released at the end of the scope.\n",
        "    use qubit = Qubit();\n",
        "\n",
        "    // Set the qubit in superposition by applying a Hadamard transformation.\n",
        "    H(qubit);\n",
        "\n",
        "    DumpMachine();\n",
        "\n",
        "    // Measure the qubit. There is a 50% probability of measuring either\n",
        "    // `Zero` or `One`.\n",
        "    let result = M(qubit);\n",
        "\n",
        "    Message($\"The result of the measurement is {result}.\");\n",
        "\n",
        "    // Reset the qubit so it can be safely released.\n",
        "    Reset(qubit);\n",
        "    return result;\n",
        "}\n",
        "\n",
        "// Call the operation we defined above.\n",
        "RandomBit();\n"
      ]
    },
    {
      "cell_type": "markdown",
      "id": "7b69624e",
      "metadata": {},
      "source": [
        "As well as invoking Q# operations immediately inline (as the last line in the cell above does), the defined operations can also be invoked from Python"
      ]
    },
    {
      "cell_type": "code",
      "execution_count": null,
      "id": "e60f1179",
      "metadata": {},
      "outputs": [],
      "source": [
        "r = qsharp.eval(\"RandomBit()\")\n",
        "\n",
        "if r == qsharp.Result.One:\n",
        "    i = 1\n",
        "else:\n",
        "    i = 0\n",
        "\n",
        "print(f\"Python: Got integer {i}!\")\n"
      ]
    },
    {
      "cell_type": "markdown",
      "id": "e37f1a91",
      "metadata": {},
      "source": [
        "You can use other Python libraries, such as Matplotlib, to run the Q# code for a number of 'shots' and visualize the results"
      ]
    },
    {
      "cell_type": "code",
      "execution_count": null,
      "id": "815ea49a",
      "metadata": {},
      "outputs": [],
      "source": [
        "%matplotlib widget\n",
        "\n",
        "import matplotlib.pyplot as plt\n",
        "import numpy as np\n",
        "from collections import Counter\n",
        "\n",
        "results = qsharp.run(\"RandomBit()\", shots=1000)\n",
        "# Sort the results so that the histogram labels appear in the correct order\n",
        "results.sort()\n",
        "# Count the number of times each result appears\n",
        "counts = Counter(results)\n",
        "\n",
        "(values, counts) = counts.keys(), counts.values()\n",
        "xlabels = np.arange(len(counts))\n",
        "plt.title(\"RandomBit() Results\")\n",
        "plt.bar(xlabels, counts)\n",
        "plt.xticks(xlabels, values)\n",
        "plt.show()\n"
      ]
    },
    {
      "cell_type": "markdown",
      "id": "ba4b261c",
      "metadata": {},
      "source": [
        "## Submitting jobs to Azure Quantum\n",
        "\n",
        "Different quantum hardware supports different capabilities, but all Azure Quantum providers support the 'base profile'\n",
        "as defined in the 'Quantum Intermediate Representation' (QIR) specification. (For more details see <https://aka.ms/qdk.qir>)\n",
        "\n",
        "To develop code using this base profile, reintialize the Q# compiler, connect to your Azure Quantum workspace, and submit the job.\n",
        "\n",
        "__NOTE__: The workspace connection must be authenticated. If running this notebook locally, it will automatically open\n",
        "a browser to sign in. However if running remotely, such as in a GitHub Codespace or Docker container, you may have to\n",
        "sign-in by installing the Azure CLI and running `az login --use-device-code` before the connection will succeed."
      ]
    },
    {
      "cell_type": "code",
      "execution_count": null,
      "id": "f1bfd90e",
      "metadata": {},
      "outputs": [],
      "source": [
        "import azure.quantum\n",
        "\n",
        "# Reset the compiler to target the 'base profile' that all hardware supports\n",
        "qsharp.init(target_profile=qsharp.TargetProfile.Base)\n",
        "\n",
        "# Ensure the below reflect the Azure Quantum workspace you'd like to use\n",
        "subscription_id = 'MY_SUBSCRIPTION_ID'\n",
        "resource_group = 'MY_RESOURCE_GROUP'\n",
        "workspace_name = 'MY_WORKSPACE_NAME'\n",
        "location = 'MY_LOCATION'\n",
        "\n",
        "# Connect to an Azure Quantum workspace\n",
        "workspace = azure.quantum.Workspace(\n",
        "    subscription_id=subscription_id,\n",
        "    resource_group=resource_group,\n",
        "    name=workspace_name,\n",
        "    location=location,\n",
        ")\n"
      ]
    },
    {
      "cell_type": "code",
      "execution_count": null,
      "id": "8bc51930",
      "metadata": {
        "vscode": {
          "languageId": "qsharp"
        }
      },
      "outputs": [],
      "source": [
        "%%qsharp\n",
        "\n",
        "operation Random() : Result {\n",
        "    use q = Qubit();\n",
        "    H(q);\n",
        "    let result = M(q);\n",
        "    Reset(q);\n",
        "    return result\n",
        "}\n",
        "\n",
        "operation RandomNBits(N: Int): Result[] {\n",
        "    mutable results = [];\n",
        "    for i in 0 .. N - 1 {\n",
        "        let r = Random();\n",
        "        set results += [r];\n",
        "    }\n",
        "    return results\n",
        "}\n"
      ]
    },
    {
      "cell_type": "code",
      "execution_count": null,
      "id": "66e70c11",
      "metadata": {},
      "outputs": [],
      "source": [
        "# Run the above code for 100 shots against the Rigetti simulator\n",
        "\n",
        "operation = qsharp.compile(\"RandomNBits(4)\")\n",
        "target = workspace.get_targets(\"rigetti.sim.qvm\")\n",
        "job = target.submit(operation, \"my-azure-quantum-job\", input_params={ \"count\": 100 })\n",
        "\n",
        "# Wait for the job to complete\n",
        "job.get_results()\n"
      ]
    }
  ],
  "metadata": {
    "kernelspec": {
      "display_name": "Python 3",
      "language": "python",
      "name": "python3"
    },
    "language_info": {
      "codemirror_mode": {
        "name": "ipython",
        "version": 3
      },
      "file_extension": ".py",
      "mimetype": "text/x-python",
      "name": "python",
      "nbconvert_exporter": "python",
      "pygments_lexer": "ipython3",
      "version": "3.11.0"
    }
  },
  "nbformat": 4,
  "nbformat_minor": 5
}
