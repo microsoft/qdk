{
 "cells": [
  {
   "cell_type": "code",
   "execution_count": null,
   "metadata": {},
   "outputs": [],
   "source": [
    "import qsharp\n",
    "from qsharp_widgets import SpaceChart, EstimateDetails, ScatterChart\n",
    "with open(\"../../samples/algorithms/BitFlipCode.qs\", \"r\") as f:\n",
    "    contents = f.read()\n",
    "qsharp.eval(contents)\n",
    "result1 = qsharp.estimate(\"Sample.Main()\")"
   ]
  },
  {
   "cell_type": "code",
   "execution_count": null,
   "metadata": {},
   "outputs": [],
   "source": [
    "SpaceChart(result1)"
   ]
  },
  {
   "cell_type": "code",
   "execution_count": null,
   "metadata": {},
   "outputs": [],
   "source": [
    "result2 = qsharp.estimate(\n",
    "    \"Sample.Main()\",\n",
    "    [\n",
    "           {\n",
    "        \"qubitParams\": { \"name\": \"qubit_maj_ns_e4\" },\n",
    "        \"qecScheme\": { \"name\": \"surface_code\" },\n",
    "        \"estimateType\": \"frontier\"\n",
    "        },\n",
    "        {\n",
    "        \"qubitParams\": { \"name\": \"qubit_maj_ns_e6\" },\n",
    "        \"qecScheme\": { \"name\": \"floquet_code\" },\n",
    "        \"estimateType\": \"frontier\"\n",
    "        },\n",
    "    ]\n",
    ")\n",
    "\n",
    "ScatterChart(result2)"
   ]
  }
 ],
 "metadata": {
  "kernelspec": {
   "display_name": "Python 3",
   "language": "python",
   "name": "python3"
  },
  "language_info": {
   "codemirror_mode": {
    "name": "ipython",
    "version": 3
   },
   "file_extension": ".py",
   "mimetype": "text/x-python",
   "name": "python",
   "nbconvert_exporter": "python",
   "pygments_lexer": "ipython3",
   "version": "3.12.1"
  }
 },
 "nbformat": 4,
 "nbformat_minor": 2
}
