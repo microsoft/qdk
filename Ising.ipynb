{
 "cells": [
  {
   "cell_type": "code",
   "execution_count": null,
   "id": "fc1e3eec",
   "metadata": {},
   "outputs": [],
   "source": [
    "import qsharp\n",
    "\n",
    "qsharp.init(target_profile=qsharp.TargetProfile.Adaptive_RIF)"
   ]
  },
  {
   "cell_type": "code",
   "execution_count": null,
   "id": "4a794831",
   "metadata": {
    "vscode": {
     "languageId": "qsharp"
    }
   },
   "outputs": [],
   "source": [
    "%%qsharp\n",
    "\n",
    "import Std.Math.PI;\n",
    "\n",
    "operation CliffordIsing() : Result[] {\n",
    "    // Use specifically tailored parameters to get Clifford only\n",
    "    // rotation values.\n",
    "    IsingModel2DEvolution(\n",
    "        34,\n",
    "        36,\n",
    "        PI() / 2.0,\n",
    "        PI() / 2.0,\n",
    "        30.0,\n",
    "        30\n",
    "    )\n",
    "}\n",
    "\n",
    "/// # Summary\n",
    "/// Simulate simple Ising model evolution\n",
    "///\n",
    "/// # Description\n",
    "/// Simulates state |𝜓⟩ evolution to find |𝜓(t)⟩=U(t)|𝜓(0)⟩.\n",
    "/// |𝜓(0)⟩ is taken to be |0...0⟩.\n",
    "/// U(t)=e⁻ⁱᴴᵗ, where H is an Ising model Hamiltonian H = -J·Σ'ᵢⱼZᵢZⱼ + g·ΣᵢXᵢ\n",
    "/// Here Σ' is taken over all pairs of neighboring qubits <i,j>.\n",
    "/// Simulation is done by performing K steps assuming U(t)≈(U(t/K))ᴷ.\n",
    "operation IsingModel2DEvolution(\n",
    "    N1 : Int,\n",
    "    N2 : Int,\n",
    "    J : Double,\n",
    "    g : Double,\n",
    "    evolutionTime : Double,\n",
    "    numberOfSteps : Int\n",
    ") : Result[] {\n",
    "\n",
    "    // Allocate qubit grid and structure it as a 2D array.\n",
    "    use qubits = Qubit[N1 * N2];\n",
    "    let qubitsAs2D = Std.Arrays.Chunks(N2, qubits);\n",
    "\n",
    "    // Compute the time step\n",
    "    let dt : Double = evolutionTime / Std.Convert.IntAsDouble(numberOfSteps);\n",
    "\n",
    "    let theta_x = - g * dt;\n",
    "    let theta_zz = J * dt;\n",
    "\n",
    "    // Perform K steps\n",
    "    for i in 1..numberOfSteps {\n",
    "\n",
    "        // Single-qubit interaction with external field\n",
    "        for q in qubits {\n",
    "            Rx(2.0 * theta_x, q);\n",
    "        }\n",
    "\n",
    "        // All Rzz gates applied in the following two loops commute so they can be\n",
    "        // applied in any order. To reduce the depth of the algorithm, Rzz gates\n",
    "        // between horizontal \"even\" pairs of qubits are applied first - pairs\n",
    "        // that start at even indices. Then Rzz gates between \"odd\" pairs are\n",
    "        // applied. That way all Rzz between horizontal \"even\" pairs can potentially\n",
    "        // be done in parallel. Same is true about horizontal \"odd\"  pairs,\n",
    "        // vertical \"even\" pairs and vertical \"odd\" pairs.\n",
    "\n",
    "        // Horizontal two-qubit interactions\n",
    "        for row in 0..N1-1 {\n",
    "            // Horizontal interactions between \"even\" pairs\n",
    "            for col in 0..2..N2-2 {\n",
    "                Rzz(2.0 * theta_zz, qubitsAs2D[row][col], qubitsAs2D[row][col + 1]);\n",
    "            }\n",
    "\n",
    "            // Horizontal interactions between \"odd\" pairs\n",
    "            for col in 1..2..N2-2 {\n",
    "                Rzz(2.0 * theta_zz, qubitsAs2D[row][col], qubitsAs2D[row][col + 1]);\n",
    "            }\n",
    "        }\n",
    "\n",
    "        // Vertical two-qubit interactions\n",
    "        for col in 0..N2-1 {\n",
    "\n",
    "            // Vertical interactions between \"even\" pairs\n",
    "            for row in 0..2..N1-2 {\n",
    "                Rzz(2.0 * theta_zz, qubitsAs2D[row][col], qubitsAs2D[row + 1][col]);\n",
    "            }\n",
    "\n",
    "            // Vertical interactions between \"odd\" pairs\n",
    "            for row in 1..2..N1-2 {\n",
    "                Rzz(2.0 * theta_zz, qubitsAs2D[row][col], qubitsAs2D[row + 1][col]);\n",
    "            }\n",
    "\n",
    "        }\n",
    "\n",
    "    }\n",
    "\n",
    "    MResetEachZ(qubits)\n",
    "}\n"
   ]
  },
  {
   "cell_type": "code",
   "execution_count": null,
   "id": "0a72e87e",
   "metadata": {},
   "outputs": [],
   "source": [
    "%time qir = qsharp.compile(qsharp.code.CliffordIsing)\n",
    "len(str(qir).splitlines())"
   ]
  },
  {
   "cell_type": "code",
   "execution_count": null,
   "id": "7e2b57a3",
   "metadata": {},
   "outputs": [],
   "source": [
    "from qsharp.passes import transform\n",
    "\n",
    "transformed_qir = transform(qir, check_clifford=True, verbose=True)\n",
    "len(str(transformed_qir).splitlines())"
   ]
  },
  {
   "cell_type": "code",
   "execution_count": null,
   "id": "4ef08355",
   "metadata": {},
   "outputs": [],
   "source": [
    "from qsharp_widgets import Atoms\n",
    "from qsharp.passes import trace, AC1K\n",
    "\n",
    "Atoms(\n",
    "    machine_layout = AC1K,\n",
    "    trace_data = trace(transformed_qir),\n",
    ")"
   ]
  },
  {
   "cell_type": "code",
   "execution_count": null,
   "id": "de8d7ead",
   "metadata": {},
   "outputs": [],
   "source": [
    "%time trace(transformed_qir)"
   ]
  }
 ],
 "metadata": {
  "kernelspec": {
   "display_name": "Python 3",
   "language": "python",
   "name": "python3"
  },
  "language_info": {
   "codemirror_mode": {
    "name": "ipython",
    "version": 3
   },
   "file_extension": ".py",
   "mimetype": "text/x-python",
   "name": "python",
   "nbconvert_exporter": "python",
   "pygments_lexer": "ipython3",
   "version": "3.11.13"
  }
 },
 "nbformat": 4,
 "nbformat_minor": 5
}
