{
 "cells": [
  {
   "cell_type": "markdown",
   "id": "709bb25d",
   "metadata": {},
   "source": [
    "# Cirq Samples Index\n",
    "\n",
    "This lightweight index notebook points to the curated Cirq educational notebooks in this folder:\n",
    "\n",
    "1. `cirq_intro.ipynb` — Basic qubits, circuits, and a quantum random number generator.\n",
    "2. `cirq_teleportation_basics.ipynb` — Teleportation protocol using primitive operations.\n",
    "3. `cirq_custom_gates.ipynb` — Defining and decomposing custom gates for readability.\n",
    "4. `cirq_classical_control_and_barriers.ipynb` — Classical feed-forward corrections and enforcing moment boundaries.\n",
    "5. `cirq_phase_lookup.ipynb` — Advanced symbolic phase lookup (Phaseup) with custom structured gates.\n",
    "\n",
    "Open each notebook in order for a progressive learning experience.\n",
    "\n",
    "> Tip: Run cells incrementally and inspect circuits after each construction step to build intuition about how Cirq schedules operations into moments."
   ]
  }
 ],
 "metadata": {
  "language_info": {
   "name": "python"
  }
 },
 "nbformat": 4,
 "nbformat_minor": 5
}
