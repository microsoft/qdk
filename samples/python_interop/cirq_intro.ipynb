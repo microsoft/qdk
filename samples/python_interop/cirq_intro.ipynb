{
 "cells": [
  {
   "cell_type": "markdown",
   "id": "0352b5aa",
   "metadata": {},
   "source": [
    "# Cirq Introduction: Quantum Random Number Generator\n",
    "\n",
    "This notebook introduces basic Cirq concepts: qubits, gates vs. operations, circuits, simulation, and collecting measurement statistics. We'll build a simple quantum random number generator (QRNG) using a Hadamard gate and a measurement."
   ]
  },
  {
   "cell_type": "markdown",
   "id": "dd2cf71f",
   "metadata": {},
   "source": [
    "## 1. Environment Setup\n",
    "If Cirq isn't installed in your environment you can uncomment and run the next cell. (It's often pre-installed in curated quantum environments.)"
   ]
  },
  {
   "cell_type": "code",
   "execution_count": null,
   "id": "21bc9584",
   "metadata": {},
   "outputs": [],
   "source": [
    "# Optional install (uncomment if needed)\n",
    "# %pip install cirq --quiet"
   ]
  },
  {
   "cell_type": "markdown",
   "id": "c1428ea5",
   "metadata": {},
   "source": [
    "## 2. Imports\n",
    "We first import Cirq."
   ]
  },
  {
   "cell_type": "code",
   "execution_count": null,
   "id": "22020141",
   "metadata": {},
   "outputs": [],
   "source": [
    "import cirq"
   ]
  },
  {
   "cell_type": "markdown",
   "id": "e24a71f4",
   "metadata": {},
   "source": [
    "## 3. Defining the QRNG Program\n",
    "We create a function returning a sequence of Cirq operations. Note the distinction: a *Gate* is a template; an *Operation* applies that gate to specific qubits."
   ]
  },
  {
   "cell_type": "code",
   "execution_count": null,
   "id": "fbc500f4",
   "metadata": {},
   "outputs": [],
   "source": [
    "from typing import Sequence\n",
    "\n",
    "def qrng() -> Sequence[cirq.Operation]:\n",
    "    a = cirq.NamedQubit(\"a\")  # Could also use LineQubit, GridQubit, etc.\n",
    "    return [\n",
    "        cirq.H.on(a),            # Put |0> into equal superposition |+>\n",
    "        cirq.measure(a, key='result')  # Measure in Z basis -> random 0/1\n",
    "    ]"
   ]
  },
  {
   "cell_type": "markdown",
   "id": "52049f16",
   "metadata": {},
   "source": [
    "## 4. Building a Circuit\n",
    "A `cirq.Circuit` organizes moments (time steps). We'll print the raw operations and the formatted circuit."
   ]
  },
  {
   "cell_type": "code",
   "execution_count": null,
   "id": "353b15bb",
   "metadata": {},
   "outputs": [],
   "source": [
    "program = qrng()\n",
    "print('Program operations:')\n",
    "for op in program:\n",
    "    print('  ', op)\n",
    "\n",
    "circuit = cirq.Circuit(program)\n",
    "print('Circuit:')\n",
    "print(circuit)"
   ]
  },
  {
   "cell_type": "markdown",
   "id": "032bbab2",
   "metadata": {},
   "source": [
    "## 5. Visualizing the Circuit (cirq.vis)\n",
    "\n",
    "Besides printing a textual diagram, Cirq can render richer visualizations. Below we try:\n",
    "\n",
    "1. `cirq.vis` (newer visualization APIs, if present in this Cirq version).\n",
    "2. Fallback to the older SVG helper (`cirq.contrib.svg.SVGCircuit`).\n",
    "3. Final fallback: print the text diagram again.\n",
    "\n",
    "Run the next cell to attempt these visualizations."
   ]
  },
  {
   "cell_type": "code",
   "execution_count": null,
   "id": "5a7be3f0",
   "metadata": {},
   "outputs": [],
   "source": [
    "# Attempt richer visualization pathways for the freshly built `circuit`.\n",
    "visualized = False\n",
    "try:\n",
    "    import cirq.vis as cvis\n",
    "    if hasattr(cvis, 'Circuit') and callable(getattr(cvis, 'Circuit')):\n",
    "        display(cvis.Circuit(circuit))\n",
    "        visualized = True\n",
    "    elif hasattr(cvis, 'render_circuit'):\n",
    "        cvis.render_circuit(circuit)\n",
    "        visualized = True\n",
    "except Exception as e:\n",
    "    print(\"cirq.vis not available or failed:\", e)\n",
    "\n",
    "if not visualized:\n",
    "    try:\n",
    "        from cirq.contrib.svg import SVGCircuit\n",
    "        display(SVGCircuit(circuit))\n",
    "        visualized = True\n",
    "    except Exception as e:\n",
    "        print(\"SVG contrib visualization not available:\", e)\n",
    "\n",
    "if not visualized:\n",
    "    print(\"Plain text diagram fallback (already printed above):\\n\")\n",
    "    print(circuit)"
   ]
  },
  {
   "cell_type": "markdown",
   "id": "9f2098c4",
   "metadata": {},
   "source": [
    "## 6. Simulation\n",
    "\n",
    "We run the circuit multiple times (shots) to build a histogram of outcomes."
   ]
  },
  {
   "cell_type": "code",
   "execution_count": null,
   "id": "5427199e",
   "metadata": {},
   "outputs": [],
   "source": [
    "simulator = cirq.Simulator()\n",
    "result = simulator.run(circuit, repetitions=1000)\n",
    "hist = result.histogram(key='result')\n",
    "print('Raw counts:', hist)"
   ]
  },
  {
   "cell_type": "markdown",
   "id": "9db2961d",
   "metadata": {},
   "source": [
    "## 7. Visualizing the Measurement Distribution\n",
    "\n",
    "Ideally the counts are close to 50/50 for 0 and 1 (quantum randomness). We will visualize the results using matplotlib."
   ]
  },
  {
   "cell_type": "code",
   "execution_count": null,
   "id": "a4d459ee",
   "metadata": {},
   "outputs": [],
   "source": [
    "import matplotlib.pyplot as plt\n",
    "\n",
    "plt.bar(hist.keys(), hist.values(), color=['#4C72B0', '#55A868'])\n",
    "plt.xticks([0,1])\n",
    "plt.xlabel('Measured value')\n",
    "plt.ylabel('Counts')\n",
    "plt.title('QRNG Output Distribution (1000 shots)')\n",
    "plt.show()"
   ]
  },
  {
   "cell_type": "markdown",
   "id": "fca0117b",
   "metadata": {},
   "source": [
    "## 8. Next Steps\n",
    "\n",
    "You now know how to: create a qubit, apply a gate, build a circuit, visualize it, and simulate measurements. Continue with the teleportation notebook to explore multi-qubit circuits and classical control."
   ]
  }
 ],
 "metadata": {
  "kernelspec": {
   "display_name": ".venv",
   "language": "python",
   "name": "python3"
  },
  "language_info": {
   "codemirror_mode": {
    "name": "ipython",
    "version": 3
   },
   "file_extension": ".py",
   "mimetype": "text/x-python",
   "name": "python",
   "nbconvert_exporter": "python",
   "pygments_lexer": "ipython3",
   "version": "3.13.9"
  }
 },
 "nbformat": 4,
 "nbformat_minor": 5
}
