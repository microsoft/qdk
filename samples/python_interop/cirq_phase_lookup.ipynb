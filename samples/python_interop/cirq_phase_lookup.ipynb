{
 "cells": [
  {
   "cell_type": "markdown",
   "id": "63d46134",
   "metadata": {},
   "source": [
    "# Phase Lookup (Phaseup) Procedure in Cirq\n",
    "\n",
    "This advanced notebook explores a symbolic phase lookup mechanism inspired by Gidney (2025). We introduce custom gates for constructing power-product (monomial) registers, applying multi-target classically controlled phases, and uncomputing intermediate data structures."
   ]
  },
  {
   "cell_type": "markdown",
   "id": "1a7bbc8c",
   "metadata": {},
   "source": [
    "## 1. Imports"
   ]
  },
  {
   "cell_type": "code",
   "execution_count": null,
   "id": "9305ab1d",
   "metadata": {},
   "outputs": [],
   "source": [
    "import cirq\n",
    "import sympy\n",
    "from sympy import symbols\n",
    "from typing import Sequence"
   ]
  },
  {
   "cell_type": "markdown",
   "id": "fe0c99ab",
   "metadata": {},
   "source": [
    "## 2. Core Utility Gates\n",
    "We define reduced versions of the support gates from the sample module (AndGate, MultitargetZGate, MultitargetCZGate, BarrierGate)."
   ]
  },
  {
   "cell_type": "code",
   "execution_count": null,
   "id": "685c1df6",
   "metadata": {},
   "outputs": [],
   "source": [
    "class AndGate(cirq.Gate):\n",
    "    def _num_qubits_(self): return 3\n",
    "    def _decompose_(self, qs): yield cirq.CCNOT.on(*qs)\n",
    "    def _circuit_diagram_info_(self, args): return ['●','●','X']\n",
    "\n",
    "class MultitargetZGate(cirq.Gate):\n",
    "    def __init__(self, n_qubits:int, classical_controls):\n",
    "        self.n_qubits=n_qubits; self.cc = classical_controls\n",
    "    def _num_qubits_(self): return self.n_qubits\n",
    "    def _decompose_(self, qs):\n",
    "        for i in range(self.n_qubits):\n",
    "            yield cirq.Z.on(qs[i]).with_classical_controls(self.cc[i])\n",
    "    def _circuit_diagram_info_(self, args):\n",
    "        return cirq.CircuitDiagramInfo(wire_symbols=tuple(f'Z^({c})' for c in self.cc))\n",
    "\n",
    "class MultitargetCZGate(cirq.Gate):\n",
    "    def __init__(self, n_targets:int, classical_controls):\n",
    "        self.n_targets=n_targets; self.cc=classical_controls\n",
    "    def _num_qubits_(self): return self.n_targets+1\n",
    "    def _decompose_(self, qs):\n",
    "        c, *targets = qs\n",
    "        for i in range(self.n_targets):\n",
    "            yield cirq.CZ.on(c, targets[i]).with_classical_controls(self.cc[i])\n",
    "    def _circuit_diagram_info_(self, args):\n",
    "        return cirq.CircuitDiagramInfo(wire_symbols=('●',)+tuple(f'Z^({c})' for c in self.cc))\n",
    "\n",
    "class BarrierGate(cirq.Gate):\n",
    "    def __init__(self,n:int): self.n=n\n",
    "    def _num_qubits_(self): return self.n\n",
    "    def _decompose_(self, qs): return []\n",
    "    def _circuit_diagram_info_(self, args): return cirq.CircuitDiagramInfo(wire_symbols=('│',)*self.n)"
   ]
  },
  {
   "cell_type": "markdown",
   "id": "c958a8d1",
   "metadata": {},
   "source": [
    "## 3. Power Product Register Construction (DoPowerProductGate)"
   ]
  },
  {
   "cell_type": "code",
   "execution_count": null,
   "id": "2709c0f1",
   "metadata": {},
   "outputs": [],
   "source": [
    "class DoPowerProductGate(cirq.Gate):\n",
    "    def __init__(self, n_vars:int):\n",
    "        if n_vars < 1: raise ValueError('n_vars >= 1 required')\n",
    "        self.n_vars=n_vars\n",
    "        self.n_minterms = 1<<n_vars\n",
    "        self.n_monomials = self.n_minterms - 1\n",
    "    def _num_qubits_(self): return self.n_monomials\n",
    "    def _decompose_(self, qs):\n",
    "        qs=[None]+list(qs)\n",
    "        and_gate=AndGate()\n",
    "        for i in range(1, self.n_vars):\n",
    "            var_index = 1<<i\n",
    "            for j in range(1, var_index):\n",
    "                yield and_gate.on(qs[j], qs[var_index], qs[var_index+j])\n",
    "    def _circuit_diagram_info_(self,args):\n",
    "        return cirq.CircuitDiagramInfo(wire_symbols=('PP',)+('.',)*(self.n_monomials-1))\n",
    "    @classmethod\n",
    "    def rearrange_qubits(cls, src, aux):\n",
    "        n=len(src); expected=(1<<n)-n-1\n",
    "        if len(aux)!=expected: raise ValueError('Wrong aux count')\n",
    "        out=[None]; next_aux=0\n",
    "        for qi,q in enumerate(src):\n",
    "            out.append(q)\n",
    "            count_new=len(out)-2\n",
    "            if count_new>0:\n",
    "                out.extend(aux[next_aux:next_aux+count_new])\n",
    "                next_aux+=count_new\n",
    "        return out"
   ]
  },
  {
   "cell_type": "markdown",
   "id": "5e77d53c",
   "metadata": {},
   "source": [
    "## 4. Uncompute Register (UndoPowerProductGate)"
   ]
  },
  {
   "cell_type": "code",
   "execution_count": null,
   "id": "e4dea9df",
   "metadata": {},
   "outputs": [],
   "source": [
    "class UndoPowerProductGate(cirq.Gate):\n",
    "    def __init__(self, tag:str, n_vars:int):\n",
    "        if n_vars<1: raise ValueError('n_vars>=1')\n",
    "        self.tag=tag; self.n_vars=n_vars\n",
    "        self.n_minterms=1<<n_vars; self.n_monomials=self.n_minterms-1\n",
    "    def _num_qubits_(self): return self.n_monomials\n",
    "    def _decompose_(self, qs):\n",
    "        if self.n_minterms<=1: return\n",
    "        products=[None]+list(qs)\n",
    "        h=self.n_minterms//2\n",
    "        while h>1:\n",
    "            classical_controls=[]\n",
    "            for i in range(h+1,2*h):\n",
    "                key=cirq.MeasurementKey(f'{self.tag}_{i}')\n",
    "                yield cirq.H.on(products[i])\n",
    "                yield cirq.measure(products[i], key=key.name)\n",
    "                classical_controls.append(key)\n",
    "            if h+1<2*h:\n",
    "                yield BarrierGate(2).on(products[h+1], products[h])\n",
    "            yield MultitargetCZGate(h-1, classical_controls).on(products[h], *products[1:h])\n",
    "            h//=2\n",
    "    def _circuit_diagram_info_(self,args):\n",
    "        return cirq.CircuitDiagramInfo(wire_symbols=('UPP',)+('.',)*(self.n_monomials-1))"
   ]
  },
  {
   "cell_type": "markdown",
   "id": "907a01f9",
   "metadata": {},
   "source": [
    "## 5. Boolean Möbius Transform Helper"
   ]
  },
  {
   "cell_type": "code",
   "execution_count": null,
   "id": "4b39c3a6",
   "metadata": {},
   "outputs": [],
   "source": [
    "from sympy import Xor, Expr\n",
    "def boole_mobius_transform(exprs):\n",
    "    n=len(exprs)\n",
    "    if n & (n-1)!=0: raise ValueError('Length must be power of 2')\n",
    "    coeffs=list(exprs)\n",
    "    step=1\n",
    "    while step<n:\n",
    "        for i in range(0,n,2*step):\n",
    "            for j in range(step):\n",
    "                a=coeffs[i+j]; b=coeffs[i+j+step]\n",
    "                coeffs[i+j+step]=Xor(a,b,evaluate=False)\n",
    "        step*=2\n",
    "    return coeffs"
   ]
  },
  {
   "cell_type": "markdown",
   "id": "da64666d",
   "metadata": {},
   "source": [
    "## 6. PhaseupGate: Putting It Together"
   ]
  },
  {
   "cell_type": "code",
   "execution_count": null,
   "id": "b9c118fe",
   "metadata": {},
   "outputs": [],
   "source": [
    "class PhaseupGate(cirq.Gate):\n",
    "    def __init__(self, tag:str, n_vars:int, data):\n",
    "        if n_vars<1: raise ValueError('n_vars>=1')\n",
    "        if len(data)!=(1<<n_vars): raise ValueError('data length mismatch')\n",
    "        self.tag=tag; self.n_vars=n_vars; self.data=data\n",
    "        self.n_minterms=1<<n_vars; self.n_monomials=self.n_minterms-1\n",
    "        self.n_aux=self.n_monomials - n_vars\n",
    "    def get_aux_count(self): return self.n_aux\n",
    "    def _num_qubits_(self): return self.n_monomials\n",
    "    def _decompose_(self, qs):\n",
    "        vars=qs[:self.n_vars]; aux=qs[self.n_vars:]\n",
    "        mon = DoPowerProductGate.rearrange_qubits(vars, aux)\n",
    "        coeffs = boole_mobius_transform(self.data)\n",
    "        yield DoPowerProductGate(self.n_vars).on(*mon[1:])\n",
    "        yield MultitargetZGate(self.n_monomials, coeffs[1:]).on(*mon[1:])\n",
    "        yield UndoPowerProductGate(self.tag, self.n_vars).on(*mon[1:])\n",
    "    def _circuit_diagram_info_(self,args):\n",
    "        return cirq.CircuitDiagramInfo(wire_symbols=('?ZZ',)*self.n_vars + ('?&ZZ',)*(self.n_monomials-self.n_vars))"
   ]
  },
  {
   "cell_type": "markdown",
   "id": "011f369f",
   "metadata": {},
   "source": [
    "## 7. Example Usage"
   ]
  },
  {
   "cell_type": "code",
   "execution_count": null,
   "id": "775db69c",
   "metadata": {},
   "outputs": [],
   "source": [
    "n=3\n",
    "data = list(symbols(' '.join(f'x{i}' for i in range(1<<n))))\n",
    "PU = PhaseupGate('demo', n, data)\n",
    "orig = cirq.LineQubit.range(n)\n",
    "aux = cirq.LineQubit.range(n, n+PU.get_aux_count())\n",
    "op = PU.on(*(orig+aux))\n",
    "# Decompose for readability (filter away high-level gates)\n",
    "def keep_fn(op: cirq.Operation):\n",
    "    g=getattr(op,'gate',None)\n",
    "    return not isinstance(g, (PhaseupGate, DoPowerProductGate, UndoPowerProductGate))\n",
    "circuit = cirq.Circuit(cirq.decompose(op, keep=keep_fn))\n",
    "print(circuit)"
   ]
  },
  {
   "cell_type": "markdown",
   "id": "5de8d4fc",
   "metadata": {},
   "source": [
    "## 8. Export to OpenQASM (Optional)\n",
    "Cirq can export circuits to OpenQASM 3.0 for interoperability."
   ]
  },
  {
   "cell_type": "code",
   "execution_count": null,
   "id": "c14ac41b",
   "metadata": {},
   "outputs": [],
   "source": [
    "print(circuit.to_qasm(version='3.0'))"
   ]
  },
  {
   "cell_type": "markdown",
   "id": "0202c1fa",
   "metadata": {},
   "source": [
    "## 9. Exercises\n",
    "1. Change `n` to 4 and observe qubit growth.\n",
    "2. Replace symbolic `data` with explicit Boolean constants (e.g. `sympy.true`, `sympy.false`).\n",
    "3. Inspect individual decomposed moments to understand measurement + barrier sequencing."
   ]
  }
 ],
 "metadata": {
  "kernelspec": {
   "display_name": ".venv",
   "language": "python",
   "name": "python3"
  },
  "language_info": {
   "codemirror_mode": {
    "name": "ipython",
    "version": 3
   },
   "file_extension": ".py",
   "mimetype": "text/x-python",
   "name": "python",
   "nbconvert_exporter": "python",
   "pygments_lexer": "ipython3",
   "version": "3.13.9"
  }
 },
 "nbformat": 4,
 "nbformat_minor": 5
}
