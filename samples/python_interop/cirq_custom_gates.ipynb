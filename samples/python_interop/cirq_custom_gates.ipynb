{
 "cells": [
  {
   "cell_type": "markdown",
   "id": "562a32e3",
   "metadata": {},
   "source": [
    "# Custom Gates and Decomposition in Cirq\n",
    "\n",
    "This notebook shows how to define custom gates to encapsulate multi-step patterns, how Cirq decomposes them, and how to selectively keep or expand custom structure."
   ]
  },
  {
   "cell_type": "markdown",
   "id": "ab6f8552",
   "metadata": {},
   "source": [
    "## 1. Imports"
   ]
  },
  {
   "cell_type": "code",
   "execution_count": null,
   "id": "b3433c56",
   "metadata": {},
   "outputs": [],
   "source": [
    "import cirq\n",
    "from typing import Sequence"
   ]
  },
  {
   "cell_type": "markdown",
   "id": "83389b68",
   "metadata": {},
   "source": [
    "## 2. Defining Custom Gates\n",
    "We'll create gates for Bell pair preparation and message preparation used in teleportation."
   ]
  },
  {
   "cell_type": "code",
   "execution_count": null,
   "id": "5209fbc3",
   "metadata": {},
   "outputs": [],
   "source": [
    "class BellPairGate(cirq.Gate):\n",
    "    def _num_qubits_(self):\n",
    "        return 2\n",
    "    def _decompose_(self, qubits):\n",
    "        c, t = qubits\n",
    "        yield cirq.H(c)\n",
    "        yield cirq.CNOT(c, t)\n",
    "    def _circuit_diagram_info_(self, args):\n",
    "        return 'BP','BP'\n",
    "\n",
    "class MessagePrepGate(cirq.Gate):\n",
    "    def _num_qubits_(self):\n",
    "        return 2\n",
    "    def _decompose_(self, qubits):\n",
    "        m, a = qubits\n",
    "        yield cirq.CNOT(m, a)\n",
    "        yield cirq.H(m)\n",
    "    def _circuit_diagram_info_(self, args):\n",
    "        return 'PM_M','PM_A'\n",
    "\n",
    "BP = BellPairGate()\n",
    "MP = MessagePrepGate()"
   ]
  },
  {
   "cell_type": "markdown",
   "id": "9e0fcb35",
   "metadata": {},
   "source": [
    "## 3. Teleportation with Custom Gates"
   ]
  },
  {
   "cell_type": "code",
   "execution_count": null,
   "id": "de07ff35",
   "metadata": {},
   "outputs": [],
   "source": [
    "def simple_teleportation() -> Sequence[cirq.Operation]:\n",
    "    alice = cirq.NamedQubit('alice')\n",
    "    bob = cirq.NamedQubit('bob')\n",
    "    msg = cirq.NamedQubit('msg')\n",
    "\n",
    "    program: Sequence[cirq.Operation] = []\n",
    "    # 1. Prepare Bell pair between alice and bob\n",
    "    program.append(BP.on(alice, bob))\n",
    "    # 2. Prepare message qubit in Rx(0.7)|0>\n",
    "    program.append(cirq.rx(0.7)(msg))\n",
    "    # 3. Entangle message with alice (Bell + measurement portion of teleportation)\n",
    "    program.append(MP.on(msg, alice))\n",
    "    # 4. Measure message and alice to obtain classical bits b1, b2\n",
    "    program.append(cirq.measure(msg, key='b1'))\n",
    "    program.append(cirq.measure(alice, key='b2'))\n",
    "    # 5. Apply feed-forward corrections to bob\n",
    "    program.append(cirq.Z.on(bob).with_classical_controls('b1'))\n",
    "    program.append(cirq.X.on(bob).with_classical_controls('b2'))\n",
    "    program.append(cirq.measure(bob, key='result'))\n",
    "    return program"
   ]
  },
  {
   "cell_type": "markdown",
   "id": "54968cd9",
   "metadata": {},
   "source": [
    "## 4. Inspect the Circuit with Custom Gates"
   ]
  },
  {
   "cell_type": "code",
   "execution_count": null,
   "id": "8d8ce308",
   "metadata": {},
   "outputs": [],
   "source": [
    "circuit = cirq.Circuit(simple_teleportation())\n",
    "print('Circuit with custom gates:')\n",
    "print(circuit)"
   ]
  },
  {
   "cell_type": "markdown",
   "id": "8c98e44a",
   "metadata": {},
   "source": [
    "## 5. Full Decomposition\n",
    "We can ask Cirq to decompose all gates to primitive operations."
   ]
  },
  {
   "cell_type": "code",
   "execution_count": null,
   "id": "068d7430",
   "metadata": {},
   "outputs": [],
   "source": [
    "decomposed_full = cirq.Circuit(cirq.decompose(circuit))\n",
    "print('Fully decomposed:')\n",
    "print(decomposed_full)"
   ]
  },
  {
   "cell_type": "markdown",
   "id": "c9e98407",
   "metadata": {},
   "source": [
    "## 6. Selective Decomposition\n",
    "\n",
    "The `keep` predicate controls where recursive decomposition stops:\n",
    "- If `keep(op)` returns True, the operation is left as-is.\n",
    "- If it returns False, Cirq tries to expand the operation via its decomposition methods.\n",
    "\n",
    "In the example below, we decompose only the custom gates (`BellPairGate`, `MessagePrepGate`) by returning False for them and True for everything else."
   ]
  },
  {
   "cell_type": "code",
   "execution_count": null,
   "id": "ac09e4b7",
   "metadata": {},
   "outputs": [],
   "source": [
    "def keep(op: cirq.Operation) -> bool:\n",
    "    gate = getattr(op, 'gate', None)\n",
    "    return not isinstance(gate, (BellPairGate, MessagePrepGate))\n",
    "\n",
    "decomposed_custom = cirq.Circuit(cirq.decompose(circuit, keep=keep))\n",
    "print('Decomposed custom gates removed:')\n",
    "print(decomposed_custom)"
   ]
  },
  {
   "cell_type": "markdown",
   "id": "6faa0c1e",
   "metadata": {},
   "source": [
    "## 7. Simulation\n",
    "\n",
    "We run the teleportation circuit several times to confirm Bob receives (approximately) the same state that was prepared on the message qubit. Because we removed the final inverse rotation, Bob's measurement statistics should reflect |ψ> = Rx(0.7)|0>. Expected probabilities: P(0) ≈ cos^2(0.35) ≈ 0.88, P(1) ≈ sin^2(0.35) ≈ 0.12."
   ]
  },
  {
   "cell_type": "code",
   "execution_count": null,
   "id": "1bdc4615",
   "metadata": {},
   "outputs": [],
   "source": [
    "import math\n",
    "\n",
    "sim = cirq.Simulator()\n",
    "result = sim.run(cirq.Circuit(simple_teleportation()), repetitions=1000)\n",
    "print(\"Histogram of teleported state measurements (expected ~88% zeros, ~12% ones):\")\n",
    "print(result.histogram(key='result'))\n",
    "\n",
    "# Expected probabilities\n",
    "p0 = math.cos(0.35)**2\n",
    "p1 = math.sin(0.35)**2\n",
    "print(f\"Expected P(0)≈{p0:.3f}, P(1)≈{p1:.3f}\")"
   ]
  },
  {
   "cell_type": "markdown",
   "id": "a25c41f7",
   "metadata": {},
   "source": [
    "## 8. Discussion\n",
    "Custom gates abstract repeated patterns and improve readability, while decomposition supports optimization, hardware mapping, or inspection."
   ]
  }
 ],
 "metadata": {
  "kernelspec": {
   "display_name": ".venv",
   "language": "python",
   "name": "python3"
  },
  "language_info": {
   "codemirror_mode": {
    "name": "ipython",
    "version": 3
   },
   "file_extension": ".py",
   "mimetype": "text/x-python",
   "name": "python",
   "nbconvert_exporter": "python",
   "pygments_lexer": "ipython3",
   "version": "3.13.9"
  }
 },
 "nbformat": 4,
 "nbformat_minor": 5
}
