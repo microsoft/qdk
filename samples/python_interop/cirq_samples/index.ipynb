{
 "cells": [
  {
   "cell_type": "markdown",
   "id": "709bb25d",
   "metadata": {},
   "source": [
    "# Cirq Samples Index\n",
    "\n",
    "This index lists the curated Cirq educational notebooks in this folder:\n",
    "\n",
    "1. `introduction.ipynb` — Basic qubits, circuits, and a quantum random number generator.\n",
    "2. `teleportation.ipynb` — Teleportation protocol using primitive operations.\n",
    "3. `custom_gates.ipynb` — Defining and decomposing custom gates for readability.\n",
    "4. `classical_control_and_barriers.ipynb` — Classical feed-forward corrections and enforcing moment boundaries.\n",
    "5. `submission_to_azure.ipynb` — Export Cirq to OpenQASM, compile to QIR, and submit to Azure Quantum.\n",
    "\n",
    "Open each notebook in order for a progressive learning experience.\n",
    "\n",
    "> Tip: Run cells incrementally and inspect circuits after each construction step to build intuition about how Cirq schedules operations into moments."
   ]
  }
 ],
 "metadata": {
  "language_info": {
   "name": "python"
  }
 },
 "nbformat": 4,
 "nbformat_minor": 5
}
