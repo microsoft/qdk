{
 "cells": [
  {
   "cell_type": "markdown",
   "id": "a0b520fb",
   "metadata": {},
   "source": [
    "# Quantum Teleportation in Cirq\n",
    "\n",
    "This notebook walks through constructing a minimal quantum teleportation protocol using basic Cirq operations. We'll explore entanglement, state preparation, measurement, and classical feed-forward corrections."
   ]
  },
  {
   "cell_type": "markdown",
   "id": "ade75f5f",
   "metadata": {},
   "source": [
    "## 1. Imports"
   ]
  },
  {
   "cell_type": "code",
   "execution_count": null,
   "id": "a8201f1b",
   "metadata": {},
   "outputs": [],
   "source": [
    "import cirq\n",
    "from typing import Sequence"
   ]
  },
  {
   "cell_type": "markdown",
   "id": "deeaace0",
   "metadata": {},
   "source": [
    "## 2. Helper Functions\n",
    "We define small helpers for Bell pair preparation and message encoding."
   ]
  },
  {
   "cell_type": "code",
   "execution_count": null,
   "id": "4557aa98",
   "metadata": {},
   "outputs": [],
   "source": [
    "def PrepareBellPair(q1: cirq.Qid, q2: cirq.Qid) -> Sequence[cirq.Operation]:\n",
    "    return [\n",
    "        cirq.H.on(q1),\n",
    "        cirq.CNOT.on(q1, q2)\n",
    "    ]\n",
    "\n",
    "def PrepareMessage(alice: cirq.Qid, message: cirq.Qid) -> Sequence[cirq.Operation]:\n",
    "    return [\n",
    "        cirq.CNOT.on(message, alice),\n",
    "        cirq.H.on(message)\n",
    "    ]"
   ]
  },
  {
   "cell_type": "markdown",
   "id": "b9e379d2",
   "metadata": {},
   "source": [
    "## 3. Building the Teleportation Operation List\n",
    "We build the protocol step-by-step."
   ]
  },
  {
   "cell_type": "code",
   "execution_count": null,
   "id": "3be71578",
   "metadata": {},
   "outputs": [],
   "source": [
    "def simple_teleportation() -> Sequence[cirq.Operation]:\n",
    "    alice = cirq.NamedQubit('alice')\n",
    "    bob = cirq.NamedQubit('bob')\n",
    "    program: Sequence[cirq.Operation] = []\n",
    "\n",
    "    # 1. Create entangled pair shared by Alice and Bob\n",
    "    program.extend(PrepareBellPair(alice, bob))\n",
    "\n",
    "    # 2. Prepare a message qubit (state to teleport)\n",
    "    msg = cirq.NamedQubit('msg')\n",
    "    program.append(cirq.rx(0.7)(msg))  # Example arbitrary state\n",
    "\n",
    "    # 3. Entangle message with Alice's qubit\n",
    "    program.extend(PrepareMessage(alice, msg))\n",
    "\n",
    "    # 4. Measure Alice + msg to obtain classical bits\n",
    "    program.append(cirq.measure(msg, key='b1'))\n",
    "    program.append(cirq.measure(alice, key='b2'))\n",
    "\n",
    "    # 5. Transmit classical bits 'b1' and 'b2' to Bob\n",
    "    # (no code needed, classical communication assumed)\n",
    "\n",
    "    # 6. Classical feed-forward corrections on Bob\n",
    "    program.append(cirq.Z.on(bob).with_classical_controls('b1'))\n",
    "    program.append(cirq.X.on(bob).with_classical_controls('b2'))\n",
    "\n",
    "    # 7. Measure Bob's qubit directly to sample teleported state\n",
    "    program.append(cirq.measure(bob, key='result'))\n",
    "    return program"
   ]
  },
  {
   "cell_type": "markdown",
   "id": "2882e3d0",
   "metadata": {},
   "source": [
    "## 4. Circuit Construction and Display\n",
    "\n",
    "When we build a `cirq.Circuit`, Cirq groups operations into *moments*. Each moment represents a layer of operations that are considered to occur simultaneously (i.e. they act on disjoint sets of qubits or otherwise commute under Cirq's scheduling rules).\n",
    "\n",
    "Reading the text diagram:\n",
    "- Each horizontal line corresponds to one qubit's timeline (here: `alice`, `bob`, and `msg`).\n",
    "- Each vertical column grouping of symbols is a **moment**. If two operations appear in the same single column they are scheduled together.\n",
    "- Sometimes a moment is too \"wide\" to visually place every operation in exactly the same column (for example, multi‑qubit gates plus single‑qubit gates that would overlap). In those cases Cirq stretches the moment across multiple adjacent columns and draws vertical bracket markers spanning those columns. All gates under a continuous set of these bracket markers still belong to the *same* moment.\n",
    "\n",
    "Moment markers (single column or multi‑column bracket spans) provide a quick visual cue to circuit *depth*: the number of sequential layers you must execute. Parallel operations reduce depth and can, in principle, shorten execution time on real hardware.\n",
    "\n",
    "Below we build the circuit and display its moment layout."
   ]
  },
  {
   "cell_type": "code",
   "execution_count": null,
   "id": "fa98e4a9",
   "metadata": {},
   "outputs": [],
   "source": [
    "program = simple_teleportation()\n",
    "circuit = cirq.Circuit(program)\n",
    "print(circuit)"
   ]
  },
  {
   "cell_type": "markdown",
   "id": "0b0801b1",
   "metadata": {},
   "source": [
    "## 5. Simulation\n",
    "We simulate many repetitions to get statistics of the final correction correctness."
   ]
  },
  {
   "cell_type": "code",
   "execution_count": null,
   "id": "dea51943",
   "metadata": {},
   "outputs": [],
   "source": [
    "import math\n",
    "\n",
    "sim = cirq.Simulator()\n",
    "result = sim.run(cirq.Circuit(simple_teleportation()), repetitions=1000)\n",
    "hist = result.histogram(key='result')\n",
    "print(\"Histogram of Bob's measurements (teleported state):\")\n",
    "print(hist)\n",
    "\n",
    "# Expected probabilities for |ψ> = Rx(0.7)|0>\n",
    "p0 = math.cos(0.35)**2\n",
    "p1 = math.sin(0.35)**2\n",
    "print(f\"Expected P(0)≈{p0:.3f}, P(1)≈{p1:.3f}\")"
   ]
  },
  {
   "cell_type": "markdown",
   "id": "73deefb5",
   "metadata": {},
   "source": [
    "## 6. Interpreting Results\n",
    "If teleportation succeeds, Bob's qubit should be in the same state |ψ> that was originally prepared on the message qubit. Since we prepared |ψ> = Rx(0.7)|0>, the measurement statistics should reflect the amplitudes of that state: P(0) ≈ cos^2(0.35) ≈ 0.88 and P(1) ≈ sin^2(0.35) ≈ 0.12."
   ]
  },
  {
   "cell_type": "markdown",
   "id": "23f20f05",
   "metadata": {},
   "source": [
    "## 7. Next Steps\n",
    "Try varying the rotation angle, or replacing `rx(0.7)` with other single-qubit gates (e.g. `cirq.ry(θ)`). Compare outcomes with and without classical control corrections."
   ]
  }
 ],
 "metadata": {
  "kernelspec": {
   "display_name": ".venv",
   "language": "python",
   "name": "python3"
  },
  "language_info": {
   "codemirror_mode": {
    "name": "ipython",
    "version": 3
   },
   "file_extension": ".py",
   "mimetype": "text/x-python",
   "name": "python",
   "nbconvert_exporter": "python",
   "pygments_lexer": "ipython3",
   "version": "3.13.9"
  }
 },
 "nbformat": 4,
 "nbformat_minor": 5
}
