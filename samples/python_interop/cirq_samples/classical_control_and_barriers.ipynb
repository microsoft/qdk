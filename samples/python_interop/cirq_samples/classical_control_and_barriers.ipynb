{
 "cells": [
  {
   "cell_type": "markdown",
   "id": "6f08a1c8",
   "metadata": {},
   "source": [
    "# Moments, Barriers, and Classical Control in Cirq\n",
    "\n",
    "This notebook teaches:\n",
    "- What a Cirq Moment is and how automatic packing works.\n",
    "- Why classical controls (measurement-key–conditioned ops) may not reshape moments by themselves.\n",
    "- Techniques to enforce or visualize phase boundaries: explicit moments, identity layers, custom barrier gates."
   ]
  },
  {
   "cell_type": "markdown",
   "id": "ddfbc7e4",
   "metadata": {},
   "source": [
    "## 1. Imports"
   ]
  },
  {
   "cell_type": "code",
   "execution_count": null,
   "id": "48f82964",
   "metadata": {},
   "outputs": [],
   "source": [
    "import cirq\n",
    "from typing import Sequence"
   ]
  },
  {
   "cell_type": "markdown",
   "id": "1f7e477e",
   "metadata": {},
   "source": [
    "## 2. Core Concepts\n",
    "\n",
    "A `cirq.Moment` is a parallel layer of operations with no shared qubits. Cirq packs a flat list of operations greedily into moments based only on qubit conflicts (and basic measurement ordering), not on classical-control dependencies.\n",
    "\n",
    "Classically controlled operations (e.g. `op.with_classical_controls('key')`) use measurement outcomes at execution time, but they do not automatically create a separate moment in the printed diagram. Therefore, if you need a guaranteed visual or structural boundary between measurements and feed-forward corrections, you must create one explicitly.\n",
    "\n",
    "First, we will define some custom gates to perform the teleportation algorithm. Some of these were seen in the custom gates notebook."
   ]
  },
  {
   "cell_type": "code",
   "execution_count": null,
   "id": "2e92b312",
   "metadata": {},
   "outputs": [],
   "source": [
    "import cirq\n",
    "from typing import Sequence\n",
    "\n",
    "# --- Helper: Bell pair preparation ---\n",
    "class BellPairGate(cirq.Gate):\n",
    "    def _num_qubits_(self): return 2\n",
    "    def _decompose_(self, qs):\n",
    "        c, t = qs\n",
    "        yield cirq.H(c)\n",
    "        yield cirq.CNOT(c, t)\n",
    "    def _circuit_diagram_info_(self, args): return 'BP','BP'\n",
    "BP = BellPairGate()\n",
    "\n",
    "# --- Helper: Bell-basis prep between message and Alice ---\n",
    "class MessagePrepGate(cirq.Gate):\n",
    "    def _num_qubits_(self): return 2\n",
    "    def _decompose_(self, qs):\n",
    "        m, a = qs\n",
    "        yield cirq.CNOT(m, a)\n",
    "        yield cirq.H(m)\n",
    "    def _circuit_diagram_info_(self, args): return 'ME_M','ME_A'\n",
    "MPrep = MessagePrepGate()\n",
    "\n",
    "# --- Feed-forward corrections (decomposes to classically controlled X/Z) ---\n",
    "class MessageCorrection(cirq.Gate):\n",
    "    def __init__(self, b1: str, b2: str):\n",
    "        self.b1 = b1; self.b2 = b2\n",
    "    def _num_qubits_(self): return 1\n",
    "    def _decompose_(self, qs):\n",
    "        (bob,) = qs\n",
    "        yield cirq.Z(bob).with_classical_controls(self.b1)\n",
    "        yield cirq.X(bob).with_classical_controls(self.b2)\n",
    "    def _circuit_diagram_info_(self, args): return f'Z^{self.b1}X^{self.b2}'"
   ]
  },
  {
   "cell_type": "markdown",
   "id": "37407aba",
   "metadata": {},
   "source": [
    "Next, we will define the three different ways of putting the algorithm together, one with automatic packing, one with using the barrier gate, and one with explicit moments."
   ]
  },
  {
   "cell_type": "code",
   "execution_count": null,
   "id": "75767054",
   "metadata": {},
   "outputs": [],
   "source": [
    "# --- Optional full-qubit barrier (visual layer separator) ---\n",
    "class BarrierGate(cirq.Gate):\n",
    "    def __init__(self, num_qubits: int): self._n = num_qubits\n",
    "    def _num_qubits_(self): return self._n\n",
    "    def _decompose_(self, qs): return []  # no-op\n",
    "    def _circuit_diagram_info_(self, args):\n",
    "        return cirq.CircuitDiagramInfo(wire_symbols=('│',) * self._n)\n",
    "\n",
    "# Teleportation ops as a flat list (auto packing may merge corrections upward if not separated)\n",
    "def teleport_ops_with_optional_barrier(use_barrier: bool) -> Sequence[cirq.Operation]:\n",
    "    alice = cirq.NamedQubit('alice')\n",
    "    bob = cirq.NamedQubit('bob')\n",
    "    msg = cirq.NamedQubit('msg')\n",
    "    ops: Sequence[cirq.Operation] = []\n",
    "    ops.append(BP.on(alice, bob))\n",
    "    ops.append(cirq.rx(0.7)(msg))\n",
    "    ops.append(MPrep.on(msg, alice))\n",
    "    ops.append(cirq.measure(msg, key='b1'))\n",
    "    ops.append(cirq.measure(alice, key='b2'))\n",
    "    if use_barrier:\n",
    "        ops.append(BarrierGate(3).on(msg, alice, bob))\n",
    "    ops.append(MessageCorrection('b1','b2').on(bob))\n",
    "    ops.append(cirq.measure(bob, key='result'))\n",
    "    return ops\n",
    "\n",
    "# Explicit-moment construction for guaranteed boundaries\n",
    "def teleport_explicit_moments() -> cirq.Circuit:\n",
    "    alice = cirq.NamedQubit('alice')\n",
    "    bob = cirq.NamedQubit('bob')\n",
    "    msg = cirq.NamedQubit('msg')\n",
    "    return cirq.Circuit([\n",
    "        cirq.Moment([cirq.H(alice)]),\n",
    "        cirq.Moment([cirq.CNOT(alice, bob), cirq.rx(0.7)(msg)]),\n",
    "        cirq.Moment([cirq.CNOT(msg, alice)]),\n",
    "        cirq.Moment([cirq.H(msg)]),\n",
    "        cirq.Moment([cirq.measure(msg, key='b1'), cirq.measure(alice, key='b2')]),\n",
    "        cirq.Moment([cirq.Z(bob).with_classical_controls('b1')]),\n",
    "        cirq.Moment([cirq.X(bob).with_classical_controls('b2')]),\n",
    "        cirq.Moment([cirq.measure(bob, key='result')]),\n",
    "    ])"
   ]
  },
  {
   "cell_type": "markdown",
   "id": "699db40e",
   "metadata": {},
   "source": [
    "## 3. Auto-Packed vs. Barrier vs. Explicit Moments\n",
    "We construct three circuits:\n",
    "1. Auto-packed (no barrier): may merge feed-forward corrections earlier.\n",
    "2. Auto-packed with barrier: forces a visible layer boundary.\n",
    "3. Explicit moments: manually defined phases, independent of greedy packing."
   ]
  },
  {
   "cell_type": "code",
   "execution_count": null,
   "id": "34d89135",
   "metadata": {},
   "outputs": [],
   "source": [
    "auto_no_barrier = cirq.Circuit(teleport_ops_with_optional_barrier(False))\n",
    "auto_with_barrier = cirq.Circuit(teleport_ops_with_optional_barrier(True))\n",
    "explicit = teleport_explicit_moments()\n",
    "\n",
    "print(\"Auto-packed (no barrier):\")\n",
    "print(auto_no_barrier)\n",
    "print(\"\\nAuto-packed (with barrier):\")\n",
    "print(auto_with_barrier)\n",
    "print(\"\\nExplicit moments:\")\n",
    "print(explicit)"
   ]
  },
  {
   "cell_type": "markdown",
   "id": "c51f88ad",
   "metadata": {},
   "source": [
    "## 5. Simulation\n",
    "We simulate the explicit-moment circuit to sample Bob's teleported state |ψ> = Rx(0.7)|0>. Expected probabilities: P(0) ≈ cos^2(0.35) ≈ 0.88, P(1) ≈ sin^2(0.35) ≈ 0.12."
   ]
  },
  {
   "cell_type": "code",
   "execution_count": null,
   "id": "fde6d95f",
   "metadata": {},
   "outputs": [],
   "source": [
    "import math\n",
    "\n",
    "sim = cirq.Simulator()\n",
    "result = sim.run(auto_with_barrier, repetitions=1000)\n",
    "print(\"Bob's teleported state measurement histogram (expected ~88% zeros, ~12% ones):\")\n",
    "print(result.histogram(key='result'))\n",
    "# Expected probabilities\n",
    "p0 = math.cos(0.35)**2\n",
    "p1 = math.sin(0.35)**2\n",
    "print(f\"Expected P(0)≈{p0:.3f}, P(1)≈{p1:.3f}\")"
   ]
  }
 ],
 "metadata": {
  "kernelspec": {
   "display_name": ".venv",
   "language": "python",
   "name": "python3"
  },
  "language_info": {
   "codemirror_mode": {
    "name": "ipython",
    "version": 3
   },
   "file_extension": ".py",
   "mimetype": "text/x-python",
   "name": "python",
   "nbconvert_exporter": "python",
   "pygments_lexer": "ipython3",
   "version": "3.13.9"
  }
 },
 "nbformat": 4,
 "nbformat_minor": 5
}
