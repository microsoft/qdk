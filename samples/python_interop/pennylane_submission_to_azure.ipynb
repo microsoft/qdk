{
 "cells": [
  {
   "cell_type": "markdown",
   "id": "9d94ebac",
   "metadata": {},
   "source": [
    "# PennyLane Circuit Export and Azure Quantum Submission (Experimental)\n",
    "\n",
    "This notebook shows an indicative workflow to export a PennyLane circuit to OpenQASM, then use QDK tooling to compile to QIR and submit to Azure Quantum. Implementation details may evolve; treat this as a conceptual bridge between PennyLane and Azure Quantum submission APIs."
   ]
  },
  {
   "cell_type": "markdown",
   "id": "963a2b97",
   "metadata": {},
   "source": [
    "## 1. Imports and Device"
   ]
  },
  {
   "cell_type": "code",
   "execution_count": 1,
   "id": "c2c780d4",
   "metadata": {},
   "outputs": [],
   "source": [
    "import pennylane as qml\n",
    "from pennylane import numpy as np"
   ]
  },
  {
   "cell_type": "code",
   "execution_count": 8,
   "id": "e1677110",
   "metadata": {},
   "outputs": [],
   "source": [
    "dev = qml.device('default.qubit', wires=2)"
   ]
  },
  {
   "cell_type": "markdown",
   "id": "90c7251c",
   "metadata": {},
   "source": [
    "## 2. Define a Simple Circuit\n",
    "We'll create a small parameterized circuit destined for export."
   ]
  },
  {
   "cell_type": "code",
   "execution_count": 9,
   "id": "306691e7",
   "metadata": {},
   "outputs": [],
   "source": [
    "@qml.qnode(dev)\n",
    "def small_ansatz(theta):\n",
    "    qml.H(0); qml.CNOT(wires=[0,1])\n",
    "    qml.RY(theta, wires=1)\n",
    "    return qml.expval(qml.PauliZ(1))"
   ]
  },
  {
   "cell_type": "markdown",
   "id": "2189b4f6",
   "metadata": {},
   "source": [
    "## 3. Draw for Inspection"
   ]
  },
  {
   "cell_type": "code",
   "execution_count": 10,
   "id": "e3c7d40c",
   "metadata": {},
   "outputs": [
    {
     "name": "stdout",
     "output_type": "stream",
     "text": [
      "0: ──H─╭●───────────┤     \n",
      "1: ────╰X──RY(0.30)─┤  <Z>\n"
     ]
    }
   ],
   "source": [
    "print(qml.draw(small_ansatz)(0.3))"
   ]
  },
  {
   "cell_type": "markdown",
   "id": "208c50c1",
   "metadata": {},
   "source": [
    "## 4. Export to OpenQASM (Conceptual)\n",
    "PennyLane offers QASM export for certain subsets via the `qml.qasm` transformation. We'll attempt to serialize the circuit. Note: Parameter handling may differ between frameworks; dynamic parameter substitution can be inlined for export."
   ]
  },
  {
   "cell_type": "code",
   "execution_count": null,
   "id": "5547fba0",
   "metadata": {},
   "outputs": [
    {
     "name": "stdout",
     "output_type": "stream",
     "text": [
      "OPENQASM 2.0;\n",
      "include \"qelib1.inc\";\n",
      "qreg q[2];\n",
      "creg c[2];\n",
      "h q[0];\n",
      "cx q[0],q[1];\n",
      "ry(0.3) q[1];\n",
      "measure q[0] -> c[0];\n",
      "measure q[1] -> c[1];\n",
      "\n"
     ]
    }
   ],
   "source": [
    "theta = 0.3\n",
    "qasm_str = qml.to_openqasm(small_ansatz)(theta)\n",
    "print(qasm_str)"
   ]
  },
  {
   "cell_type": "markdown",
   "id": "4135b456",
   "metadata": {},
   "source": [
    "## 5. Save QASM to File\n",
    "We write out the program so QDK tooling can consume it for translation (e.g., to QIR)."
   ]
  },
  {
   "cell_type": "code",
   "execution_count": null,
   "id": "daadc730",
   "metadata": {},
   "outputs": [],
   "source": [
    "qasm_path = 'exported_pennylane_program.qasm'\n",
    "with open(qasm_path, 'w') as f: f.write(qasm_str)\n",
    "print('Saved to', qasm_path)"
   ]
  },
  {
   "cell_type": "markdown",
   "id": "23642177",
   "metadata": {},
   "source": [
    "## 6. Compile & Submit via Azure Quantum (Placeholder)\n",
    "In a full integration, you'd leverage the QDK Python APIs or CLI-equivalent functions to:\n",
    "1. Parse OpenQASM into an intermediate representation.\n",
    "2. Compile to QIR.\n",
    "3. Submit the job with target specifications.\n",
    "\n",
    "Below we show placeholder calls; adapt with actual QDK APIs available in this environment."
   ]
  },
  {
   "cell_type": "code",
   "execution_count": null,
   "id": "f1e910ef",
   "metadata": {},
   "outputs": [],
   "source": [
    "# Pseudocode / placeholder - replace with real integration APIs as they become available in the environment.\n",
    "# from qsharp import compile_qasm_to_qir, submit_qir_job\n",
    "# qir_path = compile_qasm_to_qir(qasm_path)\n",
    "# job_id = submit_qir_job(qir_path, target='microsoft.estimator')\n",
    "# print('Submitted job id:', job_id)\n",
    "print('Placeholder for Azure Quantum submission workflow.')"
   ]
  },
  {
   "cell_type": "markdown",
   "id": "e4639481",
   "metadata": {},
   "source": [
    "## 7. Limitations\n",
    "Not all PennyLane operations map one-to-one into OpenQASM. Mid-circuit measurements, advanced gradient transforms, and control flow may require decomposition or unsupported features."
   ]
  },
  {
   "cell_type": "markdown",
   "id": "dd58892a",
   "metadata": {},
   "source": [
    "## 8. Next Steps\n",
    "Try exporting more complex ansatzes or integrate directly with Azure Quantum once the bridging utilities are available. Compare with Cirq's export path for differences."
   ]
  }
 ],
 "metadata": {
  "kernelspec": {
   "display_name": ".venv",
   "language": "python",
   "name": "python3"
  },
  "language_info": {
   "codemirror_mode": {
    "name": "ipython",
    "version": 3
   },
   "file_extension": ".py",
   "mimetype": "text/x-python",
   "name": "python",
   "nbconvert_exporter": "python",
   "pygments_lexer": "ipython3",
   "version": "3.13.9"
  }
 },
 "nbformat": 4,
 "nbformat_minor": 5
}
