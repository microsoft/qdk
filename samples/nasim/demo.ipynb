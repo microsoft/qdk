{
 "cells": [
  {
   "cell_type": "code",
   "execution_count": null,
   "id": "4b145728",
   "metadata": {},
   "outputs": [],
   "source": [
    "import time\n",
    "import qsharp\n",
    "from qsharp_widgets import Circuit, Histogram\n",
    "\n",
    "import qiskit_aer\n",
    "import qiskit_aer.noise\n",
    "\n",
    "from qsharp.noisy_simulator.qir_runner import Simulator, to_results, QirOps\n",
    "from qsharp.noisy_simulator.noise_model import create_default_noise_model, amplitude_damping_kraus\n",
    "\n",
    "qsharp.init(target_profile=qsharp.TargetProfile.Base)"
   ]
  },
  {
   "cell_type": "code",
   "execution_count": null,
   "id": "7651348e",
   "metadata": {
    "vscode": {
     "languageId": "qsharp"
    }
   },
   "outputs": [],
   "source": [
    "%%qsharp\n",
    "\n",
    "operation MyH(q: Qubit) : Unit {\n",
    "  Rz(3.141592653589793 / 2.0, q);\n",
    "  SX(q);\n",
    "  Rz(3.141592653589793 / 2.0, q);\n",
    "}\n",
    "\n",
    "operation MyCX(control: Qubit, target: Qubit) : Unit {\n",
    "  MyH(target);\n",
    "  CZ(control, target);\n",
    "  MyH(target);\n",
    "}\n",
    "\n",
    "operation Main() : Result[] {\n",
    "  use q = Qubit[2];\n",
    "\n",
    "  MyH(q[0]);\n",
    "  MyCX(q[0], q[1]);\n",
    "\n",
    "  return MResetEachZ(q);\n",
    "}"
   ]
  },
  {
   "cell_type": "code",
   "execution_count": null,
   "id": "58795cd2",
   "metadata": {},
   "outputs": [],
   "source": [
    "Circuit(qsharp.circuit(qsharp.code.Main))"
   ]
  },
  {
   "cell_type": "code",
   "execution_count": null,
   "id": "cf348b7d",
   "metadata": {},
   "outputs": [],
   "source": [
    "qsharp.run(qsharp.code.Main, shots=10)"
   ]
  },
  {
   "cell_type": "code",
   "execution_count": null,
   "id": "191e1e73",
   "metadata": {},
   "outputs": [],
   "source": [
    "qir = qsharp.compile(qsharp.code.Main)\n",
    "\n",
    "noise = create_default_noise_model()\n",
    "sim = Simulator(noise_model=noise)\n",
    "results = sim.run(qir, shots=10)\n",
    "print(\"\\n\".join(results))"
   ]
  },
  {
   "cell_type": "code",
   "execution_count": null,
   "id": "0242add4",
   "metadata": {},
   "outputs": [],
   "source": [
    "noise.add_kraus_operator(\"amp_damp_015\", amplitude_damping_kraus(0.15))\n",
    "noise.update_gate_noise(\"sx\", \"amp_damp_015\")\n",
    "noise.update_gate_noise(\"rz\", \"amp_damp_015\")\n",
    "\n",
    "results = sim.run(qir, shots=10)\n",
    "print(\"\\n\".join(results))"
   ]
  },
  {
   "cell_type": "code",
   "execution_count": null,
   "id": "9a897791",
   "metadata": {},
   "outputs": [],
   "source": [
    "qsharp.init(target_profile=qsharp.TargetProfile.Base)"
   ]
  },
  {
   "cell_type": "code",
   "execution_count": null,
   "id": "5b6a21cf",
   "metadata": {
    "vscode": {
     "languageId": "qsharp"
    }
   },
   "outputs": [],
   "source": [
    "%%qsharp\n",
    "\n",
    "/// # Sample\n",
    "/// Simulation of a simple Ising model evolution\n",
    "/// on a 2D grid with second-order Trotterization.\n",
    "///\n",
    "/// # Description\n",
    "/// This sample demonstrates simulation of an Ising model Hamiltonian\n",
    "/// on N1xN2 2D grid using a second-order Trotter-Suzuki approximation.\n",
    "/// This sample can be easily simulated classically with 3x3 grid and\n",
    "/// about 1000 shots. This sample is suitable for Base Profile.\n",
    "/// For the purpose of simplicity this sample intentionally doesn't\n",
    "/// post-process results or perform eigenvalue estimation.\n",
    "operation Main() : Result[] {\n",
    "    // Dimensions of a 2D grid is N1 x N2\n",
    "    let N1 : Int = 3;\n",
    "    let N2 : Int = 4;\n",
    "\n",
    "    // Total evolution time\n",
    "    let evolutionTime : Double = 4.0;\n",
    "    // Number of steps\n",
    "    let numberOfSteps : Int = 5;\n",
    "\n",
    "    // Coefficient for 2-qubit interactions between neighboring qubits\n",
    "    let J : Double = 1.0;\n",
    "    // Coefficient for external field interaction for individual qubits\n",
    "    let g : Double = 1.4;\n",
    "\n",
    "    // Also try simulating with different strength of external field:\n",
    "    // let g = 0.2;\n",
    "    // let g = 1.0;\n",
    "    // let g = 1.4;\n",
    "    // let g = 2.0;\n",
    "\n",
    "    // Model evolution\n",
    "    IsingModel2DEvolution(N1, N2, J, g, evolutionTime, numberOfSteps)\n",
    "}\n",
    "\n",
    "/// # Summary\n",
    "/// Simulate simple Ising model evolution\n",
    "///\n",
    "/// # Description\n",
    "/// Simulates state |𝜓⟩ evolution to find |𝜓(t)⟩=U(t)|𝜓(0)⟩.\n",
    "/// |𝜓(0)⟩ is taken to be |0...0⟩.\n",
    "/// U(t)=e⁻ⁱᴴᵗ, where H is an Ising model Hamiltonian H = -J·Σ'ᵢⱼZᵢZⱼ + g·ΣᵢXᵢ\n",
    "/// Here Σ' is taken over all pairs of neighboring qubits <i,j>.\n",
    "/// Simulation is done by performing K steps assuming U(t)≈(U(t/K))ᴷ.\n",
    "operation IsingModel2DEvolution(\n",
    "    N1 : Int,\n",
    "    N2 : Int,\n",
    "    J : Double,\n",
    "    g : Double,\n",
    "    evolutionTime : Double,\n",
    "    numberOfSteps : Int\n",
    ") : Result[] {\n",
    "\n",
    "    // Allocate qubit grid and structure it as a 2D array.\n",
    "    use qubits = Qubit[N1 * N2];\n",
    "    let qubitsAs2D = Std.Arrays.Chunks(N2, qubits);\n",
    "\n",
    "    // Compute the time step\n",
    "    let dt : Double = evolutionTime / Std.Convert.IntAsDouble(numberOfSteps);\n",
    "\n",
    "    let theta_x = - g * dt;\n",
    "    let theta_zz = J * dt;\n",
    "\n",
    "    // Perform K steps\n",
    "    for i in 1..numberOfSteps {\n",
    "\n",
    "        // Single-qubit interaction with external field. Half-step.\n",
    "        for q in qubits {\n",
    "            Rx(theta_x, q);\n",
    "        }\n",
    "\n",
    "        // All Rzz gates applied in the following two loops commute so they can be\n",
    "        // applied in any order. To reduce the depth of the algorithm, Rzz gates\n",
    "        // between horizontal \"even\" pairs of qubits are applied first - pairs\n",
    "        // that start at even indices. Then Rzz gates between \"odd\" pairs are\n",
    "        // applied. That way all Rzz between horizontal \"even\" pairs can potentially\n",
    "        // be done in parallel. Same is true about horizontal \"odd\"  pairs,\n",
    "        // vertical \"even\" pairs and vertical \"odd\" pairs.\n",
    "\n",
    "        // Horizontal two-qubit interactions.\n",
    "        for row in 0..N1-1 {\n",
    "            // Horizontal interactions between \"even\" pairs\n",
    "            for col in 0..2..N2-2 {\n",
    "                Rzz(2.0 * theta_zz, qubitsAs2D[row][col], qubitsAs2D[row][col + 1]);\n",
    "            }\n",
    "\n",
    "            // Horizontal interactions between \"odd\" pairs\n",
    "            for col in 1..2..N2-2 {\n",
    "                Rzz(2.0 * theta_zz, qubitsAs2D[row][col], qubitsAs2D[row][col + 1]);\n",
    "            }\n",
    "        }\n",
    "\n",
    "        // Vertical two-qubit interactions\n",
    "        for col in 0..N2-1 {\n",
    "\n",
    "            // Vertical interactions between \"even\" pairs\n",
    "            for row in 0..2..N1-2 {\n",
    "                Rzz(2.0 * theta_zz, qubitsAs2D[row][col], qubitsAs2D[row + 1][col]);\n",
    "            }\n",
    "\n",
    "            // Vertical interactions between \"odd\" pairs\n",
    "            for row in 1..2..N1-2 {\n",
    "                Rzz(2.0 * theta_zz, qubitsAs2D[row][col], qubitsAs2D[row + 1][col]);\n",
    "            }\n",
    "\n",
    "        }\n",
    "\n",
    "        // Single-qubit interaction with external field. Half-step.\n",
    "        for q in qubits {\n",
    "            Rx(theta_x, q);\n",
    "        }\n",
    "\n",
    "    }\n",
    "\n",
    "    MResetEachZ(qubits)\n",
    "}\n"
   ]
  },
  {
   "cell_type": "code",
   "execution_count": null,
   "id": "b9c7e3cf",
   "metadata": {},
   "outputs": [],
   "source": [
    "circ_data = qsharp.circuit(qsharp.code.Main)\n",
    "Circuit(circ_data)"
   ]
  },
  {
   "cell_type": "code",
   "execution_count": null,
   "id": "8b7f18ab",
   "metadata": {},
   "outputs": [],
   "source": [
    "start = time.time()\n",
    "results = qsharp.run(qsharp.code.Main, shots=10)\n",
    "end = time.time()\n",
    "print(f\"Execution time: {end - start:.2f} seconds\")\n",
    "\n",
    "Histogram(results)"
   ]
  },
  {
   "cell_type": "code",
   "execution_count": null,
   "id": "238d9508",
   "metadata": {},
   "outputs": [],
   "source": [
    "ising = qsharp.compile(qsharp.code.Main)\n",
    "prog = QirOps(ising)\n",
    "prog.transpose()\n",
    "display(Circuit(prog))"
   ]
  },
  {
   "cell_type": "code",
   "execution_count": null,
   "id": "73f35076",
   "metadata": {},
   "outputs": [],
   "source": [
    "# Default noise model predefines common gates but without any noise\n",
    "noise = create_default_noise_model()\n",
    "\n",
    "# Add amplitude damping noise to the noise model\n",
    "noise.add_kraus_operator(\"amp_damp_015\", amplitude_damping_kraus(0.01))\n",
    "noise.update_gate_noise(\"sx\", \"amp_damp_015\")\n",
    "noise.update_gate_noise(\"rz\", \"amp_damp_015\")\n",
    "\n",
    "# Let's assume moving stuff into the zone for CZ gates is lossy too\n",
    "noise.update_gate_loss(\"cz\", 0.005)\n",
    "\n",
    "# The noisy simulator runs on QIR, so compile to QIR first.\n",
    "sim = Simulator(noise_model=noise)\n",
    "\n",
    "start = time.time()\n",
    "results = to_results(sim.run(ising, shots=10))\n",
    "end = time.time()\n",
    "print(f\"Execution time: {end - start:.2f} seconds\")\n",
    "\n",
    "Histogram(results)"
   ]
  },
  {
   "cell_type": "code",
   "execution_count": null,
   "id": "056d6d80",
   "metadata": {},
   "outputs": [],
   "source": [
    "circ = prog.to_qiskit_circuit()\n",
    "\n",
    "error = qiskit_aer.noise.amplitude_damping_error(0.15)\n",
    "noise = qiskit_aer.noise.NoiseModel()\n",
    "noise.add_all_qubit_quantum_error(error, ['sx', 'rz'])\n",
    "\n",
    "simulator = qiskit_aer.AerSimulator(method='statevector', noise_model=noise)\n",
    "start = time.time()\n",
    "result = simulator.run(circ, shots=10, memory=True).result()\n",
    "memory = result.get_memory(circ)\n",
    "end = time.time()\n",
    "print(f\"Execution time: {end - start:.2f} seconds\")\n",
    "\n",
    "shots = to_results(memory)\n",
    "Histogram(shots)"
   ]
  }
 ],
 "metadata": {
  "kernelspec": {
   "display_name": ".venv",
   "language": "python",
   "name": "python3"
  },
  "language_info": {
   "codemirror_mode": {
    "name": "ipython",
    "version": 3
   },
   "file_extension": ".py",
   "mimetype": "text/x-python",
   "name": "python",
   "nbconvert_exporter": "python",
   "pygments_lexer": "ipython3",
   "version": "3.13.5"
  }
 },
 "nbformat": 4,
 "nbformat_minor": 5
}
