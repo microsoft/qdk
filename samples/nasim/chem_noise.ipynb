{
 "cells": [
  {
   "cell_type": "code",
   "execution_count": null,
   "id": "d267ceba",
   "metadata": {},
   "outputs": [],
   "source": [
    "from qsharp import init, code, circuit, TargetProfile, BitFlipNoise\n",
    "import qsharp.openqasm as qasm\n",
    "from qsharp_widgets import Circuit, Histogram"
   ]
  },
  {
   "cell_type": "code",
   "execution_count": null,
   "id": "582684a0",
   "metadata": {},
   "outputs": [],
   "source": [
    "init(target_profile=TargetProfile.Base)\n",
    "\n",
    "# Read the QASM source file into a string and load it\n",
    "with open(\"4e4o_ethylene_2det.qasm\", \"r\") as file:\n",
    "    qasm_src = file.read()\n",
    "qasm.import_openqasm(qasm_src, name=\"ethylene\")\n",
    "\n",
    "circ_data = circuit(code.ethylene)\n",
    "Circuit(circ_data)\n"
   ]
  },
  {
   "cell_type": "code",
   "execution_count": null,
   "id": "7dcfd0ca",
   "metadata": {},
   "outputs": [],
   "source": [
    "# Run without any noise\n",
    "Histogram(qasm.run(code.ethylene, shots=1000))"
   ]
  },
  {
   "cell_type": "code",
   "execution_count": null,
   "id": "0df89776",
   "metadata": {},
   "outputs": [],
   "source": [
    "# Run with some Pauli (only) noise and qubit loss (both apply equally to all operations)\n",
    "# This is built in the sparse simulator that also runs in VS Code today\n",
    "results = qasm.run(code.ethylene, shots=1000, noise=BitFlipNoise(0.01), qubit_loss=0.01)\n",
    "Histogram(results)"
   ]
  },
  {
   "cell_type": "code",
   "execution_count": null,
   "id": "f0be09c4",
   "metadata": {},
   "outputs": [],
   "source": [
    "# Run with a noise model for different noise (including non-Pauli) and qubit loss per operation\n",
    "# NOTE: 'nasm' is a separate package just this demo. It's just a few Python scripts we'd put in the existing QDK.\n",
    "\n",
    "from nasm import Simulator, create_default_noise_model, amplitude_damping_kraus, to_results\n",
    "\n",
    "\n",
    "# Default noise model predefines common gates but without any noise\n",
    "noise = create_default_noise_model()\n",
    "\n",
    "# Add amplitude damping noise to the noise model\n",
    "noise.add_kraus_operator(\"amp_damp_015\", amplitude_damping_kraus(0.25))\n",
    "noise.update_gate_noise(\"sx\", \"amp_damp_015\")\n",
    "noise.update_gate_noise(\"rz\", \"amp_damp_015\")\n",
    "\n",
    "# Let's assume moving stuff into the zone for CZ gates is lossy too\n",
    "noise.update_gate_loss(\"cz\", 0.01)\n",
    "\n",
    "# The noisy simulator runs on QIR, so compile to QIR first.\n",
    "qir = qasm.compile(qasm_src)\n",
    "sim = Simulator(noise_model=noise)\n",
    "results = to_results(sim.run(qir, shots=1000))\n",
    "\n",
    "Histogram(results)"
   ]
  }
 ],
 "metadata": {
  "kernelspec": {
   "display_name": ".venv",
   "language": "python",
   "name": "python3"
  },
  "language_info": {
   "codemirror_mode": {
    "name": "ipython",
    "version": 3
   },
   "file_extension": ".py",
   "mimetype": "text/x-python",
   "name": "python",
   "nbconvert_exporter": "python",
   "pygments_lexer": "ipython3",
   "version": "3.13.5"
  }
 },
 "nbformat": 4,
 "nbformat_minor": 5
}
