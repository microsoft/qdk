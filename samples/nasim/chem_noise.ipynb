{
 "cells": [
  {
   "cell_type": "code",
   "execution_count": 1,
   "id": "d267ceba",
   "metadata": {},
   "outputs": [
    {
     "data": {
      "application/javascript": "// Copyright (c) Microsoft Corporation.\n// Licensed under the MIT License.\n\n// This file provides CodeMirror syntax highlighting for Q# magic cells\n// in classic Jupyter Notebooks. It does nothing in other (Jupyter Notebook 7,\n// VS Code, Azure Notebooks, etc.) environments.\n\n// Detect the prerequisites and do nothing if they don't exist.\nif (window.require && window.CodeMirror && window.Jupyter) {\n  // The simple mode plugin for CodeMirror is not loaded by default, so require it.\n  window.require([\"codemirror/addon/mode/simple\"], function defineMode() {\n    let rules = [\n      {\n        token: \"comment\",\n        regex: /(\\/\\/).*/,\n        beginWord: false,\n      },\n      {\n        token: \"string\",\n        regex: String.raw`^\\\"(?:[^\\\"\\\\]|\\\\[\\s\\S])*(?:\\\"|$)`,\n        beginWord: false,\n      },\n      {\n        token: \"keyword\",\n        regex: String.raw`(namespace|open|as|operation|function|body|adjoint|newtype|controlled|internal)\\b`,\n        beginWord: true,\n      },\n      {\n        token: \"keyword\",\n        regex: String.raw`(if|elif|else|repeat|until|fixup|for|in|return|fail|within|apply)\\b`,\n        beginWord: true,\n      },\n      {\n        token: \"keyword\",\n        regex: String.raw`(Adjoint|Controlled|Adj|Ctl|is|self|auto|distribute|invert|intrinsic)\\b`,\n        beginWord: true,\n      },\n      {\n        token: \"keyword\",\n        regex: String.raw`(let|set|use|borrow|mutable)\\b`,\n        beginWord: true,\n      },\n      {\n        token: \"operatorKeyword\",\n        regex: String.raw`(not|and|or)\\b|(w/)`,\n        beginWord: true,\n      },\n      {\n        token: \"operatorKeyword\",\n        regex: String.raw`(=)|(!)|(<)|(>)|(\\+)|(-)|(\\*)|(/)|(\\^)|(%)|(\\|)|(&&&)|(~~~)|(\\.\\.\\.)|(\\.\\.)|(\\?)`,\n        beginWord: false,\n      },\n      {\n        token: \"meta\",\n        regex: String.raw`(Int|BigInt|Double|Bool|Qubit|Pauli|Result|Range|String|Unit)\\b`,\n        beginWord: true,\n      },\n      {\n        token: \"atom\",\n        regex: String.raw`(true|false|Pauli(I|X|Y|Z)|One|Zero)\\b`,\n        beginWord: true,\n      },\n    ];\n    let simpleRules = [];\n    for (let rule of rules) {\n      simpleRules.push({\n        token: rule.token,\n        regex: new RegExp(rule.regex, \"g\"),\n        sol: rule.beginWord,\n      });\n      if (rule.beginWord) {\n        // Need an additional rule due to the fact that CodeMirror simple mode doesn't work with ^ token\n        simpleRules.push({\n          token: rule.token,\n          regex: new RegExp(String.raw`\\W` + rule.regex, \"g\"),\n          sol: false,\n        });\n      }\n    }\n\n    // Register the mode defined above with CodeMirror\n    window.CodeMirror.defineSimpleMode(\"qsharp\", { start: simpleRules });\n    window.CodeMirror.defineMIME(\"text/x-qsharp\", \"qsharp\");\n\n    // Tell Jupyter to associate %%qsharp magic cells with the qsharp mode\n    window.Jupyter.CodeCell.options_default.highlight_modes[\"qsharp\"] = {\n      reg: [/^%%qsharp/],\n    };\n\n    // Force re-highlighting of all cells the first time this code runs\n    for (const cell of window.Jupyter.notebook.get_cells()) {\n      cell.auto_highlight();\n    }\n  });\n}\n",
      "text/plain": []
     },
     "metadata": {},
     "output_type": "display_data"
    }
   ],
   "source": [
    "from qsharp import init, code, circuit, TargetProfile, BitFlipNoise\n",
    "import qsharp.openqasm as qasm\n",
    "from qsharp_widgets import Circuit, Histogram"
   ]
  },
  {
   "cell_type": "code",
   "execution_count": 2,
   "id": "582684a0",
   "metadata": {},
   "outputs": [
    {
     "data": {
      "application/vnd.jupyter.widget-view+json": {
       "model_id": "a49fc4238edb43899b6a675d25a6d771",
       "version_major": 2,
       "version_minor": 1
      },
      "text/plain": [
       "Circuit(circuit_json='{\"qubits\":[{\"id\":0,\"numResults\":1},{\"id\":1,\"numResults\":1},{\"id\":2,\"numResults\":0},{\"id\"…"
      ]
     },
     "execution_count": 2,
     "metadata": {},
     "output_type": "execute_result"
    }
   ],
   "source": [
    "init(target_profile=TargetProfile.Base)\n",
    "\n",
    "# Read the QASM source file into a string and load it\n",
    "with open(\"4e4o_ethylene_2det.qasm\", \"r\") as file:\n",
    "    qasm_src = file.read()\n",
    "qasm.import_openqasm(qasm_src, name=\"ethylene\")\n",
    "\n",
    "circ_data = circuit(code.ethylene)\n",
    "Circuit(circ_data)"
   ]
  },
  {
   "cell_type": "code",
   "execution_count": 3,
   "id": "7dcfd0ca",
   "metadata": {},
   "outputs": [
    {
     "data": {
      "application/vnd.jupyter.widget-view+json": {
       "model_id": "4fd0fff3347f4fd696eab82b295928f4",
       "version_major": 2,
       "version_minor": 1
      },
      "text/plain": [
       "Histogram(buckets={'[One, Zero]': 966, '[Zero, One]': 34}, shot_count=1000)"
      ]
     },
     "execution_count": 3,
     "metadata": {},
     "output_type": "execute_result"
    }
   ],
   "source": [
    "# Run without any noise\n",
    "Histogram(qasm.run(code.ethylene, shots=1000))"
   ]
  },
  {
   "cell_type": "code",
   "execution_count": 4,
   "id": "0df89776",
   "metadata": {},
   "outputs": [
    {
     "data": {
      "application/vnd.jupyter.widget-view+json": {
       "model_id": "fd977c9f86e44dcb9774d0c09f0bc250",
       "version_major": 2,
       "version_minor": 1
      },
      "text/plain": [
       "Histogram(buckets={'[One, Zero]': 720, '[Loss, Zero]': 73, '[Zero, One]': 48, '[Zero, Zero]': 58, '[Loss, One]…"
      ]
     },
     "execution_count": 4,
     "metadata": {},
     "output_type": "execute_result"
    }
   ],
   "source": [
    "# Run with some Pauli (only) noise and qubit loss (both apply equally to all operations)\n",
    "# This is built in the sparse simulator that also runs in VS Code today\n",
    "results = qasm.run(code.ethylene, shots=1000, noise=BitFlipNoise(0.01), qubit_loss=0.01)\n",
    "Histogram(results)"
   ]
  },
  {
   "cell_type": "code",
   "execution_count": null,
   "id": "f0be09c4",
   "metadata": {},
   "outputs": [
    {
     "data": {
      "application/vnd.jupyter.widget-view+json": {
       "model_id": "10ad29644c2f41989315cb0731ce2bec",
       "version_major": 2,
       "version_minor": 1
      },
      "text/plain": [
       "Histogram(buckets={'[Loss, Loss]': 44, '[One, Zero]': 426, '[Loss, Zero]': 140, '[Zero, Zero]': 169, '[Zero, L…"
      ]
     },
     "execution_count": 6,
     "metadata": {},
     "output_type": "execute_result"
    }
   ],
   "source": [
    "# Run with a noise model for different noise (including non-Pauli) and qubit loss per operation\n",
    "# NOTE: 'nasm' is a separate package just this demo. It's just a few Python scripts we'd put in the existing QDK.\n",
    "\n",
    "from nasm import Simulator, create_default_noise_model, amplitude_damping_kraus, to_results\n",
    "\n",
    "\n",
    "# Default noise model predefines common gates but without any noise\n",
    "noise = create_default_noise_model()\n",
    "\n",
    "# Add amplitude damping noise to the noise model\n",
    "noise.add_kraus_operator(\"amp_damp_015\", amplitude_damping_kraus(0.15))\n",
    "noise.update_gate_noise(\"sx\", \"amp_damp_015\")\n",
    "noise.update_gate_noise(\"rz\", \"amp_damp_015\")\n",
    "\n",
    "# Let's assume moving stuff into the zone for CZ gates is lossy too\n",
    "noise.update_gate_loss(\"cz\", 0.1)\n",
    "\n",
    "# The noisy simulator runs on QIR, so compile to QIR first.\n",
    "qir = qasm.compile(qasm_src)\n",
    "sim = Simulator(noise_model=noise)\n",
    "results = to_results(sim.run(qir, shots=1000))\n",
    "\n",
    "Histogram(results)"
   ]
  }
 ],
 "metadata": {
  "kernelspec": {
   "display_name": ".venv",
   "language": "python",
   "name": "python3"
  },
  "language_info": {
   "codemirror_mode": {
    "name": "ipython",
    "version": 3
   },
   "file_extension": ".py",
   "mimetype": "text/x-python",
   "name": "python",
   "nbconvert_exporter": "python",
   "pygments_lexer": "ipython3",
   "version": "3.13.5"
  }
 },
 "nbformat": 4,
 "nbformat_minor": 5
}
