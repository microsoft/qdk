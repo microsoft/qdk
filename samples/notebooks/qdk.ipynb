{
 "cells": [
  {
   "cell_type": "markdown",
   "id": "746adee2",
   "metadata": {},
   "source": [
    "# Basic qdk usage\n",
    "This section demonstrates the minimal core functionality: running an inline Q# snippet."
   ]
  },
  {
   "cell_type": "code",
   "execution_count": null,
   "id": "b5f1355d",
   "metadata": {},
   "outputs": [],
   "source": [
    "from qdk import qsharp\n",
    "bell_inline = \"{ use (a, b) = (Qubit(), Qubit()); H(a); CNOT(a,b); let r1 = MResetZ(a); let r2 = MResetZ(b); return [r1, r2]; }\"\n",
    "print('Single-shot bell:', qsharp.run(bell_inline, shots=1))\n",
    "print('Multi-shot bell counts:', qsharp.run(bell_inline, shots=8))"
   ]
  },
  {
   "cell_type": "markdown",
   "id": "ee054bc5",
   "metadata": {},
   "source": [
    "## OpenQASM integration\n",
    "The following cells use the OpenQASM surface. Widgets referenced later are optional and require the jupyter extra."
   ]
  },
  {
   "cell_type": "code",
   "execution_count": null,
   "id": "c20b9ab1",
   "metadata": {},
   "outputs": [],
   "source": [
    "from qdk.openqasm import run as qasm_run, compile as qasm_compile\n",
    "\n",
    "qasm_source = \"\"\"\n",
    "    include \"stdgates.inc\";\n",
    "    bit[2] c;\n",
    "    qubit[2] q;\n",
    "    h q[0];\n",
    "    cx q[0], q[1];\n",
    "    c = measure q;\n",
    "\"\"\"\n",
    "\n",
    "print('QASM run counts:', qasm_run(qasm_source, shots=10, as_bitstring=True))\n",
    "print('Compiled QASM to QIR:')\n",
    "print(str(qasm_compile(qasm_source, as_bitstring=True)))"
   ]
  },
  {
   "cell_type": "markdown",
   "id": "8bee6b70",
   "metadata": {},
   "source": [
    "## QASM and code"
   ]
  },
  {
   "cell_type": "code",
   "execution_count": null,
   "id": "253f3b44",
   "metadata": {},
   "outputs": [],
   "source": [
    "from qdk import code\n",
    "from qdk.openqasm import import_openqasm\n",
    "\n",
    "bell_qasm = \"\"\"\n",
    "    include \"stdgates.inc\";\n",
    "    bit[2] c;\n",
    "    qubit[2] q;\n",
    "    h q[0];\n",
    "    cx q[0], q[1];\n",
    "    c = measure q;\n",
    "\"\"\"\n",
    "\n",
    "import_openqasm(bell_qasm, name=\"bell\")\n",
    "print('Invoking imported OpenQASM as Q# callable:')\n",
    "print(code.bell())"
   ]
  },
  {
   "cell_type": "code",
   "execution_count": null,
   "id": "ae62fc8c",
   "metadata": {},
   "outputs": [],
   "source": [
    "# Optional widgets (requires qdk[jupyter])\n",
    "from qdk.openqasm import circuit\n",
    "from qdk.widgets import Circuit\n",
    "from qdk import code\n",
    "\n",
    "Circuit(circuit(code.bell))"
   ]
  },
  {
   "cell_type": "markdown",
   "id": "ad272e34",
   "metadata": {},
   "source": [
    "## Qiskit integration (requires qdk[qiskit] extra)"
   ]
  },
  {
   "cell_type": "code",
   "execution_count": null,
   "id": "1ce82c8e",
   "metadata": {},
   "outputs": [],
   "source": [
    "from qiskit import QuantumCircuit\n",
    "import numpy as np\n",
    "\n",
    "circuit = QuantumCircuit(2, 2)\n",
    "circuit.name = \"state_prep\"\n",
    "\n",
    "# State vector to initialize: |ψ⟩ = (|0⟩ - |1⟩) / √2\n",
    "circuit.initialize([1 / np.sqrt(2), -1 / np.sqrt(2)], 0)\n",
    "circuit.h(0)\n",
    "circuit.measure(0, 0)\n",
    "\n",
    "circuit.prepare_state([1 / np.sqrt(2), -1 / np.sqrt(2)], 1)\n",
    "circuit.h(1)\n",
    "circuit.measure(1, 1)\n",
    "circuit.draw(output='text')"
   ]
  },
  {
   "cell_type": "code",
   "execution_count": null,
   "id": "b54a8930",
   "metadata": {},
   "outputs": [],
   "source": [
    "from qdk import TargetProfile\n",
    "from qdk.qiskit import QSharpBackend\n",
    "\n",
    "backend = QSharpBackend(target_profile=TargetProfile.Adaptive_RI)\n",
    "job = backend.run(circuit)\n",
    "job.result().get_counts()"
   ]
  },
  {
   "cell_type": "code",
   "execution_count": null,
   "id": "a728e279",
   "metadata": {},
   "outputs": [],
   "source": [
    "print(backend.qir(circuit))"
   ]
  },
  {
   "cell_type": "markdown",
   "id": "241dab0c",
   "metadata": {},
   "source": [
    "## Azure submission (requires qdk[azure] extra)"
   ]
  },
  {
   "cell_type": "code",
   "execution_count": null,
   "id": "e3dc8ea0",
   "metadata": {},
   "outputs": [],
   "source": [
    "# Configuration placeholders (not executed against a real service in this sample)\n",
    "subscription_id = 'xxxxxxxx-xxxx-xxxx-xxxx-xxxxxxxxxxxx'\n",
    "resource_group = 'myresourcegroup'\n",
    "workspace_name = 'myworkspace'\n",
    "location = 'westus'"
   ]
  },
  {
   "cell_type": "code",
   "execution_count": null,
   "id": "822a19b1",
   "metadata": {},
   "outputs": [],
   "source": [
    "from qdk import TargetProfile\n",
    "from qdk.qsharp import init, eval, compile\n",
    "from qdk.azure import Workspace\n",
    "\n",
    "init(target_profile=TargetProfile.Base)\n",
    "\n",
    "eval(\"operation Main() : Result { use q = Qubit(); H(q); return M(q);}\")\n",
    "operation = compile(\"Main()\")\n",
    "\n",
    "workspace = Workspace(\n",
    "    subscription_id=subscription_id,\n",
    "    resource_group=resource_group,\n",
    "    name=workspace_name,\n",
    "    location=location,\n",
    " )\n",
    "target = workspace.get_targets(\"rigetti.sim.qvm\")\n",
    "print(target)\n",
    "job = target.submit(operation, \"my-azure-quantum-job\", shots=100)\n",
    "print(job.get_results())"
   ]
  }
 ],
 "metadata": {
  "kernelspec": {
   "display_name": ".venv",
   "language": "python",
   "name": "python3"
  },
  "language_info": {
   "codemirror_mode": {
    "name": "ipython",
    "version": 3
   },
   "file_extension": ".py",
   "mimetype": "text/x-python",
   "name": "python",
   "nbconvert_exporter": "python",
   "pygments_lexer": "ipython3",
   "version": "3.13.7"
  }
 },
 "nbformat": 4,
 "nbformat_minor": 5
}
