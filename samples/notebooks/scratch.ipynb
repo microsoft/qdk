{
 "cells": [
  {
   "cell_type": "code",
   "execution_count": 1,
   "id": "9a1060f6",
   "metadata": {},
   "outputs": [
    {
     "data": {
      "application/javascript": "// Copyright (c) Microsoft Corporation.\n// Licensed under the MIT License.\n\n// This file provides CodeMirror syntax highlighting for Q# magic cells\n// in classic Jupyter Notebooks. It does nothing in other (Jupyter Notebook 7,\n// VS Code, Azure Notebooks, etc.) environments.\n\n// Detect the prerequisites and do nothing if they don't exist.\nif (window.require && window.CodeMirror && window.Jupyter) {\n  // The simple mode plugin for CodeMirror is not loaded by default, so require it.\n  window.require([\"codemirror/addon/mode/simple\"], function defineMode() {\n    let rules = [\n      {\n        token: \"comment\",\n        regex: /(\\/\\/).*/,\n        beginWord: false,\n      },\n      {\n        token: \"string\",\n        regex: String.raw`^\\\"(?:[^\\\"\\\\]|\\\\[\\s\\S])*(?:\\\"|$)`,\n        beginWord: false,\n      },\n      {\n        token: \"keyword\",\n        regex: String.raw`(namespace|open|as|operation|function|body|adjoint|newtype|controlled|internal)\\b`,\n        beginWord: true,\n      },\n      {\n        token: \"keyword\",\n        regex: String.raw`(if|elif|else|repeat|until|fixup|for|in|return|fail|within|apply)\\b`,\n        beginWord: true,\n      },\n      {\n        token: \"keyword\",\n        regex: String.raw`(Adjoint|Controlled|Adj|Ctl|is|self|auto|distribute|invert|intrinsic)\\b`,\n        beginWord: true,\n      },\n      {\n        token: \"keyword\",\n        regex: String.raw`(let|set|use|borrow|mutable)\\b`,\n        beginWord: true,\n      },\n      {\n        token: \"operatorKeyword\",\n        regex: String.raw`(not|and|or)\\b|(w/)`,\n        beginWord: true,\n      },\n      {\n        token: \"operatorKeyword\",\n        regex: String.raw`(=)|(!)|(<)|(>)|(\\+)|(-)|(\\*)|(/)|(\\^)|(%)|(\\|)|(&&&)|(~~~)|(\\.\\.\\.)|(\\.\\.)|(\\?)`,\n        beginWord: false,\n      },\n      {\n        token: \"meta\",\n        regex: String.raw`(Int|BigInt|Double|Bool|Qubit|Pauli|Result|Range|String|Unit)\\b`,\n        beginWord: true,\n      },\n      {\n        token: \"atom\",\n        regex: String.raw`(true|false|Pauli(I|X|Y|Z)|One|Zero)\\b`,\n        beginWord: true,\n      },\n    ];\n    let simpleRules = [];\n    for (let rule of rules) {\n      simpleRules.push({\n        token: rule.token,\n        regex: new RegExp(rule.regex, \"g\"),\n        sol: rule.beginWord,\n      });\n      if (rule.beginWord) {\n        // Need an additional rule due to the fact that CodeMirror simple mode doesn't work with ^ token\n        simpleRules.push({\n          token: rule.token,\n          regex: new RegExp(String.raw`\\W` + rule.regex, \"g\"),\n          sol: false,\n        });\n      }\n    }\n\n    // Register the mode defined above with CodeMirror\n    window.CodeMirror.defineSimpleMode(\"qsharp\", { start: simpleRules });\n    window.CodeMirror.defineMIME(\"text/x-qsharp\", \"qsharp\");\n\n    // Tell Jupyter to associate %%qsharp magic cells with the qsharp mode\n    window.Jupyter.CodeCell.options_default.highlight_modes[\"qsharp\"] = {\n      reg: [/^%%qsharp/],\n    };\n\n    // Force re-highlighting of all cells the first time this code runs\n    for (const cell of window.Jupyter.notebook.get_cells()) {\n      cell.auto_highlight();\n    }\n  });\n}\n",
      "text/plain": []
     },
     "metadata": {},
     "output_type": "display_data"
    }
   ],
   "source": [
    "import qsharp"
   ]
  },
  {
   "cell_type": "code",
   "execution_count": 2,
   "id": "34335369",
   "metadata": {
    "vscode": {
     "languageId": "qsharp"
    }
   },
   "outputs": [],
   "source": [
    "%%qsharp\n",
    "\n",
    "use qs = Qubit[3];\n",
    "use aux = Qubit();\n",
    "\n",
    "// This will be invoked first to set up some entangled state\n",
    "operation PrepState(qs: Qubit[], aux: Qubit) : Unit {\n",
    "    H(qs[0]);\n",
    "    // CNOT(qs[0], qs[1]);\n",
    "    // SX(qs[1]);\n",
    "    // CNOT(qs[1], qs[2]);\n",
    "}\n",
    "\n",
    "// This will be called to prepare and measure an auxiliary qubit\n",
    "operation ParityCheck(qs: Qubit[], aux: Qubit) : Result {\n",
    "    H(qs[0]);\n",
    "    return M(qs[0]);\n",
    "}\n",
    "\n",
    "// This will be called with the result of the post-processing\n",
    "operation PostClassical(qs: Qubit[], action: Int) : Unit {\n",
    "    if (action == 1) {\n",
    "        H(qs[0]);\n",
    "    } elif action == 2 {\n",
    "        SX(qs[1]);\n",
    "    } else {\n",
    "         Z(qs[1]);\n",
    "    }\n",
    "}\n",
    "\n",
    "// Return the measurement of the main qubit register, and reset all qubits to the |0⟩ state\n",
    "operation Finalize(qs: Qubit[], aux: Qubit) : Result[] {\n",
    "    MResetZ(aux);\n",
    "    return MResetEachZ(qs);\n",
    "}"
   ]
  },
  {
   "cell_type": "code",
   "execution_count": 3,
   "id": "58e37e97",
   "metadata": {},
   "outputs": [
    {
     "name": "stdout",
     "output_type": "stream",
     "text": [
      "Iteration 1: Parity Check Result = Zero\n",
      "Iteration 1: Result = [Zero, Zero, Zero]\n",
      "Iteration 2: Parity Check Result = Zero\n",
      "Iteration 2: Result = [Zero, Zero, Zero]\n",
      "Iteration 3: Parity Check Result = Zero\n",
      "Iteration 3: Result = [Zero, Zero, Zero]\n",
      "Iteration 4: Parity Check Result = Zero\n",
      "Iteration 4: Result = [Zero, Zero, Zero]\n",
      "Iteration 5: Parity Check Result = Zero\n",
      "Iteration 5: Result = [One, Zero, Zero]\n"
     ]
    }
   ],
   "source": [
    "# Do 5 iterations of the quantum circuit\n",
    "for i in range(5):\n",
    "    # Do the initial quantum execution\n",
    "    qsharp.eval(f\"PrepState(qs, aux)\")\n",
    "\n",
    "    result = qsharp.eval(f\"ParityCheck(qs, aux)\")\n",
    "    print(f\"Iteration {i+1}: Parity Check Result = {result}\")\n",
    "    # Do some post-classical processing based on the result\n",
    "    if result:\n",
    "        qsharp.eval(\"PostClassical(qs, 1)\")\n",
    "    else:\n",
    "        qsharp.eval(\"PostClassical(qs, 2)\")\n",
    "    # etc..\n",
    "\n",
    "    # Call back in to continue the quantum circuit\n",
    "    result = qsharp.eval(\"Finalize(qs, aux)\")\n",
    "    print(f\"Iteration {i+1}: Result = {result}\")\n"
   ]
  }
 ],
 "metadata": {
  "kernelspec": {
   "display_name": ".venv",
   "language": "python",
   "name": "python3"
  },
  "language_info": {
   "codemirror_mode": {
    "name": "ipython",
    "version": 3
   },
   "file_extension": ".py",
   "mimetype": "text/x-python",
   "name": "python",
   "nbconvert_exporter": "python",
   "pygments_lexer": "ipython3",
   "version": "3.13.7"
  }
 },
 "nbformat": 4,
 "nbformat_minor": 5
}
