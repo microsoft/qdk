{
 "cells": [
  {
   "cell_type": "markdown",
   "metadata": {},
   "source": [
    "# Iterative Phase Estimation via the Cloud\n",
    "\n",
    "This sample code and notebook was written by members of KPMG Quantum team in Australia. It aims to demonstrate expanded capabilities of targets that support adaptive quantum computing, also known as integrated hybrid computing. It makes use of bounded loops, classical function calls, nested conditional if statements, mid-program measurements and qubit reuse.\n",
    "\n",
    "## Two Dimensional Inner Product Calculation Using Iterative Phase Estimation on Three Qubits\n",
    "\n",
    "This notebook demonstrates an iterative phase estimation within Q#. It will use iterative phase estimation to calculate an inner product between two 2-dimensional vectors encoded on a target qubit and an ancilla qubit. An additional control qubit is also initialised which will be the only qubit used for measurement.\n",
    "\n",
    "The circuit begins by encoding the pair of vectors on the target qubit and the ancilla qubit. It then applies an Oracle operator to the entire register, controlled off the control qubit (which is set up in the $\\\\ket +$ state). The controlled Oracle operator generates a phase on the $\\\\ket 1$ state of the control qubit. This can then be read by applying a H gate to the control qubit to make the phase observable when measuring."
   ]
  },
  {
   "cell_type": "code",
   "execution_count": null,
   "metadata": {},
   "outputs": [],
   "source": [
    "# Run this cell first to enable the \"%%qsharp\" magic command used in later cells\n",
    "import qsharp"
   ]
  },
  {
   "cell_type": "markdown",
   "metadata": {},
   "source": [
    "The below cell shows Q# being written directly inside a Jupyter Notebook using the `%%qsharp` 'magic' command"
   ]
  },
  {
   "cell_type": "code",
   "execution_count": null,
   "metadata": {
    "vscode": {
     "languageId": "qsharp"
    }
   },
   "outputs": [],
   "source": [
    "%%qsharp\n",
    "\n",
    "// This makes the DumpMachine() function available.\n",
    "open Microsoft.Quantum.Diagnostics;\n",
    "\n",
    "operation RandomBit() : Result {\n",
    "    // Qubits are only accesible for the duration of the scope where they\n",
    "    // are allocated and are automatically released at the end of the scope.\n",
    "    use qubit = Qubit();\n",
    "\n",
    "    // Set the qubit in superposition by applying a Hadamard transformation.\n",
    "    H(qubit);\n",
    "\n",
    "    DumpMachine();\n",
    "\n",
    "    // Measure the qubit. There is a 50% probability of measuring either\n",
    "    // \"Zero\" or \"One\".\n",
    "    let result = M(qubit);\n",
    "\n",
    "    Message($\"The result of the measurement is {result}.\");\n",
    "\n",
    "    // Reset the qubit so it can be safely released.\n",
    "    Reset(qubit);\n",
    "    return result;\n",
    "}\n",
    "\n",
    "// Call the operation we defined above.\n",
    "RandomBit();\n"
   ]
  },
  {
   "cell_type": "markdown",
   "metadata": {},
   "source": [
    "As well as invoking Q# operations immediately inline (as the last line in the cell above does), the defined operations can also be invoked from Python"
   ]
  },
  {
   "cell_type": "code",
   "execution_count": null,
   "metadata": {},
   "outputs": [],
   "source": [
    "r = qsharp.eval(\"RandomBit()\")\n",
    "\n",
    "if r == qsharp.Result.One:\n",
    "    i = 1\n",
    "else:\n",
    "    i = 0\n",
    "\n",
    "print(f\"Python: Got integer {i}!\")\n"
   ]
  },
  {
   "cell_type": "code",
   "execution_count": null,
   "metadata": {},
   "outputs": [],
   "source": [
    "%matplotlib widget\n",
    "\n",
    "import matplotlib.pyplot as plt\n",
    "import numpy as np\n",
    "from collections import Counter\n",
    "\n",
    "results = qsharp.run(\"RandomBit()\", shots=1000)\n",
    "# Sort the results so that the histogram labels appear in the correct order\n",
    "results.sort()\n",
    "# Count the number of times each result appears\n",
    "counts = Counter(results)\n",
    "\n",
    "(values, counts) = counts.keys(), counts.values()\n",
    "xlabels = np.arange(len(counts))\n",
    "plt.title(\"RandomBit() Results\")\n",
    "plt.bar(xlabels, counts)\n",
    "plt.xticks(xlabels, values)\n",
    "plt.show()\n",
    "      "
   ]
  },
  {
   "cell_type": "markdown",
   "metadata": {},
   "source": [
    "## Submitting jobs to Azure Quantum\n",
    "\n",
    "Different quantum hardware supports different capabilities, but all Azure Quantum providers support the 'base profile'\n",
    "as defined in the 'Quantum Intermediate Representation' (QIR) specification. (For more details see <https://aka.ms/qdk.qir>)\n",
    "\n",
    "To develop code using this base profile, reintialize the Q# compiler, connect to your Azure Quantum workspace, and submit the job.\n"
   ]
  },
  {
   "cell_type": "code",
   "execution_count": null,
   "metadata": {},
   "outputs": [],
   "source": [
    "# Reset the compiler to target the 'base profile' that all hardware supports\n",
    "\n",
    "qsharp.init(target_profile=qsharp.TargetProfile.Base)\n"
   ]
  },
  {
   "cell_type": "code",
   "execution_count": null,
   "metadata": {},
   "outputs": [],
   "source": [
    "# Connect to the Azure Quantum workspace\n",
    "\n",
    "# If developing locally, on first run this will open a browser to authenticate the\n",
    "# connection with Azure. In remote scenarios, such as SSH or Codespaces, it may\n",
    "# be necesssary to install the Azure CLI and run 'az login --use-device-code' to\n",
    "# authenticate. For unattended scenarios, such as batch jobs, a service principal\n",
    "# should be configured and used for authentication. For more information, see\n",
    "# https://learn.microsoft.com/en-us/azure/developer/python/sdk/authentication-overview\n",
    "\n",
    "import azure.quantum\n",
    "\n",
    "workspace = azure.quantum.Workspace(\n",
    "    subscription_id = \"MY_SUBSCRIPTION_ID\",\n",
    "    resource_group = \"MY_RESOURCE_GROUP\",\n",
    "    name = \"MY_WORKSPACE_NAME\",\n",
    "    location = \"MY_WORKSPACE_LOCATION\",\n",
    ")\n"
   ]
  },
  {
   "cell_type": "code",
   "execution_count": null,
   "metadata": {
    "vscode": {
     "languageId": "qsharp"
    }
   },
   "outputs": [],
   "source": [
    "%%qsharp\n",
    "\n",
    "operation Random() : Result {\n",
    "    use q = Qubit();\n",
    "    H(q);\n",
    "    let result = M(q);\n",
    "    Reset(q);\n",
    "    return result\n",
    "}\n",
    "\n",
    "operation RandomNBits(N: Int): Result[] {\n",
    "    mutable results = [];\n",
    "    for i in 0 .. N - 1 {\n",
    "        let r = Random();\n",
    "        set results += [r];\n",
    "    }\n",
    "    return results\n",
    "}\n"
   ]
  },
  {
   "cell_type": "code",
   "execution_count": null,
   "metadata": {},
   "outputs": [],
   "source": [
    "# Run the above code for 100 shots against the Rigetti simulator\n",
    "\n",
    "operation = qsharp.compile(\"RandomNBits(4)\")\n",
    "target = workspace.get_targets(\"rigetti.sim.qvm\")\n",
    "job = target.submit(operation, \"my-azure-quantum-job\", shots=100)\n",
    "\n",
    "# Wait for the job to complete\n",
    "job.get_results()\n"
   ]
  }
 ],
 "metadata": {
  "kernelspec": {
   "display_name": "Python 3",
   "language": "python",
   "name": "python3"
  },
  "language_info": {
   "codemirror_mode": {
    "name": "ipython",
    "version": 3
   },
   "file_extension": ".py",
   "mimetype": "text/x-python",
   "name": "python",
   "nbconvert_exporter": "python",
   "pygments_lexer": "ipython3",
   "version": "3.11.3"
  }
 },
 "nbformat": 4,
 "nbformat_minor": 2
}
