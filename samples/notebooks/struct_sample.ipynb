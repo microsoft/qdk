{
 "cells": [
  {
   "cell_type": "code",
   "execution_count": 3,
   "id": "a9562f75",
   "metadata": {},
   "outputs": [
    {
     "name": "stdout",
     "output_type": "stream",
     "text": [
      "5\n"
     ]
    }
   ],
   "source": [
    "import qsharp\n",
    "\n",
    "qsharp.eval(\"\"\"\n",
    "    function Add(a : Int, b : Int) : Int {\n",
    "        return a + b;\n",
    "    }\n",
    "    \"\"\")\n",
    "\n",
    "from qsharp.code import Add\n",
    "\n",
    "print(Add(2, 3))"
   ]
  },
  {
   "cell_type": "code",
   "execution_count": null,
   "id": "a907cf17",
   "metadata": {},
   "outputs": [
    {
     "name": "stdout",
     "output_type": "stream",
     "text": [
      "5\n"
     ]
    }
   ],
   "source": [
    "import qsharp\n",
    "\n",
    "qsharp.eval(\"\"\"\n",
    "    struct Data {\n",
    "        first: Int,\n",
    "        second: Int,\n",
    "    }\n",
    "    \n",
    "    /// Receives and repackages data.\n",
    "    function AddData(data : (Int, Int)) : Int {\n",
    "        let (first, second) = data;\n",
    "        let a = new Data { first = first, second = second };\n",
    "        return AddDataImpl(a);\n",
    "    }\n",
    "    \n",
    "    /// Actual function.\n",
    "    function AddDataImpl(a : Data) : Int {\n",
    "        return a.first + a.second;\n",
    "    }\n",
    "    \"\"\")\n",
    "\n",
    "from qsharp.code import AddData\n",
    "\n",
    "data = (2, 3)\n",
    "print(AddData(data))"
   ]
  },
  {
   "cell_type": "code",
   "execution_count": null,
   "id": "c49cc578",
   "metadata": {},
   "outputs": [
    {
     "name": "stdout",
     "output_type": "stream",
     "text": [
      "5\n"
     ]
    }
   ],
   "source": [
    "import qsharp\n",
    "from dataclasses import dataclass\n",
    "\n",
    "qsharp.eval(\"\"\"\n",
    "    struct Data {\n",
    "        first: Int,\n",
    "        second: Int,\n",
    "    }\n",
    "            \n",
    "    function AddData(a : Data) : Int {\n",
    "        return a.first + a.second;\n",
    "    }\n",
    "    \"\"\")\n",
    "\n",
    "from qsharp.code import AddData\n",
    "\n",
    "@dataclass\n",
    "class Data:\n",
    "    first: int\n",
    "    second: int\n",
    "\n",
    "data = Data(2, 3)\n",
    "print(AddData(data))"
   ]
  }
 ],
 "metadata": {
  "kernelspec": {
   "display_name": "Python 3",
   "language": "python",
   "name": "python3"
  },
  "language_info": {
   "codemirror_mode": {
    "name": "ipython",
    "version": 3
   },
   "file_extension": ".py",
   "mimetype": "text/x-python",
   "name": "python",
   "nbconvert_exporter": "python",
   "pygments_lexer": "ipython3",
   "version": "3.12.10"
  }
 },
 "nbformat": 4,
 "nbformat_minor": 5
}
