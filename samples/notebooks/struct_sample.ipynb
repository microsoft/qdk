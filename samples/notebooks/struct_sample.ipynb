{
 "cells": [
  {
   "cell_type": "markdown",
   "id": "719810bc",
   "metadata": {},
   "source": [
    " ### Before"
   ]
  },
  {
   "cell_type": "code",
   "execution_count": null,
   "id": "a907cf17",
   "metadata": {},
   "outputs": [],
   "source": [
    "import qsharp\n",
    "\n",
    "qsharp.eval(\"\"\"\n",
    "    struct Data {\n",
    "        first: Int,\n",
    "        second: Int,\n",
    "    }\n",
    "    \n",
    "    /// Receives and repackages data.\n",
    "    function AddData(data : (Int, Int)) : Int {\n",
    "        let (first, second) = data;\n",
    "        let a = new Data { first = first, second = second };\n",
    "        return AddDataImpl(a);\n",
    "    }\n",
    "    \n",
    "    /// Actual function.\n",
    "    function AddDataImpl(a : Data) : Int {\n",
    "        return a.first + a.second;\n",
    "    }\n",
    "    \"\"\")\n",
    "\n",
    "from qsharp.code import AddData\n",
    "\n",
    "data = (2, 3)\n",
    "print(AddData(data))"
   ]
  },
  {
   "cell_type": "markdown",
   "id": "209b0aec",
   "metadata": {},
   "source": [
    "### Now"
   ]
  },
  {
   "cell_type": "code",
   "execution_count": null,
   "id": "b46a2318",
   "metadata": {},
   "outputs": [],
   "source": [
    "import qsharp\n",
    "\n",
    "qsharp.eval(\"\"\"\n",
    "    struct Data {\n",
    "        first: Int,\n",
    "        second: Int,\n",
    "    }\n",
    "            \n",
    "    function AddData(a : Data) : Int {\n",
    "        return a.first + a.second;\n",
    "    }\n",
    "    \"\"\")\n",
    "\n",
    "from qsharp.code import Data, AddData\n",
    "\n",
    "data = Data(2, 3)\n",
    "print(AddData(data))"
   ]
  },
  {
   "cell_type": "code",
   "execution_count": 7,
   "id": "c49cc578",
   "metadata": {},
   "outputs": [
    {
     "name": "stdout",
     "output_type": "stream",
     "text": [
      "9\n"
     ]
    }
   ],
   "source": [
    "import qsharp\n",
    "\n",
    "qsharp.eval(\"\"\"\n",
    "    struct Data {\n",
    "        first: Int,\n",
    "        more_data: MoreData,\n",
    "    }\n",
    "    \n",
    "    struct MoreData {\n",
    "        a: Int,\n",
    "        b: Int,\n",
    "    }\n",
    "            \n",
    "    function AddData(a : Data) : Int {\n",
    "        return a.first + a.more_data.a + a.more_data.b;\n",
    "    }\n",
    "    \"\"\")\n",
    "\n",
    "from qsharp.code import Data, MoreData, AddData\n",
    "\n",
    "data = Data(2, MoreData(3, 4))\n",
    "print(AddData(data))"
   ]
  },
  {
   "cell_type": "code",
   "execution_count": null,
   "id": "108ba9c9",
   "metadata": {},
   "outputs": [
    {
     "data": {
      "text/plain": [
       "Data(second=2, third=1, first=3)"
      ]
     },
     "execution_count": 5,
     "metadata": {},
     "output_type": "execute_result"
    }
   ],
   "source": [
    "import qsharp\n",
    "\n",
    "qsharp.eval(\"\"\"\n",
    "    struct Data {\n",
    "        first: Int,\n",
    "        second: Int,\n",
    "        third: Int,\n",
    "    }\n",
    "    \n",
    "    function SwapData(a : Data) : Data {\n",
    "        new Data { first = a.third, second = a.second, third = a.first }\n",
    "    }\n",
    "    \"\"\")\n",
    "\n",
    "from qsharp.code import Data, SwapData\n",
    "\n",
    "SwapData(Data(1, 2, 3))"
   ]
  },
  {
   "cell_type": "code",
   "execution_count": 6,
   "id": "7c0e659d",
   "metadata": {},
   "outputs": [
    {
     "data": {
      "text/plain": [
       "(3+2j)"
      ]
     },
     "execution_count": 6,
     "metadata": {},
     "output_type": "execute_result"
    }
   ],
   "source": [
    "import qsharp\n",
    "\n",
    "qsharp.eval(\"\"\"\n",
    "    import Std.Math.Complex;\n",
    "\n",
    "    function SwapComponents(c: Complex) : Complex {\n",
    "        new Complex { Real = c.Imag, Imag = c.Real }\n",
    "    }\n",
    "    \"\"\")\n",
    "\n",
    "from qsharp.code import SwapComponents\n",
    "\n",
    "SwapComponents(2 + 3j)"
   ]
  }
 ],
 "metadata": {
  "kernelspec": {
   "display_name": "Python 3",
   "language": "python",
   "name": "python3"
  },
  "language_info": {
   "codemirror_mode": {
    "name": "ipython",
    "version": 3
   },
   "file_extension": ".py",
   "mimetype": "text/x-python",
   "name": "python",
   "nbconvert_exporter": "python",
   "pygments_lexer": "ipython3",
   "version": "3.12.10"
  }
 },
 "nbformat": 4,
 "nbformat_minor": 5
}
