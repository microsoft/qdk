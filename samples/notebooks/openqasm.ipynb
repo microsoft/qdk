{
  "cells": [
    {
      "cell_type": "markdown",
      "id": "ae56fce0",
      "metadata": {},
      "source": [
        "# Q# Interop with OpenQASM"
      ]
    },
    {
      "cell_type": "markdown",
      "id": "2b838c23",
      "metadata": {},
      "source": [
        "The modern QDK provides interoperability with OpenQASM 3 programs built upon the core Q# compiler infrastructure.\n",
        "\n",
        "This core enables integration and local resource estimation without relying on external tools. Users are able to estimate resources for their OpenQASM programs locally (see the [resource estimation with OpenQASM sample notebook](../../estimation/estimation-openqasm.ipynb)), leveraging the Q# compiler's capabilities for analysis, transformation, code generation, and simulation. This also enables the generation of QIR from OpenQASM progams leveraging the [modern QDKs advanced code generation capabilities](https://devblogs.microsoft.com/qsharp/integrated-hybrid-support-in-the-azure-quantum-development-kit/).\n",
        "\n",
        "This includes support for classical instructions available in OpenQASM such as for loops, if statements, switch statements, while loops, binary expresssions, and more.\n",
        "\n",
        "### Simulating OpenQASM programs"
      ]
    },
    {
      "cell_type": "code",
      "execution_count": null,
      "id": "016b3815",
      "metadata": {},
      "outputs": [],
      "source": [
        "from qsharp.openqasm import run\n",
        "\n",
        "source = \"\"\"\n",
        "include \"stdgates.inc\";\n",
        "bit[2] c;\n",
        "qubit[2] q;\n",
        "h q[0];\n",
        "cx q[0], q[1];\n",
        "c = measure q;\n",
        "\"\"\"\n",
        "\n",
        "run(source, as_bitstring=True)"
      ]
    },
    {
      "cell_type": "markdown",
      "id": "9fed5ba5",
      "metadata": {},
      "source": [
        "Import the Q# module.\n",
        "\n",
        "This enables the `%%qsharp` magic and initializes a Q# interpreter singleton."
      ]
    },
    {
      "cell_type": "code",
      "execution_count": null,
      "id": "75b8b81b",
      "metadata": {},
      "outputs": [],
      "source": [
        "import qsharp\n",
        "qsharp.init(target_profile=qsharp.TargetProfile.Base)"
      ]
    },
    {
      "cell_type": "markdown",
      "id": "95d82f22",
      "metadata": {},
      "source": [
        "### Run OpenQASM 3 Code in interactive session\n",
        "Interactive sessions have different semantics from program execution. We no longer have inferred output and input. Instead we treat qasm lines as code fragments and interpret them one at a time (though they are all compiled together). Due to scoping rules in qasm3, all code used in the the program must be defined in the snippet and can't use compilation state from other cells or calls.\n",
        "\n",
        "We can add an optional name parameter to compile the program into a callable operation in the interactive session."
      ]
    },
    {
      "cell_type": "code",
      "execution_count": null,
      "id": "012cc902",
      "metadata": {},
      "outputs": [],
      "source": [
        "from qsharp.openqasm import import_openqasm\n",
        "\n",
        "source = \"\"\"\n",
        "include \"stdgates.inc\";\n",
        "bit[2] c;\n",
        "qubit[2] q;\n",
        "h q[0];\n",
        "cx q[0], q[1];\n",
        "c = measure q;\n",
        "\"\"\"\n",
        "\n",
        "import_openqasm(source, name=\"bell\")"
      ]
    },
    {
      "cell_type": "markdown",
      "id": "b95a0c8b",
      "metadata": {},
      "source": [
        "With the OpenQASM program loaded into a callable name `bell`, we can now import it via the QDK's Python bindings:"
      ]
    },
    {
      "cell_type": "code",
      "execution_count": null,
      "id": "db043bda",
      "metadata": {},
      "outputs": [],
      "source": [
        "from qsharp.code import bell\n",
        "bell()"
      ]
    },
    {
      "cell_type": "markdown",
      "id": "8db074dc",
      "metadata": {},
      "source": [
        "Additionally, since it is defined in the session, we can run it directly from a Q# cell:"
      ]
    },
    {
      "cell_type": "code",
      "execution_count": null,
      "id": "ad6d0331",
      "metadata": {
        "vscode": {
          "languageId": "qsharp"
        }
      },
      "outputs": [],
      "source": [
        "%%qsharp\n",
        "bell()"
      ]
    },
    {
      "cell_type": "markdown",
      "id": "6578cadc",
      "metadata": {},
      "source": [
        "This also unlocks all of the other `qsharp` package functionality. Like noisy simulation:"
      ]
    },
    {
      "cell_type": "code",
      "execution_count": null,
      "id": "5bbd6d92",
      "metadata": {},
      "outputs": [],
      "source": [
        "from qsharp_widgets import Histogram\n",
        "\n",
        "Histogram(qsharp.run(\"bell()\", shots=1000, noise=qsharp.DepolarizingNoise(0.01)))"
      ]
    },
    {
      "cell_type": "markdown",
      "id": "85d48772",
      "metadata": {},
      "source": [
        "Circuit rendering:"
      ]
    },
    {
      "cell_type": "code",
      "execution_count": null,
      "id": "a0a50634",
      "metadata": {},
      "outputs": [],
      "source": [
        "qsharp.circuit(qsharp.code.bell)"
      ]
    },
    {
      "cell_type": "markdown",
      "id": "5865ea0c",
      "metadata": {},
      "source": [
        "Circuit widget rendering:"
      ]
    },
    {
      "cell_type": "code",
      "execution_count": null,
      "id": "c3fc87ae",
      "metadata": {},
      "outputs": [],
      "source": [
        "from qsharp_widgets import Circuit\n",
        "Circuit(qsharp.circuit(qsharp.code.bell))"
      ]
    },
    {
      "cell_type": "markdown",
      "id": "0e1a29c8",
      "metadata": {},
      "source": [
        "Code generation:"
      ]
    },
    {
      "cell_type": "code",
      "execution_count": null,
      "id": "ec6db1e5",
      "metadata": {},
      "outputs": [],
      "source": [
        "print(qsharp.compile(bell))"
      ]
    },
    {
      "cell_type": "markdown",
      "id": "759f6a5e",
      "metadata": {},
      "source": [
        "We can also define input for the compiled OpenQASM code so that we can parameterize input:"
      ]
    },
    {
      "cell_type": "code",
      "execution_count": null,
      "id": "bd179f1a",
      "metadata": {},
      "outputs": [],
      "source": [
        "from qsharp.openqasm import import_openqasm\n",
        "\n",
        "source = \"\"\"\n",
        "include \"stdgates.inc\";\n",
        "input float theta;\n",
        "bit[2] c;\n",
        "qubit[2] q;\n",
        "rx(theta) q[0];\n",
        "rx(-theta) q[1];\n",
        "c = measure q;\n",
        "\"\"\"\n",
        "\n",
        "import_openqasm(source, name=\"parameterized_program\")\n"
      ]
    },
    {
      "cell_type": "code",
      "execution_count": null,
      "id": "5b7a97d2",
      "metadata": {},
      "outputs": [],
      "source": [
        "from qsharp.code import parameterized_program\n",
        "print(qsharp.compile(parameterized_program, 1.57))"
      ]
    }
  ],
  "metadata": {
    "kernelspec": {
      "display_name": ".venv",
      "language": "python",
      "name": "python3"
    },
    "language_info": {
      "codemirror_mode": {
        "name": "ipython",
        "version": 3
      },
      "file_extension": ".py",
      "mimetype": "text/x-python",
      "name": "python",
      "nbconvert_exporter": "python",
      "pygments_lexer": "ipython3",
      "version": "3.13.3"
    }
  },
  "nbformat": 4,
  "nbformat_minor": 5
}
