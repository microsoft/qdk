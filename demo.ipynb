{
 "cells": [
  {
   "cell_type": "code",
   "execution_count": 1,
   "id": "4b145728",
   "metadata": {},
   "outputs": [
    {
     "data": {
      "application/javascript": "// Copyright (c) Microsoft Corporation.\n// Licensed under the MIT License.\n\n// This file provides CodeMirror syntax highlighting for Q# magic cells\n// in classic Jupyter Notebooks. It does nothing in other (Jupyter Notebook 7,\n// VS Code, Azure Notebooks, etc.) environments.\n\n// Detect the prerequisites and do nothing if they don't exist.\nif (window.require && window.CodeMirror && window.Jupyter) {\n  // The simple mode plugin for CodeMirror is not loaded by default, so require it.\n  window.require([\"codemirror/addon/mode/simple\"], function defineMode() {\n    let rules = [\n      {\n        token: \"comment\",\n        regex: /(\\/\\/).*/,\n        beginWord: false,\n      },\n      {\n        token: \"string\",\n        regex: String.raw`^\\\"(?:[^\\\"\\\\]|\\\\[\\s\\S])*(?:\\\"|$)`,\n        beginWord: false,\n      },\n      {\n        token: \"keyword\",\n        regex: String.raw`(namespace|open|as|operation|function|body|adjoint|newtype|controlled|internal)\\b`,\n        beginWord: true,\n      },\n      {\n        token: \"keyword\",\n        regex: String.raw`(if|elif|else|repeat|until|fixup|for|in|return|fail|within|apply)\\b`,\n        beginWord: true,\n      },\n      {\n        token: \"keyword\",\n        regex: String.raw`(Adjoint|Controlled|Adj|Ctl|is|self|auto|distribute|invert|intrinsic)\\b`,\n        beginWord: true,\n      },\n      {\n        token: \"keyword\",\n        regex: String.raw`(let|set|use|borrow|mutable)\\b`,\n        beginWord: true,\n      },\n      {\n        token: \"operatorKeyword\",\n        regex: String.raw`(not|and|or)\\b|(w/)`,\n        beginWord: true,\n      },\n      {\n        token: \"operatorKeyword\",\n        regex: String.raw`(=)|(!)|(<)|(>)|(\\+)|(-)|(\\*)|(/)|(\\^)|(%)|(\\|)|(&&&)|(~~~)|(\\.\\.\\.)|(\\.\\.)|(\\?)`,\n        beginWord: false,\n      },\n      {\n        token: \"meta\",\n        regex: String.raw`(Int|BigInt|Double|Bool|Qubit|Pauli|Result|Range|String|Unit)\\b`,\n        beginWord: true,\n      },\n      {\n        token: \"atom\",\n        regex: String.raw`(true|false|Pauli(I|X|Y|Z)|One|Zero)\\b`,\n        beginWord: true,\n      },\n    ];\n    let simpleRules = [];\n    for (let rule of rules) {\n      simpleRules.push({\n        token: rule.token,\n        regex: new RegExp(rule.regex, \"g\"),\n        sol: rule.beginWord,\n      });\n      if (rule.beginWord) {\n        // Need an additional rule due to the fact that CodeMirror simple mode doesn't work with ^ token\n        simpleRules.push({\n          token: rule.token,\n          regex: new RegExp(String.raw`\\W` + rule.regex, \"g\"),\n          sol: false,\n        });\n      }\n    }\n\n    // Register the mode defined above with CodeMirror\n    window.CodeMirror.defineSimpleMode(\"qsharp\", { start: simpleRules });\n    window.CodeMirror.defineMIME(\"text/x-qsharp\", \"qsharp\");\n\n    // Tell Jupyter to associate %%qsharp magic cells with the qsharp mode\n    window.Jupyter.CodeCell.options_default.highlight_modes[\"qsharp\"] = {\n      reg: [/^%%qsharp/],\n    };\n\n    // Force re-highlighting of all cells the first time this code runs\n    for (const cell of window.Jupyter.notebook.get_cells()) {\n      cell.auto_highlight();\n    }\n  });\n}\n",
      "text/plain": []
     },
     "metadata": {},
     "output_type": "display_data"
    },
    {
     "data": {
      "application/x.qsharp-config": "{\"targetProfile\":\"base\",\"languageFeatures\":null,\"manifest\":null}",
      "text/plain": [
       "Q# initialized with configuration: {'targetProfile': 'base', 'languageFeatures': None, 'manifest': None}"
      ]
     },
     "execution_count": 1,
     "metadata": {},
     "output_type": "execute_result"
    }
   ],
   "source": [
    "import qsharp\n",
    "\n",
    "qsharp.init(target_profile=qsharp.TargetProfile.Base)"
   ]
  },
  {
   "cell_type": "code",
   "execution_count": 2,
   "id": "7651348e",
   "metadata": {
    "vscode": {
     "languageId": "qsharp"
    }
   },
   "outputs": [],
   "source": [
    "%%qsharp\n",
    "\n",
    "operation MyH(q: Qubit) : Unit {\n",
    "  Rz(3.141592653589793 / 2.0, q);\n",
    "  SX(q);\n",
    "  Rz(3.141592653589793 / 2.0, q);\n",
    "}\n",
    "\n",
    "operation MyCX(control: Qubit, target: Qubit) : Unit {\n",
    "  MyH(target);\n",
    "  CZ(control, target);\n",
    "  MyH(target);\n",
    "}\n",
    "\n",
    "operation Main() : Result[] {\n",
    "  use q = Qubit[2];\n",
    "\n",
    "  MyH(q[0]);\n",
    "  MyCX(q[0], q[1]);\n",
    "\n",
    "  return MResetEachZ(q);\n",
    "}"
   ]
  },
  {
   "cell_type": "code",
   "execution_count": 3,
   "id": "58795cd2",
   "metadata": {},
   "outputs": [
    {
     "data": {
      "application/vnd.jupyter.widget-view+json": {
       "model_id": "2cb6117e258b4a55a4f492e1a9a55273",
       "version_major": 2,
       "version_minor": 1
      },
      "text/plain": [
       "Circuit(circuit_json='{\"qubits\":[{\"id\":0,\"numResults\":1},{\"id\":1,\"numResults\":1}],\"componentGrid\":[{\"component…"
      ]
     },
     "execution_count": 3,
     "metadata": {},
     "output_type": "execute_result"
    }
   ],
   "source": [
    "from qsharp_widgets import Circuit\n",
    "\n",
    "Circuit(qsharp.circuit(qsharp.code.Main))"
   ]
  },
  {
   "cell_type": "code",
   "execution_count": 4,
   "id": "cf348b7d",
   "metadata": {},
   "outputs": [
    {
     "data": {
      "text/plain": [
       "[[Zero, Zero],\n",
       " [Zero, Zero],\n",
       " [Zero, Zero],\n",
       " [One, One],\n",
       " [One, One],\n",
       " [One, One],\n",
       " [One, One],\n",
       " [One, One],\n",
       " [One, One],\n",
       " [One, One]]"
      ]
     },
     "execution_count": 4,
     "metadata": {},
     "output_type": "execute_result"
    }
   ],
   "source": [
    "qsharp.run(qsharp.code.Main, shots=10)"
   ]
  },
  {
   "cell_type": "code",
   "execution_count": 5,
   "id": "191e1e73",
   "metadata": {},
   "outputs": [
    {
     "name": "stdout",
     "output_type": "stream",
     "text": [
      "00\n",
      "11\n",
      "11\n",
      "00\n",
      "11\n",
      "11\n",
      "11\n",
      "00\n",
      "11\n",
      "00\n"
     ]
    }
   ],
   "source": [
    "from nasm import Simulator, create_default_noise_model, amplitude_damping_kraus\n",
    "\n",
    "qir = qsharp.compile(qsharp.code.Main)\n",
    "\n",
    "noise = create_default_noise_model()\n",
    "sim = Simulator(noise_model=noise)\n",
    "results = sim.run(qir, shots=10)\n",
    "print(\"\\n\".join(results))\n"
   ]
  },
  {
   "cell_type": "code",
   "execution_count": 13,
   "id": "0242add4",
   "metadata": {},
   "outputs": [
    {
     "name": "stdout",
     "output_type": "stream",
     "text": [
      "00\n",
      "00\n",
      "10\n",
      "01\n",
      "00\n",
      "11\n",
      "10\n",
      "00\n",
      "11\n",
      "00\n"
     ]
    }
   ],
   "source": [
    "noise.add_kraus_operator(\"amp_damp_015\", amplitude_damping_kraus(0.15))\n",
    "noise.update_gate_noise(\"sx\", \"amp_damp_015\")\n",
    "noise.update_gate_noise(\"rz\", \"amp_damp_015\")\n",
    "\n",
    "results = sim.run(qir, shots=10)\n",
    "print(\"\\n\".join(results))\n"
   ]
  },
  {
   "cell_type": "code",
   "execution_count": 7,
   "id": "5b6a21cf",
   "metadata": {},
   "outputs": [],
   "source": [
    "# TODO: Qubit loss"
   ]
  }
 ],
 "metadata": {
  "kernelspec": {
   "display_name": ".venv",
   "language": "python",
   "name": "python3"
  },
  "language_info": {
   "codemirror_mode": {
    "name": "ipython",
    "version": 3
   },
   "file_extension": ".py",
   "mimetype": "text/x-python",
   "name": "python",
   "nbconvert_exporter": "python",
   "pygments_lexer": "ipython3",
   "version": "3.13.5"
  }
 },
 "nbformat": 4,
 "nbformat_minor": 5
}
